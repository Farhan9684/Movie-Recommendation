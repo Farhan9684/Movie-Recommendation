{
  "nbformat": 4,
  "nbformat_minor": 0,
  "metadata": {
    "colab": {
      "provenance": []
    },
    "kernelspec": {
      "name": "python3",
      "display_name": "Python 3"
    },
    "language_info": {
      "name": "python"
    }
  },
  "cells": [
    {
      "cell_type": "code",
      "execution_count": 3,
      "metadata": {
        "id": "zFEqJQ0bi5n_"
      },
      "outputs": [],
      "source": [
        "import pandas as pd\n",
        "import numpy as np"
      ]
    },
    {
      "cell_type": "markdown",
      "source": [
        "**import Dataset**"
      ],
      "metadata": {
        "id": "fKSYLvsZjPuU"
      }
    },
    {
      "cell_type": "code",
      "source": [
        "df=pd.read_csv(r'https://github.com/YBI-Foundation/Dataset/raw/main/Movies%20Recommendation.csv')"
      ],
      "metadata": {
        "id": "ex_uW9KTi-QC"
      },
      "execution_count": 6,
      "outputs": []
    },
    {
      "cell_type": "code",
      "source": [
        "df.head(10)"
      ],
      "metadata": {
        "colab": {
          "base_uri": "https://localhost:8080/",
          "height": 1000
        },
        "id": "yM2wSy1LjsuS",
        "outputId": "2db344f7-987b-4ebf-a88c-d5b833d3b25d"
      },
      "execution_count": 34,
      "outputs": [
        {
          "output_type": "execute_result",
          "data": {
            "text/plain": [
              "   Movie_ID                                        Movie_Title  \\\n",
              "0         1                                         Four Rooms   \n",
              "1         2                                          Star Wars   \n",
              "2         3                                       Finding Nemo   \n",
              "3         4                                       Forrest Gump   \n",
              "4         5                                    American Beauty   \n",
              "5         6                                 Dancer in the Dark   \n",
              "6         7                                  The Fifth Element   \n",
              "7         8                                         Metropolis   \n",
              "8         9                                 My Life Without Me   \n",
              "9        10  Pirates of the Caribbean: The Curse of the Bla...   \n",
              "\n",
              "                                         Movie_Genre Movie_Language  \\\n",
              "0                                       Crime Comedy             en   \n",
              "1                   Adventure Action Science Fiction             en   \n",
              "2                                   Animation Family             en   \n",
              "3                               Comedy Drama Romance             en   \n",
              "4                                              Drama             en   \n",
              "5                                  Drama Crime Music             en   \n",
              "6  Adventure Fantasy Action Thriller Science Fiction             en   \n",
              "7                              Drama Science Fiction             de   \n",
              "8                                      Drama Romance             en   \n",
              "9                           Adventure Fantasy Action             en   \n",
              "\n",
              "   Movie_Budget  Movie_Popularity Movie_Release_Date  Movie_Revenue  \\\n",
              "0       4000000         22.876230         09-12-1995        4300000   \n",
              "1      11000000        126.393695         25-05-1977      775398007   \n",
              "2      94000000         85.688789         30-05-2003      940335536   \n",
              "3      55000000        138.133331         06-07-1994      677945399   \n",
              "4      15000000         80.878605         15-09-1999      356296601   \n",
              "5      12800000         22.022228         17-05-2000       40031879   \n",
              "6      90000000        109.528572         07-05-1997      263920180   \n",
              "7      92620000         32.351527         10-01-1927         650422   \n",
              "8       4000000          7.958831         07-03-2003        9726954   \n",
              "9     140000000        271.972889         09-07-2003      655011224   \n",
              "\n",
              "   Movie_Runtime  Movie_Vote  ...  \\\n",
              "0           98.0         6.5  ...   \n",
              "1          121.0         8.1  ...   \n",
              "2          100.0         7.6  ...   \n",
              "3          142.0         8.2  ...   \n",
              "4          122.0         7.9  ...   \n",
              "5          140.0         7.6  ...   \n",
              "6          126.0         7.3  ...   \n",
              "7          153.0         8.0  ...   \n",
              "8          106.0         7.2  ...   \n",
              "9          143.0         7.5  ...   \n",
              "\n",
              "                                      Movie_Homepage  \\\n",
              "0                                                NaN   \n",
              "1  http://www.starwars.com/films/star-wars-episod...   \n",
              "2              http://movies.disney.com/finding-nemo   \n",
              "3                                                NaN   \n",
              "4                      http://www.dreamworks.com/ab/   \n",
              "5                                                NaN   \n",
              "6                                                NaN   \n",
              "7                                                NaN   \n",
              "8  http://www.clubcultura.com/clubcine/clubcineas...   \n",
              "9  http://disney.go.com/disneyvideos/liveaction/p...   \n",
              "\n",
              "                                      Movie_Keywords  \\\n",
              "0          hotel new year's eve witch bet hotel room   \n",
              "1        android galaxy hermit death star lightsaber   \n",
              "2  father son relationship harbor underwater fish...   \n",
              "3  vietnam veteran hippie mentally disabled runni...   \n",
              "4  male nudity female nudity adultery midlife cri...   \n",
              "5      individual dancing usa robbery factory worker   \n",
              "6                     clone taxi cyborg egypt future   \n",
              "7  man vs machine underground world inventor metr...   \n",
              "8  farewell responsability dying and death night ...   \n",
              "9  exotic island blacksmith east india trading co...   \n",
              "\n",
              "                                      Movie_Overview  \\\n",
              "0  It's Ted the Bellhop's first night on the job....   \n",
              "1  Princess Leia is captured and held hostage by ...   \n",
              "2  Nemo, an adventurous young clownfish, is unexp...   \n",
              "3  A man with a low IQ has accomplished great thi...   \n",
              "4  Lester Burnham, a depressed suburban father in...   \n",
              "5  Selma, a Czech immigrant on the verge of blind...   \n",
              "6  In 2257, a taxi driver is unintentionally give...   \n",
              "7  In a futuristic city sharply divided between t...   \n",
              "8  A Pedro Almodovar production in which a fatall...   \n",
              "9  Jack Sparrow, a freewheeling 17th-century pira...   \n",
              "\n",
              "                              Movie_Production_House  \\\n",
              "0  [{\"name\": \"Miramax Films\", \"id\": 14}, {\"name\":...   \n",
              "1  [{\"name\": \"Lucasfilm\", \"id\": 1}, {\"name\": \"Twe...   \n",
              "2     [{\"name\": \"Pixar Animation Studios\", \"id\": 3}]   \n",
              "3          [{\"name\": \"Paramount Pictures\", \"id\": 4}]   \n",
              "4  [{\"name\": \"DreamWorks SKG\", \"id\": 27}, {\"name\"...   \n",
              "5  [{\"name\": \"Fine Line Features\", \"id\": 8}, {\"na...   \n",
              "6  [{\"name\": \"Columbia Pictures\", \"id\": 5}, {\"nam...   \n",
              "7  [{\"name\": \"Paramount Pictures\", \"id\": 4}, {\"na...   \n",
              "8  [{\"name\": \"El Deseo\", \"id\": 49}, {\"name\": \"Mil...   \n",
              "9  [{\"name\": \"Walt Disney Pictures\", \"id\": 2}, {\"...   \n",
              "\n",
              "                            Movie_Production_Country  \\\n",
              "0  [{\"iso_3166_1\": \"US\", \"name\": \"United States o...   \n",
              "1  [{\"iso_3166_1\": \"US\", \"name\": \"United States o...   \n",
              "2  [{\"iso_3166_1\": \"US\", \"name\": \"United States o...   \n",
              "3  [{\"iso_3166_1\": \"US\", \"name\": \"United States o...   \n",
              "4  [{\"iso_3166_1\": \"US\", \"name\": \"United States o...   \n",
              "5  [{\"iso_3166_1\": \"AR\", \"name\": \"Argentina\"}, {\"...   \n",
              "6           [{\"iso_3166_1\": \"FR\", \"name\": \"France\"}]   \n",
              "7          [{\"iso_3166_1\": \"DE\", \"name\": \"Germany\"}]   \n",
              "8  [{\"iso_3166_1\": \"CA\", \"name\": \"Canada\"}, {\"iso...   \n",
              "9  [{\"iso_3166_1\": \"US\", \"name\": \"United States o...   \n",
              "\n",
              "                               Movie_Spoken_Language  \\\n",
              "0           [{\"iso_639_1\": \"en\", \"name\": \"English\"}]   \n",
              "1           [{\"iso_639_1\": \"en\", \"name\": \"English\"}]   \n",
              "2           [{\"iso_639_1\": \"en\", \"name\": \"English\"}]   \n",
              "3           [{\"iso_639_1\": \"en\", \"name\": \"English\"}]   \n",
              "4           [{\"iso_639_1\": \"en\", \"name\": \"English\"}]   \n",
              "5           [{\"iso_639_1\": \"en\", \"name\": \"English\"}]   \n",
              "6  [{\"iso_639_1\": \"en\", \"name\": \"English\"}, {\"iso...   \n",
              "7       [{\"iso_639_1\": \"xx\", \"name\": \"No Language\"}]   \n",
              "8           [{\"iso_639_1\": \"en\", \"name\": \"English\"}]   \n",
              "9           [{\"iso_639_1\": \"en\", \"name\": \"English\"}]   \n",
              "\n",
              "                                       Movie_Tagline  \\\n",
              "0  Twelve outrageous guests. Four scandalous requ...   \n",
              "1       A long time ago in a galaxy far, far away...   \n",
              "2  There are 3.7 trillion fish in the ocean, they...   \n",
              "3  The world will never be the same, once you've ...   \n",
              "4                                       Look closer.   \n",
              "5                        You don't need eyes to see.   \n",
              "6                     There is no future without it.   \n",
              "7  There can be no understanding between the hand...   \n",
              "8                                                NaN   \n",
              "9              Prepare to be blown out of the water.   \n",
              "\n",
              "                                          Movie_Cast  \\\n",
              "0  Tim Roth Antonio Banderas Jennifer Beals Madon...   \n",
              "1  Mark Hamill Harrison Ford Carrie Fisher Peter ...   \n",
              "2  Albert Brooks Ellen DeGeneres Alexander Gould ...   \n",
              "3  Tom Hanks Robin Wright Gary Sinise Mykelti Wil...   \n",
              "4  Kevin Spacey Annette Bening Thora Birch Wes Be...   \n",
              "5  Bj\\u00f6rk Catherine Deneuve David Morse Peter...   \n",
              "6  Bruce Willis Gary Oldman Ian Holm Milla Jovovi...   \n",
              "7  Brigitte Helm Alfred Abel Gustav Fr\\u00f6hlich...   \n",
              "8  Sarah Polley Amanda Plummer Scott Speedman Leo...   \n",
              "9  Johnny Depp Geoffrey Rush Orlando Bloom Keira ...   \n",
              "\n",
              "                                          Movie_Crew   Movie_Director  \n",
              "0  [{'name': 'Allison Anders', 'gender': 1, 'depa...   Allison Anders  \n",
              "1  [{'name': 'George Lucas', 'gender': 2, 'depart...     George Lucas  \n",
              "2  [{'name': 'Andrew Stanton', 'gender': 2, 'depa...   Andrew Stanton  \n",
              "3  [{'name': 'Alan Silvestri', 'gender': 2, 'depa...  Robert Zemeckis  \n",
              "4  [{'name': 'Thomas Newman', 'gender': 2, 'depar...       Sam Mendes  \n",
              "5  [{'name': 'Lars von Trier', 'gender': 2, 'depa...   Lars von Trier  \n",
              "6  [{'name': 'Luc Besson', 'gender': 2, 'departme...       Luc Besson  \n",
              "7  [{'name': 'Erich Pommer', 'gender': 2, 'depart...       Fritz Lang  \n",
              "8  [{'name': 'Isabel Coixet', 'gender': 1, 'depar...    Isabel Coixet  \n",
              "9  [{'name': 'Arthur Schmidt', 'gender': 2, 'depa...   Gore Verbinski  \n",
              "\n",
              "[10 rows x 21 columns]"
            ],
            "text/html": [
              "\n",
              "  <div id=\"df-6b131eb4-d17b-4236-ae76-c332ebf91c4c\" class=\"colab-df-container\">\n",
              "    <div>\n",
              "<style scoped>\n",
              "    .dataframe tbody tr th:only-of-type {\n",
              "        vertical-align: middle;\n",
              "    }\n",
              "\n",
              "    .dataframe tbody tr th {\n",
              "        vertical-align: top;\n",
              "    }\n",
              "\n",
              "    .dataframe thead th {\n",
              "        text-align: right;\n",
              "    }\n",
              "</style>\n",
              "<table border=\"1\" class=\"dataframe\">\n",
              "  <thead>\n",
              "    <tr style=\"text-align: right;\">\n",
              "      <th></th>\n",
              "      <th>Movie_ID</th>\n",
              "      <th>Movie_Title</th>\n",
              "      <th>Movie_Genre</th>\n",
              "      <th>Movie_Language</th>\n",
              "      <th>Movie_Budget</th>\n",
              "      <th>Movie_Popularity</th>\n",
              "      <th>Movie_Release_Date</th>\n",
              "      <th>Movie_Revenue</th>\n",
              "      <th>Movie_Runtime</th>\n",
              "      <th>Movie_Vote</th>\n",
              "      <th>...</th>\n",
              "      <th>Movie_Homepage</th>\n",
              "      <th>Movie_Keywords</th>\n",
              "      <th>Movie_Overview</th>\n",
              "      <th>Movie_Production_House</th>\n",
              "      <th>Movie_Production_Country</th>\n",
              "      <th>Movie_Spoken_Language</th>\n",
              "      <th>Movie_Tagline</th>\n",
              "      <th>Movie_Cast</th>\n",
              "      <th>Movie_Crew</th>\n",
              "      <th>Movie_Director</th>\n",
              "    </tr>\n",
              "  </thead>\n",
              "  <tbody>\n",
              "    <tr>\n",
              "      <th>0</th>\n",
              "      <td>1</td>\n",
              "      <td>Four Rooms</td>\n",
              "      <td>Crime Comedy</td>\n",
              "      <td>en</td>\n",
              "      <td>4000000</td>\n",
              "      <td>22.876230</td>\n",
              "      <td>09-12-1995</td>\n",
              "      <td>4300000</td>\n",
              "      <td>98.0</td>\n",
              "      <td>6.5</td>\n",
              "      <td>...</td>\n",
              "      <td>NaN</td>\n",
              "      <td>hotel new year's eve witch bet hotel room</td>\n",
              "      <td>It's Ted the Bellhop's first night on the job....</td>\n",
              "      <td>[{\"name\": \"Miramax Films\", \"id\": 14}, {\"name\":...</td>\n",
              "      <td>[{\"iso_3166_1\": \"US\", \"name\": \"United States o...</td>\n",
              "      <td>[{\"iso_639_1\": \"en\", \"name\": \"English\"}]</td>\n",
              "      <td>Twelve outrageous guests. Four scandalous requ...</td>\n",
              "      <td>Tim Roth Antonio Banderas Jennifer Beals Madon...</td>\n",
              "      <td>[{'name': 'Allison Anders', 'gender': 1, 'depa...</td>\n",
              "      <td>Allison Anders</td>\n",
              "    </tr>\n",
              "    <tr>\n",
              "      <th>1</th>\n",
              "      <td>2</td>\n",
              "      <td>Star Wars</td>\n",
              "      <td>Adventure Action Science Fiction</td>\n",
              "      <td>en</td>\n",
              "      <td>11000000</td>\n",
              "      <td>126.393695</td>\n",
              "      <td>25-05-1977</td>\n",
              "      <td>775398007</td>\n",
              "      <td>121.0</td>\n",
              "      <td>8.1</td>\n",
              "      <td>...</td>\n",
              "      <td>http://www.starwars.com/films/star-wars-episod...</td>\n",
              "      <td>android galaxy hermit death star lightsaber</td>\n",
              "      <td>Princess Leia is captured and held hostage by ...</td>\n",
              "      <td>[{\"name\": \"Lucasfilm\", \"id\": 1}, {\"name\": \"Twe...</td>\n",
              "      <td>[{\"iso_3166_1\": \"US\", \"name\": \"United States o...</td>\n",
              "      <td>[{\"iso_639_1\": \"en\", \"name\": \"English\"}]</td>\n",
              "      <td>A long time ago in a galaxy far, far away...</td>\n",
              "      <td>Mark Hamill Harrison Ford Carrie Fisher Peter ...</td>\n",
              "      <td>[{'name': 'George Lucas', 'gender': 2, 'depart...</td>\n",
              "      <td>George Lucas</td>\n",
              "    </tr>\n",
              "    <tr>\n",
              "      <th>2</th>\n",
              "      <td>3</td>\n",
              "      <td>Finding Nemo</td>\n",
              "      <td>Animation Family</td>\n",
              "      <td>en</td>\n",
              "      <td>94000000</td>\n",
              "      <td>85.688789</td>\n",
              "      <td>30-05-2003</td>\n",
              "      <td>940335536</td>\n",
              "      <td>100.0</td>\n",
              "      <td>7.6</td>\n",
              "      <td>...</td>\n",
              "      <td>http://movies.disney.com/finding-nemo</td>\n",
              "      <td>father son relationship harbor underwater fish...</td>\n",
              "      <td>Nemo, an adventurous young clownfish, is unexp...</td>\n",
              "      <td>[{\"name\": \"Pixar Animation Studios\", \"id\": 3}]</td>\n",
              "      <td>[{\"iso_3166_1\": \"US\", \"name\": \"United States o...</td>\n",
              "      <td>[{\"iso_639_1\": \"en\", \"name\": \"English\"}]</td>\n",
              "      <td>There are 3.7 trillion fish in the ocean, they...</td>\n",
              "      <td>Albert Brooks Ellen DeGeneres Alexander Gould ...</td>\n",
              "      <td>[{'name': 'Andrew Stanton', 'gender': 2, 'depa...</td>\n",
              "      <td>Andrew Stanton</td>\n",
              "    </tr>\n",
              "    <tr>\n",
              "      <th>3</th>\n",
              "      <td>4</td>\n",
              "      <td>Forrest Gump</td>\n",
              "      <td>Comedy Drama Romance</td>\n",
              "      <td>en</td>\n",
              "      <td>55000000</td>\n",
              "      <td>138.133331</td>\n",
              "      <td>06-07-1994</td>\n",
              "      <td>677945399</td>\n",
              "      <td>142.0</td>\n",
              "      <td>8.2</td>\n",
              "      <td>...</td>\n",
              "      <td>NaN</td>\n",
              "      <td>vietnam veteran hippie mentally disabled runni...</td>\n",
              "      <td>A man with a low IQ has accomplished great thi...</td>\n",
              "      <td>[{\"name\": \"Paramount Pictures\", \"id\": 4}]</td>\n",
              "      <td>[{\"iso_3166_1\": \"US\", \"name\": \"United States o...</td>\n",
              "      <td>[{\"iso_639_1\": \"en\", \"name\": \"English\"}]</td>\n",
              "      <td>The world will never be the same, once you've ...</td>\n",
              "      <td>Tom Hanks Robin Wright Gary Sinise Mykelti Wil...</td>\n",
              "      <td>[{'name': 'Alan Silvestri', 'gender': 2, 'depa...</td>\n",
              "      <td>Robert Zemeckis</td>\n",
              "    </tr>\n",
              "    <tr>\n",
              "      <th>4</th>\n",
              "      <td>5</td>\n",
              "      <td>American Beauty</td>\n",
              "      <td>Drama</td>\n",
              "      <td>en</td>\n",
              "      <td>15000000</td>\n",
              "      <td>80.878605</td>\n",
              "      <td>15-09-1999</td>\n",
              "      <td>356296601</td>\n",
              "      <td>122.0</td>\n",
              "      <td>7.9</td>\n",
              "      <td>...</td>\n",
              "      <td>http://www.dreamworks.com/ab/</td>\n",
              "      <td>male nudity female nudity adultery midlife cri...</td>\n",
              "      <td>Lester Burnham, a depressed suburban father in...</td>\n",
              "      <td>[{\"name\": \"DreamWorks SKG\", \"id\": 27}, {\"name\"...</td>\n",
              "      <td>[{\"iso_3166_1\": \"US\", \"name\": \"United States o...</td>\n",
              "      <td>[{\"iso_639_1\": \"en\", \"name\": \"English\"}]</td>\n",
              "      <td>Look closer.</td>\n",
              "      <td>Kevin Spacey Annette Bening Thora Birch Wes Be...</td>\n",
              "      <td>[{'name': 'Thomas Newman', 'gender': 2, 'depar...</td>\n",
              "      <td>Sam Mendes</td>\n",
              "    </tr>\n",
              "    <tr>\n",
              "      <th>5</th>\n",
              "      <td>6</td>\n",
              "      <td>Dancer in the Dark</td>\n",
              "      <td>Drama Crime Music</td>\n",
              "      <td>en</td>\n",
              "      <td>12800000</td>\n",
              "      <td>22.022228</td>\n",
              "      <td>17-05-2000</td>\n",
              "      <td>40031879</td>\n",
              "      <td>140.0</td>\n",
              "      <td>7.6</td>\n",
              "      <td>...</td>\n",
              "      <td>NaN</td>\n",
              "      <td>individual dancing usa robbery factory worker</td>\n",
              "      <td>Selma, a Czech immigrant on the verge of blind...</td>\n",
              "      <td>[{\"name\": \"Fine Line Features\", \"id\": 8}, {\"na...</td>\n",
              "      <td>[{\"iso_3166_1\": \"AR\", \"name\": \"Argentina\"}, {\"...</td>\n",
              "      <td>[{\"iso_639_1\": \"en\", \"name\": \"English\"}]</td>\n",
              "      <td>You don't need eyes to see.</td>\n",
              "      <td>Bj\\u00f6rk Catherine Deneuve David Morse Peter...</td>\n",
              "      <td>[{'name': 'Lars von Trier', 'gender': 2, 'depa...</td>\n",
              "      <td>Lars von Trier</td>\n",
              "    </tr>\n",
              "    <tr>\n",
              "      <th>6</th>\n",
              "      <td>7</td>\n",
              "      <td>The Fifth Element</td>\n",
              "      <td>Adventure Fantasy Action Thriller Science Fiction</td>\n",
              "      <td>en</td>\n",
              "      <td>90000000</td>\n",
              "      <td>109.528572</td>\n",
              "      <td>07-05-1997</td>\n",
              "      <td>263920180</td>\n",
              "      <td>126.0</td>\n",
              "      <td>7.3</td>\n",
              "      <td>...</td>\n",
              "      <td>NaN</td>\n",
              "      <td>clone taxi cyborg egypt future</td>\n",
              "      <td>In 2257, a taxi driver is unintentionally give...</td>\n",
              "      <td>[{\"name\": \"Columbia Pictures\", \"id\": 5}, {\"nam...</td>\n",
              "      <td>[{\"iso_3166_1\": \"FR\", \"name\": \"France\"}]</td>\n",
              "      <td>[{\"iso_639_1\": \"en\", \"name\": \"English\"}, {\"iso...</td>\n",
              "      <td>There is no future without it.</td>\n",
              "      <td>Bruce Willis Gary Oldman Ian Holm Milla Jovovi...</td>\n",
              "      <td>[{'name': 'Luc Besson', 'gender': 2, 'departme...</td>\n",
              "      <td>Luc Besson</td>\n",
              "    </tr>\n",
              "    <tr>\n",
              "      <th>7</th>\n",
              "      <td>8</td>\n",
              "      <td>Metropolis</td>\n",
              "      <td>Drama Science Fiction</td>\n",
              "      <td>de</td>\n",
              "      <td>92620000</td>\n",
              "      <td>32.351527</td>\n",
              "      <td>10-01-1927</td>\n",
              "      <td>650422</td>\n",
              "      <td>153.0</td>\n",
              "      <td>8.0</td>\n",
              "      <td>...</td>\n",
              "      <td>NaN</td>\n",
              "      <td>man vs machine underground world inventor metr...</td>\n",
              "      <td>In a futuristic city sharply divided between t...</td>\n",
              "      <td>[{\"name\": \"Paramount Pictures\", \"id\": 4}, {\"na...</td>\n",
              "      <td>[{\"iso_3166_1\": \"DE\", \"name\": \"Germany\"}]</td>\n",
              "      <td>[{\"iso_639_1\": \"xx\", \"name\": \"No Language\"}]</td>\n",
              "      <td>There can be no understanding between the hand...</td>\n",
              "      <td>Brigitte Helm Alfred Abel Gustav Fr\\u00f6hlich...</td>\n",
              "      <td>[{'name': 'Erich Pommer', 'gender': 2, 'depart...</td>\n",
              "      <td>Fritz Lang</td>\n",
              "    </tr>\n",
              "    <tr>\n",
              "      <th>8</th>\n",
              "      <td>9</td>\n",
              "      <td>My Life Without Me</td>\n",
              "      <td>Drama Romance</td>\n",
              "      <td>en</td>\n",
              "      <td>4000000</td>\n",
              "      <td>7.958831</td>\n",
              "      <td>07-03-2003</td>\n",
              "      <td>9726954</td>\n",
              "      <td>106.0</td>\n",
              "      <td>7.2</td>\n",
              "      <td>...</td>\n",
              "      <td>http://www.clubcultura.com/clubcine/clubcineas...</td>\n",
              "      <td>farewell responsability dying and death night ...</td>\n",
              "      <td>A Pedro Almodovar production in which a fatall...</td>\n",
              "      <td>[{\"name\": \"El Deseo\", \"id\": 49}, {\"name\": \"Mil...</td>\n",
              "      <td>[{\"iso_3166_1\": \"CA\", \"name\": \"Canada\"}, {\"iso...</td>\n",
              "      <td>[{\"iso_639_1\": \"en\", \"name\": \"English\"}]</td>\n",
              "      <td>NaN</td>\n",
              "      <td>Sarah Polley Amanda Plummer Scott Speedman Leo...</td>\n",
              "      <td>[{'name': 'Isabel Coixet', 'gender': 1, 'depar...</td>\n",
              "      <td>Isabel Coixet</td>\n",
              "    </tr>\n",
              "    <tr>\n",
              "      <th>9</th>\n",
              "      <td>10</td>\n",
              "      <td>Pirates of the Caribbean: The Curse of the Bla...</td>\n",
              "      <td>Adventure Fantasy Action</td>\n",
              "      <td>en</td>\n",
              "      <td>140000000</td>\n",
              "      <td>271.972889</td>\n",
              "      <td>09-07-2003</td>\n",
              "      <td>655011224</td>\n",
              "      <td>143.0</td>\n",
              "      <td>7.5</td>\n",
              "      <td>...</td>\n",
              "      <td>http://disney.go.com/disneyvideos/liveaction/p...</td>\n",
              "      <td>exotic island blacksmith east india trading co...</td>\n",
              "      <td>Jack Sparrow, a freewheeling 17th-century pira...</td>\n",
              "      <td>[{\"name\": \"Walt Disney Pictures\", \"id\": 2}, {\"...</td>\n",
              "      <td>[{\"iso_3166_1\": \"US\", \"name\": \"United States o...</td>\n",
              "      <td>[{\"iso_639_1\": \"en\", \"name\": \"English\"}]</td>\n",
              "      <td>Prepare to be blown out of the water.</td>\n",
              "      <td>Johnny Depp Geoffrey Rush Orlando Bloom Keira ...</td>\n",
              "      <td>[{'name': 'Arthur Schmidt', 'gender': 2, 'depa...</td>\n",
              "      <td>Gore Verbinski</td>\n",
              "    </tr>\n",
              "  </tbody>\n",
              "</table>\n",
              "<p>10 rows × 21 columns</p>\n",
              "</div>\n",
              "    <div class=\"colab-df-buttons\">\n",
              "\n",
              "  <div class=\"colab-df-container\">\n",
              "    <button class=\"colab-df-convert\" onclick=\"convertToInteractive('df-6b131eb4-d17b-4236-ae76-c332ebf91c4c')\"\n",
              "            title=\"Convert this dataframe to an interactive table.\"\n",
              "            style=\"display:none;\">\n",
              "\n",
              "  <svg xmlns=\"http://www.w3.org/2000/svg\" height=\"24px\" viewBox=\"0 -960 960 960\">\n",
              "    <path d=\"M120-120v-720h720v720H120Zm60-500h600v-160H180v160Zm220 220h160v-160H400v160Zm0 220h160v-160H400v160ZM180-400h160v-160H180v160Zm440 0h160v-160H620v160ZM180-180h160v-160H180v160Zm440 0h160v-160H620v160Z\"/>\n",
              "  </svg>\n",
              "    </button>\n",
              "\n",
              "  <style>\n",
              "    .colab-df-container {\n",
              "      display:flex;\n",
              "      gap: 12px;\n",
              "    }\n",
              "\n",
              "    .colab-df-convert {\n",
              "      background-color: #E8F0FE;\n",
              "      border: none;\n",
              "      border-radius: 50%;\n",
              "      cursor: pointer;\n",
              "      display: none;\n",
              "      fill: #1967D2;\n",
              "      height: 32px;\n",
              "      padding: 0 0 0 0;\n",
              "      width: 32px;\n",
              "    }\n",
              "\n",
              "    .colab-df-convert:hover {\n",
              "      background-color: #E2EBFA;\n",
              "      box-shadow: 0px 1px 2px rgba(60, 64, 67, 0.3), 0px 1px 3px 1px rgba(60, 64, 67, 0.15);\n",
              "      fill: #174EA6;\n",
              "    }\n",
              "\n",
              "    .colab-df-buttons div {\n",
              "      margin-bottom: 4px;\n",
              "    }\n",
              "\n",
              "    [theme=dark] .colab-df-convert {\n",
              "      background-color: #3B4455;\n",
              "      fill: #D2E3FC;\n",
              "    }\n",
              "\n",
              "    [theme=dark] .colab-df-convert:hover {\n",
              "      background-color: #434B5C;\n",
              "      box-shadow: 0px 1px 3px 1px rgba(0, 0, 0, 0.15);\n",
              "      filter: drop-shadow(0px 1px 2px rgba(0, 0, 0, 0.3));\n",
              "      fill: #FFFFFF;\n",
              "    }\n",
              "  </style>\n",
              "\n",
              "    <script>\n",
              "      const buttonEl =\n",
              "        document.querySelector('#df-6b131eb4-d17b-4236-ae76-c332ebf91c4c button.colab-df-convert');\n",
              "      buttonEl.style.display =\n",
              "        google.colab.kernel.accessAllowed ? 'block' : 'none';\n",
              "\n",
              "      async function convertToInteractive(key) {\n",
              "        const element = document.querySelector('#df-6b131eb4-d17b-4236-ae76-c332ebf91c4c');\n",
              "        const dataTable =\n",
              "          await google.colab.kernel.invokeFunction('convertToInteractive',\n",
              "                                                    [key], {});\n",
              "        if (!dataTable) return;\n",
              "\n",
              "        const docLinkHtml = 'Like what you see? Visit the ' +\n",
              "          '<a target=\"_blank\" href=https://colab.research.google.com/notebooks/data_table.ipynb>data table notebook</a>'\n",
              "          + ' to learn more about interactive tables.';\n",
              "        element.innerHTML = '';\n",
              "        dataTable['output_type'] = 'display_data';\n",
              "        await google.colab.output.renderOutput(dataTable, element);\n",
              "        const docLink = document.createElement('div');\n",
              "        docLink.innerHTML = docLinkHtml;\n",
              "        element.appendChild(docLink);\n",
              "      }\n",
              "    </script>\n",
              "  </div>\n",
              "\n",
              "\n",
              "<div id=\"df-66940e48-5ad5-4e72-8523-b1e75732db84\">\n",
              "  <button class=\"colab-df-quickchart\" onclick=\"quickchart('df-66940e48-5ad5-4e72-8523-b1e75732db84')\"\n",
              "            title=\"Suggest charts\"\n",
              "            style=\"display:none;\">\n",
              "\n",
              "<svg xmlns=\"http://www.w3.org/2000/svg\" height=\"24px\"viewBox=\"0 0 24 24\"\n",
              "     width=\"24px\">\n",
              "    <g>\n",
              "        <path d=\"M19 3H5c-1.1 0-2 .9-2 2v14c0 1.1.9 2 2 2h14c1.1 0 2-.9 2-2V5c0-1.1-.9-2-2-2zM9 17H7v-7h2v7zm4 0h-2V7h2v10zm4 0h-2v-4h2v4z\"/>\n",
              "    </g>\n",
              "</svg>\n",
              "  </button>\n",
              "\n",
              "<style>\n",
              "  .colab-df-quickchart {\n",
              "      --bg-color: #E8F0FE;\n",
              "      --fill-color: #1967D2;\n",
              "      --hover-bg-color: #E2EBFA;\n",
              "      --hover-fill-color: #174EA6;\n",
              "      --disabled-fill-color: #AAA;\n",
              "      --disabled-bg-color: #DDD;\n",
              "  }\n",
              "\n",
              "  [theme=dark] .colab-df-quickchart {\n",
              "      --bg-color: #3B4455;\n",
              "      --fill-color: #D2E3FC;\n",
              "      --hover-bg-color: #434B5C;\n",
              "      --hover-fill-color: #FFFFFF;\n",
              "      --disabled-bg-color: #3B4455;\n",
              "      --disabled-fill-color: #666;\n",
              "  }\n",
              "\n",
              "  .colab-df-quickchart {\n",
              "    background-color: var(--bg-color);\n",
              "    border: none;\n",
              "    border-radius: 50%;\n",
              "    cursor: pointer;\n",
              "    display: none;\n",
              "    fill: var(--fill-color);\n",
              "    height: 32px;\n",
              "    padding: 0;\n",
              "    width: 32px;\n",
              "  }\n",
              "\n",
              "  .colab-df-quickchart:hover {\n",
              "    background-color: var(--hover-bg-color);\n",
              "    box-shadow: 0 1px 2px rgba(60, 64, 67, 0.3), 0 1px 3px 1px rgba(60, 64, 67, 0.15);\n",
              "    fill: var(--button-hover-fill-color);\n",
              "  }\n",
              "\n",
              "  .colab-df-quickchart-complete:disabled,\n",
              "  .colab-df-quickchart-complete:disabled:hover {\n",
              "    background-color: var(--disabled-bg-color);\n",
              "    fill: var(--disabled-fill-color);\n",
              "    box-shadow: none;\n",
              "  }\n",
              "\n",
              "  .colab-df-spinner {\n",
              "    border: 2px solid var(--fill-color);\n",
              "    border-color: transparent;\n",
              "    border-bottom-color: var(--fill-color);\n",
              "    animation:\n",
              "      spin 1s steps(1) infinite;\n",
              "  }\n",
              "\n",
              "  @keyframes spin {\n",
              "    0% {\n",
              "      border-color: transparent;\n",
              "      border-bottom-color: var(--fill-color);\n",
              "      border-left-color: var(--fill-color);\n",
              "    }\n",
              "    20% {\n",
              "      border-color: transparent;\n",
              "      border-left-color: var(--fill-color);\n",
              "      border-top-color: var(--fill-color);\n",
              "    }\n",
              "    30% {\n",
              "      border-color: transparent;\n",
              "      border-left-color: var(--fill-color);\n",
              "      border-top-color: var(--fill-color);\n",
              "      border-right-color: var(--fill-color);\n",
              "    }\n",
              "    40% {\n",
              "      border-color: transparent;\n",
              "      border-right-color: var(--fill-color);\n",
              "      border-top-color: var(--fill-color);\n",
              "    }\n",
              "    60% {\n",
              "      border-color: transparent;\n",
              "      border-right-color: var(--fill-color);\n",
              "    }\n",
              "    80% {\n",
              "      border-color: transparent;\n",
              "      border-right-color: var(--fill-color);\n",
              "      border-bottom-color: var(--fill-color);\n",
              "    }\n",
              "    90% {\n",
              "      border-color: transparent;\n",
              "      border-bottom-color: var(--fill-color);\n",
              "    }\n",
              "  }\n",
              "</style>\n",
              "\n",
              "  <script>\n",
              "    async function quickchart(key) {\n",
              "      const quickchartButtonEl =\n",
              "        document.querySelector('#' + key + ' button');\n",
              "      quickchartButtonEl.disabled = true;  // To prevent multiple clicks.\n",
              "      quickchartButtonEl.classList.add('colab-df-spinner');\n",
              "      try {\n",
              "        const charts = await google.colab.kernel.invokeFunction(\n",
              "            'suggestCharts', [key], {});\n",
              "      } catch (error) {\n",
              "        console.error('Error during call to suggestCharts:', error);\n",
              "      }\n",
              "      quickchartButtonEl.classList.remove('colab-df-spinner');\n",
              "      quickchartButtonEl.classList.add('colab-df-quickchart-complete');\n",
              "    }\n",
              "    (() => {\n",
              "      let quickchartButtonEl =\n",
              "        document.querySelector('#df-66940e48-5ad5-4e72-8523-b1e75732db84 button');\n",
              "      quickchartButtonEl.style.display =\n",
              "        google.colab.kernel.accessAllowed ? 'block' : 'none';\n",
              "    })();\n",
              "  </script>\n",
              "</div>\n",
              "\n",
              "    </div>\n",
              "  </div>\n"
            ],
            "application/vnd.google.colaboratory.intrinsic+json": {
              "type": "dataframe",
              "variable_name": "df"
            }
          },
          "metadata": {},
          "execution_count": 34
        }
      ]
    },
    {
      "cell_type": "code",
      "source": [
        "df.info()"
      ],
      "metadata": {
        "colab": {
          "base_uri": "https://localhost:8080/"
        },
        "id": "727EjZ4oj9nr",
        "outputId": "4e127379-c1d2-4a67-8a82-ca48f6600c33"
      },
      "execution_count": 8,
      "outputs": [
        {
          "output_type": "stream",
          "name": "stdout",
          "text": [
            "<class 'pandas.core.frame.DataFrame'>\n",
            "RangeIndex: 4760 entries, 0 to 4759\n",
            "Data columns (total 21 columns):\n",
            " #   Column                    Non-Null Count  Dtype  \n",
            "---  ------                    --------------  -----  \n",
            " 0   Movie_ID                  4760 non-null   int64  \n",
            " 1   Movie_Title               4760 non-null   object \n",
            " 2   Movie_Genre               4760 non-null   object \n",
            " 3   Movie_Language            4760 non-null   object \n",
            " 4   Movie_Budget              4760 non-null   int64  \n",
            " 5   Movie_Popularity          4760 non-null   float64\n",
            " 6   Movie_Release_Date        4760 non-null   object \n",
            " 7   Movie_Revenue             4760 non-null   int64  \n",
            " 8   Movie_Runtime             4758 non-null   float64\n",
            " 9   Movie_Vote                4760 non-null   float64\n",
            " 10  Movie_Vote_Count          4760 non-null   int64  \n",
            " 11  Movie_Homepage            1699 non-null   object \n",
            " 12  Movie_Keywords            4373 non-null   object \n",
            " 13  Movie_Overview            4757 non-null   object \n",
            " 14  Movie_Production_House    4760 non-null   object \n",
            " 15  Movie_Production_Country  4760 non-null   object \n",
            " 16  Movie_Spoken_Language     4760 non-null   object \n",
            " 17  Movie_Tagline             3942 non-null   object \n",
            " 18  Movie_Cast                4733 non-null   object \n",
            " 19  Movie_Crew                4760 non-null   object \n",
            " 20  Movie_Director            4738 non-null   object \n",
            "dtypes: float64(3), int64(4), object(14)\n",
            "memory usage: 781.1+ KB\n"
          ]
        }
      ]
    },
    {
      "cell_type": "code",
      "source": [
        "df.shape"
      ],
      "metadata": {
        "colab": {
          "base_uri": "https://localhost:8080/"
        },
        "id": "rfe0g4HekTfU",
        "outputId": "712039f5-f07a-455d-afb4-9741aa8d5eac"
      },
      "execution_count": 9,
      "outputs": [
        {
          "output_type": "execute_result",
          "data": {
            "text/plain": [
              "(4760, 21)"
            ]
          },
          "metadata": {},
          "execution_count": 9
        }
      ]
    },
    {
      "cell_type": "code",
      "source": [
        "df.columns"
      ],
      "metadata": {
        "colab": {
          "base_uri": "https://localhost:8080/"
        },
        "id": "w_ch-mz6kaXv",
        "outputId": "7c454d39-e2ff-4d41-cc59-9b762b76d118"
      },
      "execution_count": 10,
      "outputs": [
        {
          "output_type": "execute_result",
          "data": {
            "text/plain": [
              "Index(['Movie_ID', 'Movie_Title', 'Movie_Genre', 'Movie_Language',\n",
              "       'Movie_Budget', 'Movie_Popularity', 'Movie_Release_Date',\n",
              "       'Movie_Revenue', 'Movie_Runtime', 'Movie_Vote', 'Movie_Vote_Count',\n",
              "       'Movie_Homepage', 'Movie_Keywords', 'Movie_Overview',\n",
              "       'Movie_Production_House', 'Movie_Production_Country',\n",
              "       'Movie_Spoken_Language', 'Movie_Tagline', 'Movie_Cast', 'Movie_Crew',\n",
              "       'Movie_Director'],\n",
              "      dtype='object')"
            ]
          },
          "metadata": {},
          "execution_count": 10
        }
      ]
    },
    {
      "cell_type": "code",
      "source": [
        "df_features=df[['Movie_Genre','Movie_Keywords','Movie_Tagline','Movie_Cast','Movie_Director']].fillna('')"
      ],
      "metadata": {
        "id": "6pW2K36aked5"
      },
      "execution_count": 12,
      "outputs": []
    },
    {
      "cell_type": "code",
      "source": [
        "df_features.shape"
      ],
      "metadata": {
        "colab": {
          "base_uri": "https://localhost:8080/"
        },
        "id": "hcjhonfwlIXS",
        "outputId": "2f7b4fc8-c6e6-4053-82f9-394cc0c30e50"
      },
      "execution_count": 13,
      "outputs": [
        {
          "output_type": "execute_result",
          "data": {
            "text/plain": [
              "(4760, 5)"
            ]
          },
          "metadata": {},
          "execution_count": 13
        }
      ]
    },
    {
      "cell_type": "code",
      "source": [
        "df_features"
      ],
      "metadata": {
        "colab": {
          "base_uri": "https://localhost:8080/",
          "height": 493
        },
        "id": "Xm9zNWV8lee1",
        "outputId": "276d6b68-c2ce-43df-ce29-83bf6d0f5c7e"
      },
      "execution_count": 14,
      "outputs": [
        {
          "output_type": "execute_result",
          "data": {
            "text/plain": [
              "                           Movie_Genre  \\\n",
              "0                         Crime Comedy   \n",
              "1     Adventure Action Science Fiction   \n",
              "2                     Animation Family   \n",
              "3                 Comedy Drama Romance   \n",
              "4                                Drama   \n",
              "...                                ...   \n",
              "4755                            Horror   \n",
              "4756               Comedy Family Drama   \n",
              "4757                    Thriller Drama   \n",
              "4758                            Family   \n",
              "4759                       Documentary   \n",
              "\n",
              "                                         Movie_Keywords  \\\n",
              "0             hotel new year's eve witch bet hotel room   \n",
              "1           android galaxy hermit death star lightsaber   \n",
              "2     father son relationship harbor underwater fish...   \n",
              "3     vietnam veteran hippie mentally disabled runni...   \n",
              "4     male nudity female nudity adultery midlife cri...   \n",
              "...                                                 ...   \n",
              "4755                                                      \n",
              "4756                                                      \n",
              "4757                     christian film sex trafficking   \n",
              "4758                                                      \n",
              "4759  music actors legendary perfomer classic hollyw...   \n",
              "\n",
              "                                          Movie_Tagline  \\\n",
              "0     Twelve outrageous guests. Four scandalous requ...   \n",
              "1          A long time ago in a galaxy far, far away...   \n",
              "2     There are 3.7 trillion fish in the ocean, they...   \n",
              "3     The world will never be the same, once you've ...   \n",
              "4                                          Look closer.   \n",
              "...                                                 ...   \n",
              "4755                The hot spot where Satan's waitin'.   \n",
              "4756           It’s better to stand out than to fit in.   \n",
              "4757           She never knew it could happen to her...   \n",
              "4758                                                      \n",
              "4759                                                      \n",
              "\n",
              "                                             Movie_Cast     Movie_Director  \n",
              "0     Tim Roth Antonio Banderas Jennifer Beals Madon...     Allison Anders  \n",
              "1     Mark Hamill Harrison Ford Carrie Fisher Peter ...       George Lucas  \n",
              "2     Albert Brooks Ellen DeGeneres Alexander Gould ...     Andrew Stanton  \n",
              "3     Tom Hanks Robin Wright Gary Sinise Mykelti Wil...    Robert Zemeckis  \n",
              "4     Kevin Spacey Annette Bening Thora Birch Wes Be...         Sam Mendes  \n",
              "...                                                 ...                ...  \n",
              "4755  Lisa Hart Carroll Michael Des Barres Paul Drak...         Pece Dingo  \n",
              "4756  Roni Akurati Brighton Sharbino Jason Lee Anjul...       Frank Lotito  \n",
              "4757  Nicole Smolen Kim Baldwin Ariana Stephens Brys...       Jaco Booyens  \n",
              "4758                                                                        \n",
              "4759                                    Tony Oppedisano  Simon Napier-Bell  \n",
              "\n",
              "[4760 rows x 5 columns]"
            ],
            "text/html": [
              "\n",
              "  <div id=\"df-8eb6bce0-17ce-4ed3-a1c9-c22824132808\" class=\"colab-df-container\">\n",
              "    <div>\n",
              "<style scoped>\n",
              "    .dataframe tbody tr th:only-of-type {\n",
              "        vertical-align: middle;\n",
              "    }\n",
              "\n",
              "    .dataframe tbody tr th {\n",
              "        vertical-align: top;\n",
              "    }\n",
              "\n",
              "    .dataframe thead th {\n",
              "        text-align: right;\n",
              "    }\n",
              "</style>\n",
              "<table border=\"1\" class=\"dataframe\">\n",
              "  <thead>\n",
              "    <tr style=\"text-align: right;\">\n",
              "      <th></th>\n",
              "      <th>Movie_Genre</th>\n",
              "      <th>Movie_Keywords</th>\n",
              "      <th>Movie_Tagline</th>\n",
              "      <th>Movie_Cast</th>\n",
              "      <th>Movie_Director</th>\n",
              "    </tr>\n",
              "  </thead>\n",
              "  <tbody>\n",
              "    <tr>\n",
              "      <th>0</th>\n",
              "      <td>Crime Comedy</td>\n",
              "      <td>hotel new year's eve witch bet hotel room</td>\n",
              "      <td>Twelve outrageous guests. Four scandalous requ...</td>\n",
              "      <td>Tim Roth Antonio Banderas Jennifer Beals Madon...</td>\n",
              "      <td>Allison Anders</td>\n",
              "    </tr>\n",
              "    <tr>\n",
              "      <th>1</th>\n",
              "      <td>Adventure Action Science Fiction</td>\n",
              "      <td>android galaxy hermit death star lightsaber</td>\n",
              "      <td>A long time ago in a galaxy far, far away...</td>\n",
              "      <td>Mark Hamill Harrison Ford Carrie Fisher Peter ...</td>\n",
              "      <td>George Lucas</td>\n",
              "    </tr>\n",
              "    <tr>\n",
              "      <th>2</th>\n",
              "      <td>Animation Family</td>\n",
              "      <td>father son relationship harbor underwater fish...</td>\n",
              "      <td>There are 3.7 trillion fish in the ocean, they...</td>\n",
              "      <td>Albert Brooks Ellen DeGeneres Alexander Gould ...</td>\n",
              "      <td>Andrew Stanton</td>\n",
              "    </tr>\n",
              "    <tr>\n",
              "      <th>3</th>\n",
              "      <td>Comedy Drama Romance</td>\n",
              "      <td>vietnam veteran hippie mentally disabled runni...</td>\n",
              "      <td>The world will never be the same, once you've ...</td>\n",
              "      <td>Tom Hanks Robin Wright Gary Sinise Mykelti Wil...</td>\n",
              "      <td>Robert Zemeckis</td>\n",
              "    </tr>\n",
              "    <tr>\n",
              "      <th>4</th>\n",
              "      <td>Drama</td>\n",
              "      <td>male nudity female nudity adultery midlife cri...</td>\n",
              "      <td>Look closer.</td>\n",
              "      <td>Kevin Spacey Annette Bening Thora Birch Wes Be...</td>\n",
              "      <td>Sam Mendes</td>\n",
              "    </tr>\n",
              "    <tr>\n",
              "      <th>...</th>\n",
              "      <td>...</td>\n",
              "      <td>...</td>\n",
              "      <td>...</td>\n",
              "      <td>...</td>\n",
              "      <td>...</td>\n",
              "    </tr>\n",
              "    <tr>\n",
              "      <th>4755</th>\n",
              "      <td>Horror</td>\n",
              "      <td></td>\n",
              "      <td>The hot spot where Satan's waitin'.</td>\n",
              "      <td>Lisa Hart Carroll Michael Des Barres Paul Drak...</td>\n",
              "      <td>Pece Dingo</td>\n",
              "    </tr>\n",
              "    <tr>\n",
              "      <th>4756</th>\n",
              "      <td>Comedy Family Drama</td>\n",
              "      <td></td>\n",
              "      <td>It’s better to stand out than to fit in.</td>\n",
              "      <td>Roni Akurati Brighton Sharbino Jason Lee Anjul...</td>\n",
              "      <td>Frank Lotito</td>\n",
              "    </tr>\n",
              "    <tr>\n",
              "      <th>4757</th>\n",
              "      <td>Thriller Drama</td>\n",
              "      <td>christian film sex trafficking</td>\n",
              "      <td>She never knew it could happen to her...</td>\n",
              "      <td>Nicole Smolen Kim Baldwin Ariana Stephens Brys...</td>\n",
              "      <td>Jaco Booyens</td>\n",
              "    </tr>\n",
              "    <tr>\n",
              "      <th>4758</th>\n",
              "      <td>Family</td>\n",
              "      <td></td>\n",
              "      <td></td>\n",
              "      <td></td>\n",
              "      <td></td>\n",
              "    </tr>\n",
              "    <tr>\n",
              "      <th>4759</th>\n",
              "      <td>Documentary</td>\n",
              "      <td>music actors legendary perfomer classic hollyw...</td>\n",
              "      <td></td>\n",
              "      <td>Tony Oppedisano</td>\n",
              "      <td>Simon Napier-Bell</td>\n",
              "    </tr>\n",
              "  </tbody>\n",
              "</table>\n",
              "<p>4760 rows × 5 columns</p>\n",
              "</div>\n",
              "    <div class=\"colab-df-buttons\">\n",
              "\n",
              "  <div class=\"colab-df-container\">\n",
              "    <button class=\"colab-df-convert\" onclick=\"convertToInteractive('df-8eb6bce0-17ce-4ed3-a1c9-c22824132808')\"\n",
              "            title=\"Convert this dataframe to an interactive table.\"\n",
              "            style=\"display:none;\">\n",
              "\n",
              "  <svg xmlns=\"http://www.w3.org/2000/svg\" height=\"24px\" viewBox=\"0 -960 960 960\">\n",
              "    <path d=\"M120-120v-720h720v720H120Zm60-500h600v-160H180v160Zm220 220h160v-160H400v160Zm0 220h160v-160H400v160ZM180-400h160v-160H180v160Zm440 0h160v-160H620v160ZM180-180h160v-160H180v160Zm440 0h160v-160H620v160Z\"/>\n",
              "  </svg>\n",
              "    </button>\n",
              "\n",
              "  <style>\n",
              "    .colab-df-container {\n",
              "      display:flex;\n",
              "      gap: 12px;\n",
              "    }\n",
              "\n",
              "    .colab-df-convert {\n",
              "      background-color: #E8F0FE;\n",
              "      border: none;\n",
              "      border-radius: 50%;\n",
              "      cursor: pointer;\n",
              "      display: none;\n",
              "      fill: #1967D2;\n",
              "      height: 32px;\n",
              "      padding: 0 0 0 0;\n",
              "      width: 32px;\n",
              "    }\n",
              "\n",
              "    .colab-df-convert:hover {\n",
              "      background-color: #E2EBFA;\n",
              "      box-shadow: 0px 1px 2px rgba(60, 64, 67, 0.3), 0px 1px 3px 1px rgba(60, 64, 67, 0.15);\n",
              "      fill: #174EA6;\n",
              "    }\n",
              "\n",
              "    .colab-df-buttons div {\n",
              "      margin-bottom: 4px;\n",
              "    }\n",
              "\n",
              "    [theme=dark] .colab-df-convert {\n",
              "      background-color: #3B4455;\n",
              "      fill: #D2E3FC;\n",
              "    }\n",
              "\n",
              "    [theme=dark] .colab-df-convert:hover {\n",
              "      background-color: #434B5C;\n",
              "      box-shadow: 0px 1px 3px 1px rgba(0, 0, 0, 0.15);\n",
              "      filter: drop-shadow(0px 1px 2px rgba(0, 0, 0, 0.3));\n",
              "      fill: #FFFFFF;\n",
              "    }\n",
              "  </style>\n",
              "\n",
              "    <script>\n",
              "      const buttonEl =\n",
              "        document.querySelector('#df-8eb6bce0-17ce-4ed3-a1c9-c22824132808 button.colab-df-convert');\n",
              "      buttonEl.style.display =\n",
              "        google.colab.kernel.accessAllowed ? 'block' : 'none';\n",
              "\n",
              "      async function convertToInteractive(key) {\n",
              "        const element = document.querySelector('#df-8eb6bce0-17ce-4ed3-a1c9-c22824132808');\n",
              "        const dataTable =\n",
              "          await google.colab.kernel.invokeFunction('convertToInteractive',\n",
              "                                                    [key], {});\n",
              "        if (!dataTable) return;\n",
              "\n",
              "        const docLinkHtml = 'Like what you see? Visit the ' +\n",
              "          '<a target=\"_blank\" href=https://colab.research.google.com/notebooks/data_table.ipynb>data table notebook</a>'\n",
              "          + ' to learn more about interactive tables.';\n",
              "        element.innerHTML = '';\n",
              "        dataTable['output_type'] = 'display_data';\n",
              "        await google.colab.output.renderOutput(dataTable, element);\n",
              "        const docLink = document.createElement('div');\n",
              "        docLink.innerHTML = docLinkHtml;\n",
              "        element.appendChild(docLink);\n",
              "      }\n",
              "    </script>\n",
              "  </div>\n",
              "\n",
              "\n",
              "<div id=\"df-e9035d7e-250f-4568-871b-450a6559e645\">\n",
              "  <button class=\"colab-df-quickchart\" onclick=\"quickchart('df-e9035d7e-250f-4568-871b-450a6559e645')\"\n",
              "            title=\"Suggest charts\"\n",
              "            style=\"display:none;\">\n",
              "\n",
              "<svg xmlns=\"http://www.w3.org/2000/svg\" height=\"24px\"viewBox=\"0 0 24 24\"\n",
              "     width=\"24px\">\n",
              "    <g>\n",
              "        <path d=\"M19 3H5c-1.1 0-2 .9-2 2v14c0 1.1.9 2 2 2h14c1.1 0 2-.9 2-2V5c0-1.1-.9-2-2-2zM9 17H7v-7h2v7zm4 0h-2V7h2v10zm4 0h-2v-4h2v4z\"/>\n",
              "    </g>\n",
              "</svg>\n",
              "  </button>\n",
              "\n",
              "<style>\n",
              "  .colab-df-quickchart {\n",
              "      --bg-color: #E8F0FE;\n",
              "      --fill-color: #1967D2;\n",
              "      --hover-bg-color: #E2EBFA;\n",
              "      --hover-fill-color: #174EA6;\n",
              "      --disabled-fill-color: #AAA;\n",
              "      --disabled-bg-color: #DDD;\n",
              "  }\n",
              "\n",
              "  [theme=dark] .colab-df-quickchart {\n",
              "      --bg-color: #3B4455;\n",
              "      --fill-color: #D2E3FC;\n",
              "      --hover-bg-color: #434B5C;\n",
              "      --hover-fill-color: #FFFFFF;\n",
              "      --disabled-bg-color: #3B4455;\n",
              "      --disabled-fill-color: #666;\n",
              "  }\n",
              "\n",
              "  .colab-df-quickchart {\n",
              "    background-color: var(--bg-color);\n",
              "    border: none;\n",
              "    border-radius: 50%;\n",
              "    cursor: pointer;\n",
              "    display: none;\n",
              "    fill: var(--fill-color);\n",
              "    height: 32px;\n",
              "    padding: 0;\n",
              "    width: 32px;\n",
              "  }\n",
              "\n",
              "  .colab-df-quickchart:hover {\n",
              "    background-color: var(--hover-bg-color);\n",
              "    box-shadow: 0 1px 2px rgba(60, 64, 67, 0.3), 0 1px 3px 1px rgba(60, 64, 67, 0.15);\n",
              "    fill: var(--button-hover-fill-color);\n",
              "  }\n",
              "\n",
              "  .colab-df-quickchart-complete:disabled,\n",
              "  .colab-df-quickchart-complete:disabled:hover {\n",
              "    background-color: var(--disabled-bg-color);\n",
              "    fill: var(--disabled-fill-color);\n",
              "    box-shadow: none;\n",
              "  }\n",
              "\n",
              "  .colab-df-spinner {\n",
              "    border: 2px solid var(--fill-color);\n",
              "    border-color: transparent;\n",
              "    border-bottom-color: var(--fill-color);\n",
              "    animation:\n",
              "      spin 1s steps(1) infinite;\n",
              "  }\n",
              "\n",
              "  @keyframes spin {\n",
              "    0% {\n",
              "      border-color: transparent;\n",
              "      border-bottom-color: var(--fill-color);\n",
              "      border-left-color: var(--fill-color);\n",
              "    }\n",
              "    20% {\n",
              "      border-color: transparent;\n",
              "      border-left-color: var(--fill-color);\n",
              "      border-top-color: var(--fill-color);\n",
              "    }\n",
              "    30% {\n",
              "      border-color: transparent;\n",
              "      border-left-color: var(--fill-color);\n",
              "      border-top-color: var(--fill-color);\n",
              "      border-right-color: var(--fill-color);\n",
              "    }\n",
              "    40% {\n",
              "      border-color: transparent;\n",
              "      border-right-color: var(--fill-color);\n",
              "      border-top-color: var(--fill-color);\n",
              "    }\n",
              "    60% {\n",
              "      border-color: transparent;\n",
              "      border-right-color: var(--fill-color);\n",
              "    }\n",
              "    80% {\n",
              "      border-color: transparent;\n",
              "      border-right-color: var(--fill-color);\n",
              "      border-bottom-color: var(--fill-color);\n",
              "    }\n",
              "    90% {\n",
              "      border-color: transparent;\n",
              "      border-bottom-color: var(--fill-color);\n",
              "    }\n",
              "  }\n",
              "</style>\n",
              "\n",
              "  <script>\n",
              "    async function quickchart(key) {\n",
              "      const quickchartButtonEl =\n",
              "        document.querySelector('#' + key + ' button');\n",
              "      quickchartButtonEl.disabled = true;  // To prevent multiple clicks.\n",
              "      quickchartButtonEl.classList.add('colab-df-spinner');\n",
              "      try {\n",
              "        const charts = await google.colab.kernel.invokeFunction(\n",
              "            'suggestCharts', [key], {});\n",
              "      } catch (error) {\n",
              "        console.error('Error during call to suggestCharts:', error);\n",
              "      }\n",
              "      quickchartButtonEl.classList.remove('colab-df-spinner');\n",
              "      quickchartButtonEl.classList.add('colab-df-quickchart-complete');\n",
              "    }\n",
              "    (() => {\n",
              "      let quickchartButtonEl =\n",
              "        document.querySelector('#df-e9035d7e-250f-4568-871b-450a6559e645 button');\n",
              "      quickchartButtonEl.style.display =\n",
              "        google.colab.kernel.accessAllowed ? 'block' : 'none';\n",
              "    })();\n",
              "  </script>\n",
              "</div>\n",
              "\n",
              "  <div id=\"id_50a14793-f7ae-47a0-a172-d5bfed820269\">\n",
              "    <style>\n",
              "      .colab-df-generate {\n",
              "        background-color: #E8F0FE;\n",
              "        border: none;\n",
              "        border-radius: 50%;\n",
              "        cursor: pointer;\n",
              "        display: none;\n",
              "        fill: #1967D2;\n",
              "        height: 32px;\n",
              "        padding: 0 0 0 0;\n",
              "        width: 32px;\n",
              "      }\n",
              "\n",
              "      .colab-df-generate:hover {\n",
              "        background-color: #E2EBFA;\n",
              "        box-shadow: 0px 1px 2px rgba(60, 64, 67, 0.3), 0px 1px 3px 1px rgba(60, 64, 67, 0.15);\n",
              "        fill: #174EA6;\n",
              "      }\n",
              "\n",
              "      [theme=dark] .colab-df-generate {\n",
              "        background-color: #3B4455;\n",
              "        fill: #D2E3FC;\n",
              "      }\n",
              "\n",
              "      [theme=dark] .colab-df-generate:hover {\n",
              "        background-color: #434B5C;\n",
              "        box-shadow: 0px 1px 3px 1px rgba(0, 0, 0, 0.15);\n",
              "        filter: drop-shadow(0px 1px 2px rgba(0, 0, 0, 0.3));\n",
              "        fill: #FFFFFF;\n",
              "      }\n",
              "    </style>\n",
              "    <button class=\"colab-df-generate\" onclick=\"generateWithVariable('df_features')\"\n",
              "            title=\"Generate code using this dataframe.\"\n",
              "            style=\"display:none;\">\n",
              "\n",
              "  <svg xmlns=\"http://www.w3.org/2000/svg\" height=\"24px\"viewBox=\"0 0 24 24\"\n",
              "       width=\"24px\">\n",
              "    <path d=\"M7,19H8.4L18.45,9,17,7.55,7,17.6ZM5,21V16.75L18.45,3.32a2,2,0,0,1,2.83,0l1.4,1.43a1.91,1.91,0,0,1,.58,1.4,1.91,1.91,0,0,1-.58,1.4L9.25,21ZM18.45,9,17,7.55Zm-12,3A5.31,5.31,0,0,0,4.9,8.1,5.31,5.31,0,0,0,1,6.5,5.31,5.31,0,0,0,4.9,4.9,5.31,5.31,0,0,0,6.5,1,5.31,5.31,0,0,0,8.1,4.9,5.31,5.31,0,0,0,12,6.5,5.46,5.46,0,0,0,6.5,12Z\"/>\n",
              "  </svg>\n",
              "    </button>\n",
              "    <script>\n",
              "      (() => {\n",
              "      const buttonEl =\n",
              "        document.querySelector('#id_50a14793-f7ae-47a0-a172-d5bfed820269 button.colab-df-generate');\n",
              "      buttonEl.style.display =\n",
              "        google.colab.kernel.accessAllowed ? 'block' : 'none';\n",
              "\n",
              "      buttonEl.onclick = () => {\n",
              "        google.colab.notebook.generateWithVariable('df_features');\n",
              "      }\n",
              "      })();\n",
              "    </script>\n",
              "  </div>\n",
              "\n",
              "    </div>\n",
              "  </div>\n"
            ],
            "application/vnd.google.colaboratory.intrinsic+json": {
              "type": "dataframe",
              "variable_name": "df_features",
              "summary": "{\n  \"name\": \"df_features\",\n  \"rows\": 4760,\n  \"fields\": [\n    {\n      \"column\": \"Movie_Genre\",\n      \"properties\": {\n        \"dtype\": \"category\",\n        \"num_unique_values\": 1164,\n        \"samples\": [\n          \"Family Animation Adventure\",\n          \"Adventure Science Fiction Action\",\n          \"Action Crime Drama Romance Thriller\"\n        ],\n        \"semantic_type\": \"\",\n        \"description\": \"\"\n      }\n    },\n    {\n      \"column\": \"Movie_Keywords\",\n      \"properties\": {\n        \"dtype\": \"string\",\n        \"num_unique_values\": 4203,\n        \"samples\": [\n          \"canada nazis sequel spin off ancient evil\",\n          \"sex professor wedding woman director columbia university\",\n          \"prophecy sea beach gold small town\"\n        ],\n        \"semantic_type\": \"\",\n        \"description\": \"\"\n      }\n    },\n    {\n      \"column\": \"Movie_Tagline\",\n      \"properties\": {\n        \"dtype\": \"string\",\n        \"num_unique_values\": 3928,\n        \"samples\": [\n          \"The messenger must be silenced.\",\n          \"It's not the house that's haunted.\",\n          \"The final hunt begins.\"\n        ],\n        \"semantic_type\": \"\",\n        \"description\": \"\"\n      }\n    },\n    {\n      \"column\": \"Movie_Cast\",\n      \"properties\": {\n        \"dtype\": \"string\",\n        \"num_unique_values\": 4715,\n        \"samples\": [\n          \"Robin Tunney Fairuza Balk Neve Campbell Rachel True Skeet Ulrich\",\n          \"Peter Sellers Christopher Plummer Herbert Lom Catherine Schell Peter Arne\",\n          \"John Wayne Laraine Day Cedric Hardwicke Judith Anderson Anthony Quinn\"\n        ],\n        \"semantic_type\": \"\",\n        \"description\": \"\"\n      }\n    },\n    {\n      \"column\": \"Movie_Director\",\n      \"properties\": {\n        \"dtype\": \"category\",\n        \"num_unique_values\": 2332,\n        \"samples\": [\n          \"Rob McKittrick\",\n          \"Terron R. Parsons\",\n          \"Cyrus Nowrasteh\"\n        ],\n        \"semantic_type\": \"\",\n        \"description\": \"\"\n      }\n    }\n  ]\n}"
            }
          },
          "metadata": {},
          "execution_count": 14
        }
      ]
    },
    {
      "cell_type": "code",
      "source": [
        "x=df_features['Movie_Genre']+ ' ' + df_features['Movie_Keywords'] + ' ' + df_features['Movie_Tagline'] + ' ' + df_features['Movie_Cast'] + ' ' + df_features['Movie_Director']"
      ],
      "metadata": {
        "id": "uYnAocTQlg78"
      },
      "execution_count": 15,
      "outputs": []
    },
    {
      "cell_type": "code",
      "source": [
        "x"
      ],
      "metadata": {
        "colab": {
          "base_uri": "https://localhost:8080/"
        },
        "id": "e6SyBd1znA7t",
        "outputId": "5171e282-52de-46b2-9f28-f4330b5f0126"
      },
      "execution_count": 16,
      "outputs": [
        {
          "output_type": "execute_result",
          "data": {
            "text/plain": [
              "0       Crime Comedy hotel new year's eve witch bet ho...\n",
              "1       Adventure Action Science Fiction android galax...\n",
              "2       Animation Family father son relationship harbo...\n",
              "3       Comedy Drama Romance vietnam veteran hippie me...\n",
              "4       Drama male nudity female nudity adultery midli...\n",
              "                              ...                        \n",
              "4755    Horror  The hot spot where Satan's waitin'. Li...\n",
              "4756    Comedy Family Drama  It’s better to stand out ...\n",
              "4757    Thriller Drama christian film sex trafficking ...\n",
              "4758                                           Family    \n",
              "4759    Documentary music actors legendary perfomer cl...\n",
              "Length: 4760, dtype: object"
            ]
          },
          "metadata": {},
          "execution_count": 16
        }
      ]
    },
    {
      "cell_type": "code",
      "source": [
        "x.shape"
      ],
      "metadata": {
        "colab": {
          "base_uri": "https://localhost:8080/"
        },
        "id": "DOg0149znCz8",
        "outputId": "bf3bb313-70cc-4aca-80df-4bddb916d542"
      },
      "execution_count": 17,
      "outputs": [
        {
          "output_type": "execute_result",
          "data": {
            "text/plain": [
              "(4760,)"
            ]
          },
          "metadata": {},
          "execution_count": 17
        }
      ]
    },
    {
      "cell_type": "markdown",
      "source": [
        "**Get Feature Text Conversion to Tokens**"
      ],
      "metadata": {
        "id": "zoetHjfAn2uK"
      }
    },
    {
      "cell_type": "code",
      "source": [
        "from sklearn.feature_extraction.text import TfidfVectorizer"
      ],
      "metadata": {
        "id": "6O2kUc9UnjTV"
      },
      "execution_count": 18,
      "outputs": []
    },
    {
      "cell_type": "code",
      "source": [
        "tfidf = TfidfVectorizer()"
      ],
      "metadata": {
        "id": "RZjbhAhfndMO"
      },
      "execution_count": 19,
      "outputs": []
    },
    {
      "cell_type": "code",
      "source": [
        "x=tfidf.fit_transform(x)"
      ],
      "metadata": {
        "id": "7ATJQlL4oWL-"
      },
      "execution_count": 20,
      "outputs": []
    },
    {
      "cell_type": "code",
      "source": [
        "x.shape"
      ],
      "metadata": {
        "colab": {
          "base_uri": "https://localhost:8080/"
        },
        "id": "u28XmiLiohzV",
        "outputId": "18b1ae29-4936-4e69-90b0-2940a5e8cccb"
      },
      "execution_count": 21,
      "outputs": [
        {
          "output_type": "execute_result",
          "data": {
            "text/plain": [
              "(4760, 17258)"
            ]
          },
          "metadata": {},
          "execution_count": 21
        }
      ]
    },
    {
      "cell_type": "code",
      "source": [
        "print(x)"
      ],
      "metadata": {
        "colab": {
          "base_uri": "https://localhost:8080/"
        },
        "id": "uOndfUcKokMK",
        "outputId": "348a777f-3234-4075-cab6-5500b13492ae"
      },
      "execution_count": 22,
      "outputs": [
        {
          "output_type": "stream",
          "name": "stdout",
          "text": [
            "  (0, 617)\t0.1633382144407513\n",
            "  (0, 492)\t0.1432591540388685\n",
            "  (0, 15413)\t0.1465525095337543\n",
            "  (0, 9675)\t0.14226057295252661\n",
            "  (0, 9465)\t0.1659841367820977\n",
            "  (0, 1390)\t0.16898383612799558\n",
            "  (0, 7825)\t0.09799561597509843\n",
            "  (0, 1214)\t0.13865857545144072\n",
            "  (0, 729)\t0.13415063359531618\n",
            "  (0, 13093)\t0.1432591540388685\n",
            "  (0, 15355)\t0.10477815972666779\n",
            "  (0, 9048)\t0.0866842116160778\n",
            "  (0, 11161)\t0.06250380151644369\n",
            "  (0, 16773)\t0.17654247479915475\n",
            "  (0, 5612)\t0.08603537588547631\n",
            "  (0, 16735)\t0.10690083751525419\n",
            "  (0, 7904)\t0.13348000542112332\n",
            "  (0, 15219)\t0.09800472886453934\n",
            "  (0, 11242)\t0.07277788238484746\n",
            "  (0, 3878)\t0.11998399582562203\n",
            "  (0, 5499)\t0.11454057510303811\n",
            "  (0, 7071)\t0.19822417598406614\n",
            "  (0, 7454)\t0.14745635785412262\n",
            "  (0, 1495)\t0.19712637387361423\n",
            "  (0, 9206)\t0.15186283580984414\n",
            "  :\t:\n",
            "  (4757, 5455)\t0.12491480594769522\n",
            "  (4757, 2967)\t0.16273475835631626\n",
            "  (4757, 8464)\t0.23522565554066333\n",
            "  (4757, 6938)\t0.17088173678136628\n",
            "  (4757, 8379)\t0.17480603856721913\n",
            "  (4757, 15303)\t0.07654356007668191\n",
            "  (4757, 15384)\t0.09754322497537371\n",
            "  (4757, 7649)\t0.11479421494340192\n",
            "  (4757, 10896)\t0.14546473055066447\n",
            "  (4757, 4494)\t0.05675298448720501\n",
            "  (4758, 5238)\t1.0\n",
            "  (4759, 11264)\t0.33947721804318337\n",
            "  (4759, 11708)\t0.33947721804318337\n",
            "  (4759, 205)\t0.3237911628497312\n",
            "  (4759, 8902)\t0.3040290704566037\n",
            "  (4759, 14062)\t0.3237911628497312\n",
            "  (4759, 3058)\t0.2812896191863103\n",
            "  (4759, 7130)\t0.26419662449963793\n",
            "  (4759, 10761)\t0.3126617295732147\n",
            "  (4759, 4358)\t0.18306542312175342\n",
            "  (4759, 14051)\t0.20084315377640435\n",
            "  (4759, 5690)\t0.19534291014627303\n",
            "  (4759, 15431)\t0.19628653185946862\n",
            "  (4759, 1490)\t0.21197258705292082\n",
            "  (4759, 10666)\t0.15888268987343043\n"
          ]
        }
      ]
    },
    {
      "cell_type": "markdown",
      "source": [
        "**Get Similar Score Using Cosine Similarity**"
      ],
      "metadata": {
        "id": "igdM_tcPo9K4"
      }
    },
    {
      "cell_type": "code",
      "source": [
        "from sklearn.metrics.pairwise import cosine_similarity"
      ],
      "metadata": {
        "id": "-8fTPkm2orIL"
      },
      "execution_count": 24,
      "outputs": []
    },
    {
      "cell_type": "code",
      "source": [
        "similarity_Score=cosine_similarity(x)"
      ],
      "metadata": {
        "id": "9U6AOqJfphFq"
      },
      "execution_count": 25,
      "outputs": []
    },
    {
      "cell_type": "code",
      "source": [
        "similarity_Score"
      ],
      "metadata": {
        "colab": {
          "base_uri": "https://localhost:8080/"
        },
        "id": "24tWlrsdphCP",
        "outputId": "c22a80f7-a2b0-4e39-9b9b-671cd8cea3a1"
      },
      "execution_count": 26,
      "outputs": [
        {
          "output_type": "execute_result",
          "data": {
            "text/plain": [
              "array([[1.        , 0.01351235, 0.03570468, ..., 0.        , 0.        ,\n",
              "        0.        ],\n",
              "       [0.01351235, 1.        , 0.00806674, ..., 0.        , 0.        ,\n",
              "        0.        ],\n",
              "       [0.03570468, 0.00806674, 1.        , ..., 0.        , 0.08014876,\n",
              "        0.        ],\n",
              "       ...,\n",
              "       [0.        , 0.        , 0.        , ..., 1.        , 0.        ,\n",
              "        0.        ],\n",
              "       [0.        , 0.        , 0.08014876, ..., 0.        , 1.        ,\n",
              "        0.        ],\n",
              "       [0.        , 0.        , 0.        , ..., 0.        , 0.        ,\n",
              "        1.        ]])"
            ]
          },
          "metadata": {},
          "execution_count": 26
        }
      ]
    },
    {
      "cell_type": "code",
      "source": [
        "similarity_Score.shape"
      ],
      "metadata": {
        "colab": {
          "base_uri": "https://localhost:8080/"
        },
        "id": "h2f095EMpg-z",
        "outputId": "6d9fd122-c5fd-4452-f21c-1ca833cefbdd"
      },
      "execution_count": 27,
      "outputs": [
        {
          "output_type": "execute_result",
          "data": {
            "text/plain": [
              "(4760, 4760)"
            ]
          },
          "metadata": {},
          "execution_count": 27
        }
      ]
    },
    {
      "cell_type": "markdown",
      "source": [
        "**Get Movie Name as Input from User and Validate for Closest Spelling**"
      ],
      "metadata": {
        "id": "4fUyVTktqGY4"
      }
    },
    {
      "cell_type": "code",
      "source": [
        "import difflib"
      ],
      "metadata": {
        "id": "dfSZCJ-bpgor"
      },
      "execution_count": 31,
      "outputs": []
    },
    {
      "cell_type": "code",
      "source": [
        "Favourite_Movie_Nmae=input('Enter your Favourite Movie Name: ')"
      ],
      "metadata": {
        "colab": {
          "base_uri": "https://localhost:8080/"
        },
        "id": "K9VhNym3qFNc",
        "outputId": "27fad593-3b99-48d7-c257-7fdc06108964"
      },
      "execution_count": 39,
      "outputs": [
        {
          "name": "stdout",
          "output_type": "stream",
          "text": [
            "Enter your Favourite Movie Name: My Life Without Me\n"
          ]
        }
      ]
    },
    {
      "cell_type": "code",
      "source": [
        "All_Movie_Title_List=df['Movie_Title'].tolist()"
      ],
      "metadata": {
        "id": "6b6oeeJMpg1-"
      },
      "execution_count": 40,
      "outputs": []
    },
    {
      "cell_type": "code",
      "source": [
        "Movie_Recommendation=difflib.get_close_matches(Favourite_Movie_Nmae, All_Movie_Title_List)\n",
        "print(Movie_Recommendation)"
      ],
      "metadata": {
        "colab": {
          "base_uri": "https://localhost:8080/"
        },
        "id": "mmTnNpUNrTDo",
        "outputId": "c0a76917-9016-4ecb-f372-ff9e4d006652"
      },
      "execution_count": 41,
      "outputs": [
        {
          "output_type": "stream",
          "name": "stdout",
          "text": [
            "['My Life Without Me', 'Without Men', 'My Last Day Without You']\n"
          ]
        }
      ]
    },
    {
      "cell_type": "code",
      "source": [
        "Close_Match=Movie_Recommendation[0]\n",
        "print(Close_Match)"
      ],
      "metadata": {
        "colab": {
          "base_uri": "https://localhost:8080/"
        },
        "id": "KbO6Was5rTAb",
        "outputId": "8303deb0-465b-499b-8995-877c5073a757"
      },
      "execution_count": 42,
      "outputs": [
        {
          "output_type": "stream",
          "name": "stdout",
          "text": [
            "My Life Without Me\n"
          ]
        }
      ]
    },
    {
      "cell_type": "code",
      "source": [
        "Index_of_Close_Match_Movie=df[df.Movie_Title == Close_Match]['Movie_ID'].values[0]\n",
        "print(Index_of_Close_Match_Movie)"
      ],
      "metadata": {
        "colab": {
          "base_uri": "https://localhost:8080/"
        },
        "id": "RQO8TetErS9m",
        "outputId": "9e2f765f-a28c-4c63-c363-4e3dd15973e8"
      },
      "execution_count": 43,
      "outputs": [
        {
          "output_type": "stream",
          "name": "stdout",
          "text": [
            "9\n"
          ]
        }
      ]
    },
    {
      "cell_type": "code",
      "source": [
        "#getting list of similar movies\n",
        "Recommendation_Score = list(enumerate(similarity_Score[Index_of_Close_Match_Movie]))\n",
        "print(Recommendation_Score)"
      ],
      "metadata": {
        "colab": {
          "base_uri": "https://localhost:8080/"
        },
        "id": "S0AeeFA5rS6e",
        "outputId": "90154125-bc9d-48d6-8db8-d7210c4d9192"
      },
      "execution_count": 44,
      "outputs": [
        {
          "output_type": "stream",
          "name": "stdout",
          "text": [
            "[(0, 0.011214905120494927), (1, 0.010926115280892903), (2, 0.003691894977938995), (3, 0.03142442817063111), (4, 0.0207561196070989), (5, 0.008007861686693422), (6, 0.024499569035833925), (7, 0.020649672961522855), (8, 0.0), (9, 1.0000000000000002), (10, 0.010207761100440419), (11, 0.012723449956654153), (12, 0.004594743340940757), (13, 0.026628921790724555), (14, 0.003937190297424203), (15, 0.024601520611403315), (16, 0.0), (17, 0.43812555493930544), (18, 0.00412578084260842), (19, 0.020177857410527404), (20, 0.0), (21, 0.0), (22, 0.006950746418571906), (23, 0.0), (24, 0.0), (25, 0.03222681370641651), (26, 0.0), (27, 0.007226327941705064), (28, 0.035780140740019305), (29, 0.01076367942647407), (30, 0.0), (31, 0.0), (32, 0.016866093782296955), (33, 0.003802465286938965), (34, 0.0), (35, 0.02965727287025329), (36, 0.032008674745249314), (37, 0.022950458396492304), (38, 0.01094656955940861), (39, 0.036825936054505064), (40, 0.013770970637818503), (41, 0.013611448993465062), (42, 0.00816665890930567), (43, 0.006425411572897764), (44, 0.010219137468179424), (45, 0.018263365037081147), (46, 0.011369533942760971), (47, 0.0), (48, 0.010554253646945075), (49, 0.023090006759391928), (50, 0.0), (51, 0.0), (52, 0.007633960891867831), (53, 0.07098423518035424), (54, 0.11362711298463894), (55, 0.10856817680461868), (56, 0.12167725857982899), (57, 0.036620717594482065), (58, 0.024971396135467634), (59, 0.012603137595176377), (60, 0.01868345539024017), (61, 0.010404074773215909), (62, 0.015457450212531355), (63, 0.015306817476714533), (64, 0.010290669139059289), (65, 0.018063914409813135), (66, 0.023775108260080963), (67, 0.035492954406217254), (68, 0.005595460430952323), (69, 0.013431410793363834), (70, 0.02151622232438648), (71, 0.06961626954935053), (72, 0.0427802763714028), (73, 0.006022693563787346), (74, 0.009152098407976053), (75, 0.04030646593700117), (76, 0.010819523148592445), (77, 0.0), (78, 0.025631252839099606), (79, 0.01820263592581291), (80, 0.015150755132450223), (81, 0.0), (82, 0.017154608088139043), (83, 0.011453917029089013), (84, 0.009378672187410949), (85, 0.006734378368290678), (86, 0.00972065040996752), (87, 0.0), (88, 0.00790040709939596), (89, 0.0), (90, 0.01196188475188677), (91, 0.009967790009980004), (92, 0.00464307824845497), (93, 0.011716240929126343), (94, 0.0151847194330294), (95, 0.012583168208963052), (96, 0.003982229805956692), (97, 0.0037758887152316146), (98, 0.0), (99, 0.0), (100, 0.01732134274653802), (101, 0.030817856958759812), (102, 0.010464816706087458), (103, 0.0), (104, 0.011374336429125009), (105, 0.027892670432435776), (106, 0.020235638816494313), (107, 0.042964551721712124), (108, 0.03216694517038375), (109, 0.006979097684163113), (110, 0.025246598902623783), (111, 0.025690873020406076), (112, 0.004142330410225357), (113, 0.022531970987915966), (114, 0.0), (115, 0.016327841856355718), (116, 0.009945901881113195), (117, 0.03046912447315979), (118, 0.012551423005951204), (119, 0.047325977762218925), (120, 0.0), (121, 0.01874922404689852), (122, 0.04128668614716287), (123, 0.010479794695363892), (124, 0.027932183690444624), (125, 0.026118185707030433), (126, 0.0), (127, 0.0), (128, 0.00585302771939401), (129, 0.028490477125042633), (130, 0.5463285302013897), (131, 0.019540515913559077), (132, 0.0), (133, 0.0), (134, 0.0), (135, 0.01386939875016814), (136, 0.009731480873199505), (137, 0.01985710055313168), (138, 0.004131313497189799), (139, 0.005919543117302872), (140, 0.0), (141, 0.011574890807027827), (142, 0.0057917677369857794), (143, 0.005534618285497248), (144, 0.01166635221587895), (145, 0.0), (146, 0.0), (147, 0.006056399762839438), (148, 0.00869229532104738), (149, 0.0), (150, 0.085040291544461), (151, 0.08355950236047355), (152, 0.08273264371600383), (153, 0.01943416271508918), (154, 0.0), (155, 0.023097302986053267), (156, 0.00918205432117412), (157, 0.0), (158, 0.0), (159, 0.016343021917996747), (160, 0.004835949002680473), (161, 0.019761027557493205), (162, 0.03154656832618221), (163, 0.0), (164, 0.026072392498338884), (165, 0.018013586026255277), (166, 0.0037999273196798345), (167, 0.0), (168, 0.008883333319675876), (169, 0.060637826031387045), (170, 0.012577306230259643), (171, 0.015695843753832303), (172, 0.0), (173, 0.007336683044354368), (174, 0.00691455109355926), (175, 0.009544285665496212), (176, 0.0), (177, 0.022287083075859082), (178, 0.0), (179, 0.02095166478154388), (180, 0.016898980528367413), (181, 0.015708826263712932), (182, 0.02274215641804101), (183, 0.006420087974848955), (184, 0.0037888628777996147), (185, 0.032480909395654546), (186, 0.039634948244698785), (187, 0.01725514057112788), (188, 0.010469310364914445), (189, 0.0335232927034412), (190, 0.0), (191, 0.043041794464345376), (192, 0.004653638921697461), (193, 0.015842881429467423), (194, 0.0), (195, 0.08281079765820352), (196, 0.041682740650369095), (197, 0.0066097611406273704), (198, 0.0), (199, 0.006382987414834994), (200, 0.013994086710137467), (201, 0.01725175027675917), (202, 0.08101029374039684), (203, 0.0), (204, 0.035896465498638994), (205, 0.00845431364928301), (206, 0.011178637087107791), (207, 0.0), (208, 0.020418848798877974), (209, 0.01140537016443007), (210, 0.005686194316861785), (211, 0.08628919575955785), (212, 0.016106561933384406), (213, 0.018986632223453544), (214, 0.01163960333416514), (215, 0.06847740343973209), (216, 0.004460736806767871), (217, 0.005142431899957847), (218, 0.01597184680988949), (219, 0.007078021389192338), (220, 0.014675672132256175), (221, 0.008181827760165315), (222, 0.02368391011074806), (223, 0.02816680059044355), (224, 0.0), (225, 0.004948379702619889), (226, 0.0), (227, 0.008532731090186775), (228, 0.006517290283832611), (229, 0.0), (230, 0.0222177837055807), (231, 0.03855932635772345), (232, 0.03668627271197836), (233, 0.005207219720878074), (234, 0.014231051905293703), (235, 0.0), (236, 0.0), (237, 0.015611733018969962), (238, 0.010748119482552533), (239, 0.04764320540691855), (240, 0.06782584460015186), (241, 0.006939502527350891), (242, 0.032708748704033966), (243, 0.04327808870210235), (244, 0.00516133611456643), (245, 0.04083305436739238), (246, 0.0), (247, 0.02417620996724589), (248, 0.006476064490281122), (249, 0.03232632803351377), (250, 0.004814655279994904), (251, 0.013375634834324062), (252, 0.018563554656560625), (253, 0.07448306964574922), (254, 0.0), (255, 0.0), (256, 0.0), (257, 0.015274456124947483), (258, 0.0282615791066751), (259, 0.021740245068384914), (260, 0.01568354333437731), (261, 0.015953356104837866), (262, 0.0), (263, 0.03041577089447491), (264, 0.042083246959937017), (265, 0.0), (266, 0.019377627323022915), (267, 0.0), (268, 0.0), (269, 0.03963005846601008), (270, 0.008350087772238144), (271, 0.02448442308370258), (272, 0.004301386453871301), (273, 0.06250974687559525), (274, 0.0), (275, 0.0), (276, 0.0), (277, 0.05404583218130768), (278, 0.0), (279, 0.004027984667058649), (280, 0.01127342698254779), (281, 0.0), (282, 0.0068963984728020655), (283, 0.010213690351373527), (284, 0.0352242981160712), (285, 0.0), (286, 0.07559123326878081), (287, 0.01868035101769062), (288, 0.04712786313009674), (289, 0.009817869910423764), (290, 0.026034565172968933), (291, 0.003921920795097142), (292, 0.022834567981564535), (293, 0.0030593162173033544), (294, 0.019522856692455834), (295, 0.0260185115479138), (296, 0.014447405096280163), (297, 0.027612546844616392), (298, 0.022769735794534014), (299, 0.02179384933077346), (300, 0.02333644971561935), (301, 0.047215536926335615), (302, 0.014513309521385674), (303, 0.005725182610715049), (304, 0.0), (305, 0.01651920943934276), (306, 0.08981353542688791), (307, 0.006566252135923245), (308, 0.0), (309, 0.018762641916674705), (310, 0.02002070025803926), (311, 0.0), (312, 0.0), (313, 0.028396201582151826), (314, 0.01694709729414696), (315, 0.020278868283126566), (316, 0.011337101866343537), (317, 0.019250330560390674), (318, 0.0), (319, 0.01137392409450318), (320, 0.012824084421429231), (321, 0.026417024011840675), (322, 0.042396285870280735), (323, 0.010942111726217325), (324, 0.011324521143584485), (325, 0.07192103903856174), (326, 0.0), (327, 0.02111275082585458), (328, 0.02707934863315167), (329, 0.013581683473539875), (330, 0.03081035554103728), (331, 0.0), (332, 0.04604140010661366), (333, 0.011794599657694641), (334, 0.032481713368159054), (335, 0.00397774672553961), (336, 0.023739141591647753), (337, 0.003905187556525319), (338, 0.024749821732872018), (339, 0.010197852316523174), (340, 0.026318323436486), (341, 0.10058970876031836), (342, 0.012313019205951105), (343, 0.08708420323366516), (344, 0.004525316358767848), (345, 0.010912367159078692), (346, 0.011231376129307951), (347, 0.03888456582451462), (348, 0.0042592819869340616), (349, 0.0), (350, 0.005743763627354232), (351, 0.0), (352, 0.0430765625745661), (353, 0.016838038256513158), (354, 0.010343692555874414), (355, 0.009717132452270764), (356, 0.010781416114661602), (357, 0.02120544564275143), (358, 0.013616584877794179), (359, 0.0), (360, 0.007575906479636067), (361, 0.02313826355383994), (362, 0.019315635619602346), (363, 0.056633899938209574), (364, 0.005984792565068548), (365, 0.01942767417213705), (366, 0.0065110858849008555), (367, 0.01517192856271098), (368, 0.01351493935502215), (369, 0.003292942313871097), (370, 0.0), (371, 0.004734617053771803), (372, 0.008017982048442132), (373, 0.0), (374, 0.03394044350654352), (375, 0.015628739480982312), (376, 0.01772070476965031), (377, 0.0), (378, 0.0), (379, 0.011265314425141126), (380, 0.004942929882420448), (381, 0.017803105770945255), (382, 0.02094371589869947), (383, 0.0), (384, 0.025278586428932787), (385, 0.048721966324598666), (386, 0.01278307941669434), (387, 0.004057927480423565), (388, 0.0040618066529261275), (389, 0.0), (390, 0.011773531326607675), (391, 0.0), (392, 0.004570464715646521), (393, 0.0), (394, 0.011332108249355589), (395, 0.07290739782082904), (396, 0.0), (397, 0.02566510441199651), (398, 0.0), (399, 0.0), (400, 0.0), (401, 0.028411644987107156), (402, 0.03340249918054927), (403, 0.01322720454784528), (404, 0.010226707593192132), (405, 0.08159309163801476), (406, 0.007142177634812566), (407, 0.021590585732558662), (408, 0.004067976632519156), (409, 0.01036597962752158), (410, 0.011430899933433507), (411, 0.018464534075867817), (412, 0.012749412412210599), (413, 0.0074751077176610425), (414, 0.02794297735093727), (415, 0.011130686552010997), (416, 0.003942853544278957), (417, 0.01535911102466815), (418, 0.027622089034206865), (419, 0.030810602553028248), (420, 0.004626675107914342), (421, 0.008707780858641628), (422, 0.0), (423, 0.0), (424, 0.018774687573535658), (425, 0.018758398443928306), (426, 0.015466069484074186), (427, 0.01931807399652475), (428, 0.020369974633518865), (429, 0.0), (430, 0.0332994132285699), (431, 0.10440015493044044), (432, 0.0), (433, 0.030938320985935006), (434, 0.009969574998066798), (435, 0.004278154791547112), (436, 0.0), (437, 0.01328465965438279), (438, 0.0), (439, 0.012214469435199281), (440, 0.020211710928374597), (441, 0.0128959611402692), (442, 0.007942369712685459), (443, 0.0), (444, 0.0), (445, 0.026385676141101502), (446, 0.006828853317290096), (447, 0.008290462092181412), (448, 0.0049663461536273105), (449, 0.006331157357322845), (450, 0.0), (451, 0.039806876167880964), (452, 0.02947992951429127), (453, 0.0), (454, 0.003993273362678802), (455, 0.0), (456, 0.01962402294244476), (457, 0.006384830702709816), (458, 0.005886982258245198), (459, 0.0), (460, 0.0085653462416166), (461, 0.008238105110748316), (462, 0.0), (463, 0.013887120208531195), (464, 0.06791055960067524), (465, 0.012781906109872595), (466, 0.007893452828295478), (467, 0.032167670828714606), (468, 0.01799744034890418), (469, 0.023818920174676676), (470, 0.012947616832903536), (471, 0.0), (472, 0.027017945117651182), (473, 0.0), (474, 0.0), (475, 0.01919419894255063), (476, 0.0), (477, 0.11273896348123928), (478, 0.0), (479, 0.0), (480, 0.009247162243547888), (481, 0.022185035941589895), (482, 0.007306716338599434), (483, 0.01566939192263998), (484, 0.08930962179602578), (485, 0.008556172644316698), (486, 0.011799256924191256), (487, 0.0), (488, 0.17012007545962915), (489, 0.0), (490, 0.0), (491, 0.03165048113714008), (492, 0.026236082259812128), (493, 0.011188733588841156), (494, 0.005300211053474344), (495, 0.01779251836888569), (496, 0.1162052043308167), (497, 0.014714549170163618), (498, 0.025810286670567943), (499, 0.0), (500, 0.013535126554771284), (501, 0.01815406828987936), (502, 0.0), (503, 0.0), (504, 0.004328675411401568), (505, 0.0), (506, 0.019304508572583593), (507, 0.004040089258390181), (508, 0.004947338840268099), (509, 0.016241638060743344), (510, 0.009821295760560955), (511, 0.023940926754670386), (512, 0.011384774946624914), (513, 0.0057353155410470305), (514, 0.005721587860348887), (515, 0.03330710238183342), (516, 0.005499498971100913), (517, 0.013779949394495918), (518, 0.0), (519, 0.01698162502810622), (520, 0.02480051073119845), (521, 0.03052354337052928), (522, 0.010229335425150698), (523, 0.0767599371594407), (524, 0.06056591805956604), (525, 0.004279636754386481), (526, 0.0), (527, 0.011083794366649323), (528, 0.03131523426079474), (529, 0.004329266239168868), (530, 0.00847091228029934), (531, 0.0), (532, 0.004899195778932635), (533, 0.005934164693256763), (534, 0.005210903799246022), (535, 0.007877955311205751), (536, 0.0), (537, 0.02189255384305354), (538, 0.06017805943357003), (539, 0.04609543565055565), (540, 0.019232033785650096), (541, 0.0), (542, 0.009298593246011629), (543, 0.0), (544, 0.0), (545, 0.03081725856863692), (546, 0.016879618926694755), (547, 0.08929694137998588), (548, 0.01550584382728383), (549, 0.003992036885559777), (550, 0.03604415425355211), (551, 0.01900875704161896), (552, 0.0), (553, 0.03665799023020199), (554, 0.005117909068015389), (555, 0.03001120429023093), (556, 0.00771785360286611), (557, 0.0), (558, 0.0), (559, 0.0), (560, 0.009607633131918607), (561, 0.030804139701325967), (562, 0.003264222508046245), (563, 0.014398872245409793), (564, 0.028635564993621392), (565, 0.011425319014673412), (566, 0.022575292469541916), (567, 0.04886988609108852), (568, 0.04536669475996404), (569, 0.05057581133694546), (570, 0.031101540153198787), (571, 0.0), (572, 0.012540249971851516), (573, 0.0), (574, 0.0), (575, 0.03251052873439678), (576, 0.0), (577, 0.011004271350275912), (578, 0.007535359966484894), (579, 0.0), (580, 0.0), (581, 0.0), (582, 0.05514446671022333), (583, 0.017484800646278942), (584, 0.0), (585, 0.004139121431491194), (586, 0.034721236308780434), (587, 0.0), (588, 0.004471022307898776), (589, 0.0), (590, 0.003965616894813741), (591, 0.013433745845269175), (592, 0.15273082293141316), (593, 0.0), (594, 0.06522854706849626), (595, 0.005802490579786455), (596, 0.0), (597, 0.017896029815718164), (598, 0.0), (599, 0.024714393718062125), (600, 0.024765077270397735), (601, 0.010435390915491217), (602, 0.009987488630356207), (603, 0.017587264347444634), (604, 0.0), (605, 0.0), (606, 0.0), (607, 0.0), (608, 0.06854217274530348), (609, 0.08006841481074393), (610, 0.02691779538491564), (611, 0.0), (612, 0.008476935698577383), (613, 0.026685536310285418), (614, 0.01099011995425468), (615, 0.03529634678061716), (616, 0.005833663813518248), (617, 0.013371421501499395), (618, 0.07955588220995949), (619, 0.005251539597395943), (620, 0.01344709832683953), (621, 0.011219195411601487), (622, 0.01696758257347729), (623, 0.0), (624, 0.0), (625, 0.0), (626, 0.0), (627, 0.009419803409716133), (628, 0.0), (629, 0.019720746040635246), (630, 0.0), (631, 0.024199004651718672), (632, 0.004768384005003822), (633, 0.0), (634, 0.015558122408320855), (635, 0.04189843644944223), (636, 0.0), (637, 0.008267891839358252), (638, 0.007358642816691507), (639, 0.022861232155295563), (640, 0.03295051415389563), (641, 0.00999450977398179), (642, 0.00689638179468792), (643, 0.010952890422746015), (644, 0.019110067141564723), (645, 0.006520952339895875), (646, 0.0), (647, 0.0), (648, 0.07675151225730778), (649, 0.0), (650, 0.006513333276677186), (651, 0.01185216920848692), (652, 0.0), (653, 0.015821060351512754), (654, 0.01009560410906312), (655, 0.00745578403378729), (656, 0.030569490927620336), (657, 0.0176790026795903), (658, 0.01621502210890442), (659, 0.007437127469836068), (660, 0.021309318828107694), (661, 0.02203747591072156), (662, 0.017958509464937857), (663, 0.017602120469119166), (664, 0.010131886754637668), (665, 0.008001928045392057), (666, 0.0186068226505869), (667, 0.0), (668, 0.00757804972198442), (669, 0.015254520694357804), (670, 0.0065020613693268815), (671, 0.007228408478299624), (672, 0.009409215262338871), (673, 0.005757487808460266), (674, 0.022572056610751512), (675, 0.00469221964194992), (676, 0.0), (677, 0.012339247229537826), (678, 0.0), (679, 0.009201498339609553), (680, 0.004575818803049008), (681, 0.026596316053746735), (682, 0.005933759127326823), (683, 0.010813608859906761), (684, 0.018479902932122174), (685, 0.008839906076750018), (686, 0.007688493600737869), (687, 0.016480704239953174), (688, 0.03728753551757228), (689, 0.03493190553126703), (690, 0.01634051437287964), (691, 0.012612816816150903), (692, 0.024060446117953153), (693, 0.0), (694, 0.0), (695, 0.0), (696, 0.008036448434363835), (697, 0.02678368091399373), (698, 0.0), (699, 0.023471380588043475), (700, 0.023914805763775044), (701, 0.004802973021172863), (702, 0.007469875076581269), (703, 0.009360749428774516), (704, 0.004652386527889638), (705, 0.006197376611006048), (706, 0.032492811440964914), (707, 0.0), (708, 0.0), (709, 0.01337131967097097), (710, 0.013920551614729711), (711, 0.0), (712, 0.016364247956297113), (713, 0.03088028202692363), (714, 0.012377281569093988), (715, 0.03285204948082236), (716, 0.012827538803380271), (717, 0.004486969198140243), (718, 0.0), (719, 0.026646803555670333), (720, 0.016825902509159163), (721, 0.0), (722, 0.0038661266247531764), (723, 0.015393619100589624), (724, 0.017374056079306244), (725, 0.031995288589811634), (726, 0.03517557454044133), (727, 0.013638149748778996), (728, 0.005690503596925024), (729, 0.005883325824156483), (730, 0.0), (731, 0.012347458226759641), (732, 0.0689063339046576), (733, 0.01435364335208196), (734, 0.006555992320501469), (735, 0.0), (736, 0.01494028369688421), (737, 0.012748558762884426), (738, 0.024590023015820233), (739, 0.0), (740, 0.005356063894947976), (741, 0.0), (742, 0.010624773422827605), (743, 0.008204398919909168), (744, 0.003979050138570988), (745, 0.006431917689947453), (746, 0.019210125059696177), (747, 0.004797049433507892), (748, 0.01199385646759632), (749, 0.08258858713724879), (750, 0.03428953845147015), (751, 0.02111105631701974), (752, 0.01835321001565602), (753, 0.015371140024339033), (754, 0.0), (755, 0.01982518492941467), (756, 0.02062852679581701), (757, 0.04222525935885623), (758, 0.007054609581573071), (759, 0.0), (760, 0.0), (761, 0.0), (762, 0.05162266039111138), (763, 0.019713648923251482), (764, 0.0), (765, 0.0045473292226051055), (766, 0.006477207818372924), (767, 0.011655283354730098), (768, 0.029589644874402826), (769, 0.06091029025858457), (770, 0.00973338626556149), (771, 0.0), (772, 0.02489796357927056), (773, 0.004162311275871361), (774, 0.0), (775, 0.022616379616129577), (776, 0.003927087822337867), (777, 0.0), (778, 0.01163213552390609), (779, 0.017195983198310418), (780, 0.008187337884291556), (781, 0.032445910823094726), (782, 0.03575036752865873), (783, 0.0), (784, 0.0), (785, 0.016599281525688243), (786, 0.006687119115856343), (787, 0.014429168882739596), (788, 0.03486741736581425), (789, 0.006944603403976609), (790, 0.004170288671093452), (791, 0.0), (792, 0.004576871802979965), (793, 0.012703976428706451), (794, 0.015130440680289825), (795, 0.05328697878174023), (796, 0.0), (797, 0.008332550765650093), (798, 0.008212085685776742), (799, 0.0), (800, 0.011034338990322322), (801, 0.007313610114824903), (802, 0.02606524176817109), (803, 0.01625235880899062), (804, 0.004745343140297539), (805, 0.003978793396110273), (806, 0.00823940668789712), (807, 0.018122313282488565), (808, 0.01234269175426116), (809, 0.02079997839401836), (810, 0.011479415110388708), (811, 0.027711076549564607), (812, 0.006619042924770575), (813, 0.009665026918558728), (814, 0.022583606887292718), (815, 0.0), (816, 0.0), (817, 0.006774319000446316), (818, 0.0149617601463522), (819, 0.06440785432325011), (820, 0.010853386151162076), (821, 0.021554740456249402), (822, 0.01860057763627077), (823, 0.0), (824, 0.005559870186327566), (825, 0.005117008477176895), (826, 0.01304594413337427), (827, 0.027604052894958726), (828, 0.05423747323428136), (829, 0.01128698801305061), (830, 0.027281860952416765), (831, 0.0), (832, 0.004374886715132976), (833, 0.03879295964291868), (834, 0.0069433127163036415), (835, 0.0066187825153109624), (836, 0.009290140508456063), (837, 0.0), (838, 0.04289051841320977), (839, 0.0), (840, 0.012497079968044389), (841, 0.0), (842, 0.021408611141784235), (843, 0.07010801624829342), (844, 0.09188840267319993), (845, 0.013882096437317127), (846, 0.02439225185061327), (847, 0.035519874306977194), (848, 0.04352506851445739), (849, 0.022755666148862822), (850, 0.011506840022909734), (851, 0.013853719422779534), (852, 0.019002001669829034), (853, 0.02108545871395763), (854, 0.0167610885529397), (855, 0.029633834559260306), (856, 0.01562842704929506), (857, 0.07750773140191619), (858, 0.04739103415949668), (859, 0.017508320885859956), (860, 0.0), (861, 0.0), (862, 0.007496802934453252), (863, 0.0), (864, 0.027424532852703673), (865, 0.008198068494131306), (866, 0.02362791894667908), (867, 0.03318576063203523), (868, 0.004898553300335217), (869, 0.005409445308202267), (870, 0.036429799802834874), (871, 0.00714776921509561), (872, 0.05365069196220562), (873, 0.0), (874, 0.013457936254266497), (875, 0.013425835803130557), (876, 0.0), (877, 0.0), (878, 0.00904717220548833), (879, 0.0), (880, 0.010386776912195366), (881, 0.01357649669784368), (882, 0.019321946021328557), (883, 0.004110131353387305), (884, 0.0), (885, 0.003859296235798985), (886, 0.019125026968897625), (887, 0.01145843119655992), (888, 0.0), (889, 0.0), (890, 0.004487405832644757), (891, 0.0351827917807242), (892, 0.006916792866945553), (893, 0.0), (894, 0.012171357726730257), (895, 0.0325081338058166), (896, 0.008722052519126878), (897, 0.011388941062153293), (898, 0.08666643349811376), (899, 0.016872242608467505), (900, 0.00654518057662437), (901, 0.0), (902, 0.012548222116637826), (903, 0.006520887225695454), (904, 0.05232660844829801), (905, 0.04644403710713584), (906, 0.013942121750330261), (907, 0.00395678580035358), (908, 0.017941951141568463), (909, 0.0176819985844393), (910, 0.0), (911, 0.01974151359825065), (912, 0.03021366005915327), (913, 0.010160391949292634), (914, 0.008613389614456705), (915, 0.01591114207378381), (916, 0.010473308846812242), (917, 0.0), (918, 0.025374406735205312), (919, 0.032898200689728985), (920, 0.01371580412594809), (921, 0.012989459219768204), (922, 0.0), (923, 0.0), (924, 0.009845424547241754), (925, 0.0), (926, 0.011653055647698543), (927, 0.03715836817745562), (928, 0.0099958359913414), (929, 0.01577295873214263), (930, 0.009133818379004694), (931, 0.004299702175837257), (932, 0.0), (933, 0.0), (934, 0.038531140558310056), (935, 0.018476597571018185), (936, 0.012557983247486668), (937, 0.023833718159592905), (938, 0.01231590594525106), (939, 0.007530714345429966), (940, 0.012274371986239497), (941, 0.0), (942, 0.0), (943, 0.0), (944, 0.0), (945, 0.01674297494088671), (946, 0.020118174891563617), (947, 0.007116946552714976), (948, 0.11759747794630665), (949, 0.008326589905571793), (950, 0.0), (951, 0.014768810799624216), (952, 0.022701751359438232), (953, 0.014913262569863625), (954, 0.02035111025656921), (955, 0.0), (956, 0.08671486613686084), (957, 0.026335609863597734), (958, 0.006398408447805055), (959, 0.0), (960, 0.0), (961, 0.010903104834714235), (962, 0.014797531765339333), (963, 0.01951924732044359), (964, 0.0), (965, 0.03764024102766484), (966, 0.03717510488994061), (967, 0.0), (968, 0.012682480225729372), (969, 0.0), (970, 0.009549756438743914), (971, 0.012646882805253609), (972, 0.0), (973, 0.008478112390204667), (974, 0.008966850755553084), (975, 0.06377589948935174), (976, 0.0), (977, 0.0342591665285101), (978, 0.011364669218615203), (979, 0.0061900813315670855), (980, 0.0), (981, 0.01968495539736436), (982, 0.009466235499064016), (983, 0.07804577859200315), (984, 0.08732246186342343), (985, 0.023335965439156423), (986, 0.005271964643722669), (987, 0.008281227910303255), (988, 0.004273661772884809), (989, 0.0), (990, 0.03265596887862395), (991, 0.011311878207823865), (992, 0.005644367534328919), (993, 0.004334317149264174), (994, 0.005361681432225856), (995, 0.012645167197867258), (996, 0.007444922623445065), (997, 0.004745048670925713), (998, 0.0), (999, 0.0), (1000, 0.008615430553698364), (1001, 0.019860148469659562), (1002, 0.008199135678728242), (1003, 0.0), (1004, 0.028390827421046268), (1005, 0.015960830344101853), (1006, 0.033121407745744826), (1007, 0.020201429752533483), (1008, 0.0), (1009, 0.013293066323179196), (1010, 0.025355580228920187), (1011, 0.026530433033107717), (1012, 0.019052757057734508), (1013, 0.0073505751957560995), (1014, 0.014222886168831553), (1015, 0.01327033763190083), (1016, 0.006248700657464413), (1017, 0.01193231990764709), (1018, 0.009856499847670248), (1019, 0.006642835894334471), (1020, 0.00671601734043625), (1021, 0.006972889273767894), (1022, 0.011207768457383463), (1023, 0.013799403488812386), (1024, 0.005495115184461759), (1025, 0.0038342477482504606), (1026, 0.007834597683868606), (1027, 0.05490262610631802), (1028, 0.0), (1029, 0.026758865820991504), (1030, 0.0), (1031, 0.010184251504957192), (1032, 0.0), (1033, 0.09565573667981044), (1034, 0.007646024805086485), (1035, 0.017061796557322255), (1036, 0.0075301966988808745), (1037, 0.03752164872582107), (1038, 0.0), (1039, 0.007823271119617167), (1040, 0.0), (1041, 0.015572099785704152), (1042, 0.019895396720518228), (1043, 0.023867790517805795), (1044, 0.012845338356746328), (1045, 0.03958888367825131), (1046, 0.03053817821879392), (1047, 0.004482890025803007), (1048, 0.01174565411130112), (1049, 0.0), (1050, 0.0059264934970770814), (1051, 0.09161467836882715), (1052, 0.003983320867863237), (1053, 0.0), (1054, 0.009044803978368803), (1055, 0.009622388074140295), (1056, 0.01042170495042747), (1057, 0.005661172903981655), (1058, 0.0), (1059, 0.004259107623383949), (1060, 0.008302699770470651), (1061, 0.007187833459201626), (1062, 0.029800192759643837), (1063, 0.011819130242844866), (1064, 0.02471516399150468), (1065, 0.004822232752642429), (1066, 0.012784754453401971), (1067, 0.016685783139825987), (1068, 0.04548637745570056), (1069, 0.02740599673894467), (1070, 0.0), (1071, 0.01836645736475809), (1072, 0.0), (1073, 0.0), (1074, 0.012314007572792584), (1075, 0.007374331494912114), (1076, 0.012781963297345395), (1077, 0.011547273095674692), (1078, 0.0), (1079, 0.021081502129284942), (1080, 0.0), (1081, 0.0), (1082, 0.005181680438802488), (1083, 0.0), (1084, 0.007823382876123885), (1085, 0.007091932912756107), (1086, 0.007457246579503333), (1087, 0.09273887829232323), (1088, 0.0), (1089, 0.0), (1090, 0.03671473855799305), (1091, 0.013391937424871067), (1092, 0.017598139182918072), (1093, 0.0), (1094, 0.006850751444658819), (1095, 0.013946338005728089), (1096, 0.011943154852223777), (1097, 0.0), (1098, 0.0), (1099, 0.02039407280049568), (1100, 0.0), (1101, 0.0), (1102, 0.005236316754637032), (1103, 0.0), (1104, 0.004528764091217173), (1105, 0.008733119226081582), (1106, 0.06981777678737743), (1107, 0.0), (1108, 0.012481372990841635), (1109, 0.00954206782918108), (1110, 0.0), (1111, 0.03921620949764949), (1112, 0.015774144226142747), (1113, 0.056686118043223294), (1114, 0.023265938937089815), (1115, 0.0098291249424153), (1116, 0.01587439633217949), (1117, 0.0), (1118, 0.03348392506672937), (1119, 0.008524362106988115), (1120, 0.0036683153237410267), (1121, 0.0), (1122, 0.013499972786881222), (1123, 0.0), (1124, 0.007257549365964802), (1125, 0.0), (1126, 0.0068693427546687984), (1127, 0.005192875668987642), (1128, 0.006859359589516737), (1129, 0.03843455877410857), (1130, 0.012039726532477337), (1131, 0.0), (1132, 0.00408910889519314), (1133, 0.0), (1134, 0.028758450231509473), (1135, 0.029606369610314896), (1136, 0.013681238068936882), (1137, 0.010886961724989389), (1138, 0.005337034561983624), (1139, 0.0), (1140, 0.013155754465648409), (1141, 0.013119338799729745), (1142, 0.011039938926385622), (1143, 0.012140048633623913), (1144, 0.009011491112615816), (1145, 0.0), (1146, 0.010928866366476438), (1147, 0.0), (1148, 0.0), (1149, 0.0), (1150, 0.029200997082059886), (1151, 0.01226583048173277), (1152, 0.0), (1153, 0.003699204395424773), (1154, 0.004702649474354382), (1155, 0.01539223960849524), (1156, 0.0), (1157, 0.08662685044638806), (1158, 0.0), (1159, 0.0), (1160, 0.0), (1161, 0.03419589144743239), (1162, 0.02103053559360748), (1163, 0.0), (1164, 0.0042900400281686854), (1165, 0.007205995604053147), (1166, 0.0), (1167, 0.0), (1168, 0.005166774354719796), (1169, 0.0), (1170, 0.004307506930789316), (1171, 0.013443298403460514), (1172, 0.022842127307453105), (1173, 0.03910117775450721), (1174, 0.005393648813881522), (1175, 0.017655642094835368), (1176, 0.010756960624158776), (1177, 0.0), (1178, 0.0036551041398170388), (1179, 0.016532963879013332), (1180, 0.007436818354303496), (1181, 0.0), (1182, 0.027955630928429176), (1183, 0.004897171956961087), (1184, 0.0), (1185, 0.04476363329800135), (1186, 0.010788538392390551), (1187, 0.030492551713837333), (1188, 0.0), (1189, 0.0), (1190, 0.010018951053837988), (1191, 0.01665487768776784), (1192, 0.05161440399501349), (1193, 0.0267104205546725), (1194, 0.02979065447426734), (1195, 0.029850909856603366), (1196, 0.010469314233445421), (1197, 0.021902544678703735), (1198, 0.006886098399110933), (1199, 0.0), (1200, 0.0), (1201, 0.029392699869645517), (1202, 0.0), (1203, 0.0), (1204, 0.07121305289068072), (1205, 0.0), (1206, 0.02357242591776319), (1207, 0.01931391739171946), (1208, 0.005485519857364048), (1209, 0.0), (1210, 0.02140994004702822), (1211, 0.0), (1212, 0.013642647796834427), (1213, 0.0), (1214, 0.011639760493428521), (1215, 0.016509039337576983), (1216, 0.011704978441424435), (1217, 0.0), (1218, 0.014157800819052976), (1219, 0.013403364482147502), (1220, 0.010201683852633703), (1221, 0.022636275517584323), (1222, 0.0), (1223, 0.022913163470627065), (1224, 0.0), (1225, 0.06129093808788902), (1226, 0.012152700917200523), (1227, 0.0), (1228, 0.007465151075704409), (1229, 0.013843473968308005), (1230, 0.005064088643423318), (1231, 0.0066661690427420135), (1232, 0.0), (1233, 0.00836549796032544), (1234, 0.0), (1235, 0.0), (1236, 0.0), (1237, 0.0), (1238, 0.018135098979332943), (1239, 0.03383061894942936), (1240, 0.02523617180591945), (1241, 0.011411535200037197), (1242, 0.006363954305384141), (1243, 0.021456585108670895), (1244, 0.012617683685534165), (1245, 0.025566778811140927), (1246, 0.01603251460568575), (1247, 0.0), (1248, 0.0), (1249, 0.05217276181588075), (1250, 0.05011978706576855), (1251, 0.0), (1252, 0.020918437945694084), (1253, 0.07651501477213002), (1254, 0.03570548921057229), (1255, 0.014237483135967961), (1256, 0.03606223648524332), (1257, 0.035342726220550874), (1258, 0.027546472372966622), (1259, 0.016620215343267877), (1260, 0.0), (1261, 0.010202983920841962), (1262, 0.023472830842582323), (1263, 0.01206297618235663), (1264, 0.0), (1265, 0.0057342136650618426), (1266, 0.031108644873957647), (1267, 0.010926585383949465), (1268, 0.016331503298542695), (1269, 0.01221285754335509), (1270, 0.015208588593652442), (1271, 0.0), (1272, 0.006854320036360312), (1273, 0.015736903448446662), (1274, 0.009096704051016449), (1275, 0.0662491314858245), (1276, 0.0039352561276196395), (1277, 0.003217560397149436), (1278, 0.03313286412707626), (1279, 0.016238527826579887), (1280, 0.029890281738349594), (1281, 0.019270789609810976), (1282, 0.004599898068012455), (1283, 0.02002486473814356), (1284, 0.007772139124396297), (1285, 0.005051176529055888), (1286, 0.0), (1287, 0.006702373979267449), (1288, 0.010244381837429024), (1289, 0.0), (1290, 0.004674161191441005), (1291, 0.007971120713445462), (1292, 0.005188271967997347), (1293, 0.02521463920605551), (1294, 0.0), (1295, 0.042747452803342516), (1296, 0.010898492683148712), (1297, 0.004306275987520889), (1298, 0.0), (1299, 0.0), (1300, 0.006751149151976692), (1301, 0.01444601325062751), (1302, 0.01245110998912485), (1303, 0.0), (1304, 0.01659496357380881), (1305, 0.04639320780769461), (1306, 0.03465747111583264), (1307, 0.021232448871174415), (1308, 0.03374583359859753), (1309, 0.01730249983873411), (1310, 0.033187964264383106), (1311, 0.0), (1312, 0.016276327291230065), (1313, 0.0), (1314, 0.009422698533976578), (1315, 0.011898476053228269), (1316, 0.006299035777054237), (1317, 0.028079428230258316), (1318, 0.007120551282012765), (1319, 0.012664049572522674), (1320, 0.012414089761287628), (1321, 0.01903034284761542), (1322, 0.004379997036574257), (1323, 0.0), (1324, 0.013048563565331435), (1325, 0.0), (1326, 0.009985860379083594), (1327, 0.013271978891827265), (1328, 0.04172357443447343), (1329, 0.03102851775068296), (1330, 0.046915564129053115), (1331, 0.0), (1332, 0.017619593554691088), (1333, 0.0695698901525662), (1334, 0.06180704313433452), (1335, 0.013392130662037266), (1336, 0.004517802627826946), (1337, 0.005384181858050964), (1338, 0.009421055545846515), (1339, 0.0), (1340, 0.0), (1341, 0.03149717650123649), (1342, 0.0), (1343, 0.005114863985088343), (1344, 0.0064561156898437005), (1345, 0.006984788905273068), (1346, 0.027228026584121826), (1347, 0.004155949239704271), (1348, 0.004595645300107696), (1349, 0.0048480124392081825), (1350, 0.01191560477466037), (1351, 0.03388269825303243), (1352, 0.014045674574625761), (1353, 0.007423616082013452), (1354, 0.033953316107191274), (1355, 0.01621837731227218), (1356, 0.0), (1357, 0.03571017990041126), (1358, 0.012055911382307678), (1359, 0.0075221882844829415), (1360, 0.003915947170492757), (1361, 0.0), (1362, 0.0), (1363, 0.010001101456474972), (1364, 0.05184286287811276), (1365, 0.017642199230717075), (1366, 0.01103432793681006), (1367, 0.0), (1368, 0.026121447201570322), (1369, 0.048203326618776285), (1370, 0.009086441692043158), (1371, 0.0), (1372, 0.0), (1373, 0.0211172552836516), (1374, 0.04105991682973673), (1375, 0.0040894549482431), (1376, 0.013294356790577274), (1377, 0.013373749252915703), (1378, 0.010529151674690642), (1379, 0.0481924210740662), (1380, 0.017438627563579893), (1381, 0.01897517178119689), (1382, 0.09921075841932941), (1383, 0.0), (1384, 0.06515650483878638), (1385, 0.019257080021857446), (1386, 0.023150016446936497), (1387, 0.01825046430453898), (1388, 0.006986883235865322), (1389, 0.007325503725141249), (1390, 0.004629089134945873), (1391, 0.0), (1392, 0.013194923053608063), (1393, 0.02619550725482874), (1394, 0.00381207560226968), (1395, 0.003463410144370592), (1396, 0.029112633880405872), (1397, 0.0060158160228760945), (1398, 0.014160648096993265), (1399, 0.0), (1400, 0.09359351233701786), (1401, 0.02212977981816668), (1402, 0.012884047051444962), (1403, 0.016135308136519432), (1404, 0.004067171123705327), (1405, 0.016283781541503506), (1406, 0.005156429018588507), (1407, 0.007439254449832964), (1408, 0.01355045994579239), (1409, 0.0), (1410, 0.0), (1411, 0.02779147815342818), (1412, 0.04075930858887073), (1413, 0.021192351179804184), (1414, 0.026951023938576495), (1415, 0.0), (1416, 0.007629716706743342), (1417, 0.039153417379714645), (1418, 0.0348793333558093), (1419, 0.00528227873445479), (1420, 0.030322494145916257), (1421, 0.011844874201752776), (1422, 0.004189314937413694), (1423, 0.0), (1424, 0.0), (1425, 0.019620577780143398), (1426, 0.04105781924429613), (1427, 0.0), (1428, 0.015136877863963767), (1429, 0.0), (1430, 0.00400079898013247), (1431, 0.012581465821939461), (1432, 0.0054957424187208215), (1433, 0.0241453316456668), (1434, 0.0), (1435, 0.008162671817622117), (1436, 0.01749544820449696), (1437, 0.013861178830419204), (1438, 0.0), (1439, 0.0), (1440, 0.012421426995828466), (1441, 0.0), (1442, 0.009483008439550107), (1443, 0.02876650367535755), (1444, 0.0), (1445, 0.0), (1446, 0.010831632278927823), (1447, 0.00424390814163458), (1448, 0.0), (1449, 0.0), (1450, 0.02729618505508972), (1451, 0.008083115893703618), (1452, 0.0), (1453, 0.012556313569593303), (1454, 0.005794989070708717), (1455, 0.005269580918439804), (1456, 0.011404445930720007), (1457, 0.007435402112111394), (1458, 0.027003091479087707), (1459, 0.061500105028729206), (1460, 0.04380138517883876), (1461, 0.01950289225323293), (1462, 0.0), (1463, 0.027116232457589276), (1464, 0.007049003319907513), (1465, 0.019598910365355243), (1466, 0.026545286867386685), (1467, 0.03166980347258843), (1468, 0.08621163104891238), (1469, 0.005461930433928328), (1470, 0.05726574596800578), (1471, 0.020676164305271607), (1472, 0.021135019572262936), (1473, 0.0), (1474, 0.012556464159050361), (1475, 0.01454981577180757), (1476, 0.008088972753657364), (1477, 0.06358294442293977), (1478, 0.024587135309519833), (1479, 0.0), (1480, 0.007421064390721794), (1481, 0.0), (1482, 0.010739674702684393), (1483, 0.005235069666394195), (1484, 0.005580942170267378), (1485, 0.018405009193524894), (1486, 0.018258208134017108), (1487, 0.00815885863442022), (1488, 0.020451183193250257), (1489, 0.026767457388853846), (1490, 0.006646729286551967), (1491, 0.0), (1492, 0.012967367992384814), (1493, 0.017646024041240972), (1494, 0.016076800031251736), (1495, 0.026553671443234547), (1496, 0.00808638517046562), (1497, 0.0), (1498, 0.0), (1499, 0.0), (1500, 0.01967044557758549), (1501, 0.01128867154663833), (1502, 0.010115202275745416), (1503, 0.014109504830584967), (1504, 0.08272697844343252), (1505, 0.007020570566206321), (1506, 0.043418362736888164), (1507, 0.049347454260910584), (1508, 0.0), (1509, 0.007721618793867119), (1510, 0.03444273835142674), (1511, 0.0629800349796581), (1512, 0.015917103607453555), (1513, 0.005496015432648666), (1514, 0.012916660711438384), (1515, 0.03429568609186737), (1516, 0.005433544077863025), (1517, 0.008567512117339766), (1518, 0.04615743215914932), (1519, 0.006473395212242673), (1520, 0.004618836951664067), (1521, 0.00972424170944225), (1522, 0.05670391083033904), (1523, 0.006821035711536344), (1524, 0.033069981913896165), (1525, 0.015216258916035343), (1526, 0.04700165476295601), (1527, 0.036162842850979704), (1528, 0.0), (1529, 0.022324122836463827), (1530, 0.013541440685260288), (1531, 0.0), (1532, 0.0), (1533, 0.010689664491437618), (1534, 0.029539919767797573), (1535, 0.008054520018903935), (1536, 0.005486391378782313), (1537, 0.018803244971039714), (1538, 0.006354109588946284), (1539, 0.019475431585057303), (1540, 0.006163258512742571), (1541, 0.0), (1542, 0.0), (1543, 0.007355872964290277), (1544, 0.005064654682073708), (1545, 0.0050593349065192715), (1546, 0.021977406504237233), (1547, 0.01424718495867584), (1548, 0.012124745091276784), (1549, 0.0), (1550, 0.0), (1551, 0.011109016241824837), (1552, 0.018388569811388568), (1553, 0.01377291586839648), (1554, 0.022258627718462667), (1555, 0.060783418146832885), (1556, 0.0), (1557, 0.024478101794590472), (1558, 0.0), (1559, 0.0037237901296835385), (1560, 0.005945399765676634), (1561, 0.007674233376870854), (1562, 0.0), (1563, 0.0), (1564, 0.00981015704367317), (1565, 0.012685335876653157), (1566, 0.028092592073322063), (1567, 0.01742211691737426), (1568, 0.003926442545296921), (1569, 0.009461819960472405), (1570, 0.0128646717010832), (1571, 0.029039688777346084), (1572, 0.02046465119408921), (1573, 0.0), (1574, 0.004341967790366128), (1575, 0.042623441057327065), (1576, 0.004225931804754584), (1577, 0.016679603965244382), (1578, 0.015630666665000115), (1579, 0.023631384266823593), (1580, 0.0), (1581, 0.0313426126995609), (1582, 0.0), (1583, 0.012383193457672439), (1584, 0.01178817565348687), (1585, 0.06971308538534818), (1586, 0.013749895550073502), (1587, 0.02495861609099947), (1588, 0.0), (1589, 0.007820933060524483), (1590, 0.030790374692164457), (1591, 0.0061103818723854866), (1592, 0.07535345034513201), (1593, 0.0), (1594, 0.00963474662442133), (1595, 0.0038937903410263524), (1596, 0.0), (1597, 0.01183572750826577), (1598, 0.006867163481955754), (1599, 0.0053418293214339664), (1600, 0.1161405859186993), (1601, 0.015528783499854848), (1602, 0.0), (1603, 0.02389608758793072), (1604, 0.022576562875538535), (1605, 0.01430797621722823), (1606, 0.0), (1607, 0.006774560443169898), (1608, 0.0075957936364444804), (1609, 0.0), (1610, 0.017148916206414247), (1611, 0.012362167923826401), (1612, 0.006970844489201921), (1613, 0.015436721762464552), (1614, 0.0), (1615, 0.02071748517568665), (1616, 0.018521570807142097), (1617, 0.004200532918250186), (1618, 0.0), (1619, 0.012045430900457971), (1620, 0.004023244817574483), (1621, 0.0), (1622, 0.01556824424670801), (1623, 0.03190138172084396), (1624, 0.0), (1625, 0.0), (1626, 0.021723413381304464), (1627, 0.013518011895626644), (1628, 0.0), (1629, 0.007226046748139437), (1630, 0.008165178833426183), (1631, 0.0), (1632, 0.004125346492917156), (1633, 0.01006934740161255), (1634, 0.042057998627048974), (1635, 0.0), (1636, 0.020750975936122806), (1637, 0.0), (1638, 0.0), (1639, 0.006759057302702677), (1640, 0.012160743816549434), (1641, 0.0), (1642, 0.003982183399205265), (1643, 0.004517190273695518), (1644, 0.006992393729841757), (1645, 0.01597403957587417), (1646, 0.0064240765152569785), (1647, 0.006617247110485882), (1648, 0.0064263711714554715), (1649, 0.0286623176987677), (1650, 0.027372269626095614), (1651, 0.009575301395422307), (1652, 0.009347330762128413), (1653, 0.009340819102654142), (1654, 0.039762706144693974), (1655, 0.008515308546232505), (1656, 0.054725503334349085), (1657, 0.04618941450245004), (1658, 0.007750284228755343), (1659, 0.005623594895064597), (1660, 0.004495568136196911), (1661, 0.0), (1662, 0.010534571126485662), (1663, 0.0), (1664, 0.02319904987503669), (1665, 0.00493995752017567), (1666, 0.00848608302390508), (1667, 0.0), (1668, 0.046613922803686904), (1669, 0.06756547663883632), (1670, 0.0), (1671, 0.0), (1672, 0.0), (1673, 0.007432868778922607), (1674, 0.022253392487615733), (1675, 0.02290301370610375), (1676, 0.012645477033029873), (1677, 0.012562809903895113), (1678, 0.03236123136598279), (1679, 0.009323950041441605), (1680, 0.004791637232069604), (1681, 0.01051616312600975), (1682, 0.02466849729017782), (1683, 0.01127672611046595), (1684, 0.015362868633327899), (1685, 0.007406432994636595), (1686, 0.03505611550869594), (1687, 0.03718232150941918), (1688, 0.015913252664049513), (1689, 0.009028488320556126), (1690, 0.006307033784709689), (1691, 0.007342583308957791), (1692, 0.01640365630089979), (1693, 0.0), (1694, 0.0), (1695, 0.022073297456389186), (1696, 0.012038122975531869), (1697, 0.09584007441074029), (1698, 0.02176249496390283), (1699, 0.0), (1700, 0.10359792231252729), (1701, 0.01911810841647532), (1702, 0.004472027180402609), (1703, 0.0), (1704, 0.004385983531509885), (1705, 0.013099076755803877), (1706, 0.015076774792214132), (1707, 0.015638024789886736), (1708, 0.013185355282754451), (1709, 0.0219928818139003), (1710, 0.010706848493418714), (1711, 0.0), (1712, 0.007482620998550335), (1713, 0.021839486269316095), (1714, 0.04750881289587242), (1715, 0.00626959640910178), (1716, 0.004825412903009446), (1717, 0.0), (1718, 0.011847623630046485), (1719, 0.0038831397548893605), (1720, 0.0), (1721, 0.03644594116304281), (1722, 0.0), (1723, 0.010610753077765961), (1724, 0.0), (1725, 0.012447428053146956), (1726, 0.015229080719249711), (1727, 0.005485588398748667), (1728, 0.004075630936622694), (1729, 0.0), (1730, 0.006382097116691768), (1731, 0.028548801542091246), (1732, 0.016901959534916102), (1733, 0.0047177056925432285), (1734, 0.005528254167882998), (1735, 0.00544095268895242), (1736, 0.00552322163178069), (1737, 0.07287076438276667), (1738, 0.010688717506061655), (1739, 0.007178903230946091), (1740, 0.02153787246834373), (1741, 0.0), (1742, 0.004068308133795156), (1743, 0.009620980261530033), (1744, 0.022725310416047077), (1745, 0.01730391289457934), (1746, 0.014564548518836942), (1747, 0.03760760788496821), (1748, 0.0), (1749, 0.0049484276368455225), (1750, 0.009417814992267433), (1751, 0.0480185879826063), (1752, 0.027827584476172083), (1753, 0.0), (1754, 0.0), (1755, 0.014808528483089285), (1756, 0.004057445368522256), (1757, 0.007865182155076367), (1758, 0.013019717047668362), (1759, 0.014964182300954835), (1760, 0.0), (1761, 0.007153736775098424), (1762, 0.010083414992555152), (1763, 0.0), (1764, 0.03105122981028191), (1765, 0.0), (1766, 0.0), (1767, 0.0349360825866266), (1768, 0.012632534995140169), (1769, 0.0), (1770, 0.013200292336827426), (1771, 0.010273982253492327), (1772, 0.014348698503863319), (1773, 0.006858625556572581), (1774, 0.035385666129982334), (1775, 0.0), (1776, 0.04203763017182035), (1777, 0.03661502588431542), (1778, 0.004007664216016032), (1779, 0.024314590078417977), (1780, 0.032555227160589124), (1781, 0.011811133435947096), (1782, 0.003935272521162803), (1783, 0.007512361918271291), (1784, 0.013476119928706901), (1785, 0.0), (1786, 0.0), (1787, 0.0476047818517175), (1788, 0.06055916613652282), (1789, 0.011295734167857292), (1790, 0.008345015627280987), (1791, 0.011233592331627603), (1792, 0.0), (1793, 0.010593891878051206), (1794, 0.003937082207512924), (1795, 0.0), (1796, 0.004813852841370845), (1797, 0.010724249590853982), (1798, 0.03273443042192069), (1799, 0.0228704841024665), (1800, 0.0), (1801, 0.0), (1802, 0.014083628142270908), (1803, 0.06445051703562958), (1804, 0.014885818679101884), (1805, 0.0), (1806, 0.0), (1807, 0.011086840990273236), (1808, 0.0038587741176474392), (1809, 0.021270226062510566), (1810, 0.006650873858072514), (1811, 0.0), (1812, 0.02973794542901944), (1813, 0.0), (1814, 0.06462614268184516), (1815, 0.0061074266372816415), (1816, 0.022267643279044087), (1817, 0.00772263649450645), (1818, 0.02735387883904738), (1819, 0.014754812917196566), (1820, 0.0), (1821, 0.0), (1822, 0.0055694493592831), (1823, 0.012843352844759171), (1824, 0.048968616442525384), (1825, 0.00823163005115704), (1826, 0.0), (1827, 0.007219881534811788), (1828, 0.008265069345801904), (1829, 0.0), (1830, 0.0), (1831, 0.0), (1832, 0.0), (1833, 0.011951124037232908), (1834, 0.0), (1835, 0.0), (1836, 0.011700534029632417), (1837, 0.0), (1838, 0.0), (1839, 0.0), (1840, 0.014528743037122503), (1841, 0.035439207909163134), (1842, 0.0), (1843, 0.015879647265009556), (1844, 0.007637562147612312), (1845, 0.03825728538336148), (1846, 0.019694164717362586), (1847, 0.005447286283124649), (1848, 0.0), (1849, 0.006891467759633857), (1850, 0.016597954088855744), (1851, 0.004479446413713418), (1852, 0.011146214429806884), (1853, 0.005584566287659306), (1854, 0.0), (1855, 0.016363506289167055), (1856, 0.0), (1857, 0.012095856119097179), (1858, 0.027640986152148182), (1859, 0.004536974619054689), (1860, 0.007199217523988695), (1861, 0.0), (1862, 0.0), (1863, 0.006045764903940423), (1864, 0.006733029879596989), (1865, 0.0), (1866, 0.0), (1867, 0.030439448041148905), (1868, 0.0), (1869, 0.0), (1870, 0.01722903188132358), (1871, 0.0), (1872, 0.016018339645661354), (1873, 0.04638992727404685), (1874, 0.0), (1875, 0.010379512582708403), (1876, 0.012346822719666521), (1877, 0.00410579065847362), (1878, 0.03222319429232963), (1879, 0.0), (1880, 0.015441199012757542), (1881, 0.010018694914179824), (1882, 0.0), (1883, 0.005735323475126623), (1884, 0.0), (1885, 0.0), (1886, 0.013142580329567416), (1887, 0.0048759506615442365), (1888, 0.004226649227765742), (1889, 0.007062655686183081), (1890, 0.0), (1891, 0.04763890855497874), (1892, 0.0), (1893, 0.004538147452146806), (1894, 0.013255684679400102), (1895, 0.02309770504182264), (1896, 0.0045645119932674364), (1897, 0.007590040988313835), (1898, 0.011438167655837352), (1899, 0.03292435453253846), (1900, 0.0), (1901, 0.01253670194091216), (1902, 0.008392123581548503), (1903, 0.035246387913504915), (1904, 0.03989347780619489), (1905, 0.0), (1906, 0.0), (1907, 0.004631396648239923), (1908, 0.028950719239834267), (1909, 0.0), (1910, 0.003634897955991144), (1911, 0.014493834883243599), (1912, 0.006660312793305361), (1913, 0.025186724197261652), (1914, 0.004043752064347205), (1915, 0.02336968718634767), (1916, 0.0), (1917, 0.0), (1918, 0.008433447018373197), (1919, 0.025671764096945337), (1920, 0.006472578216454437), (1921, 0.0), (1922, 0.05795958958365935), (1923, 0.05307809472467592), (1924, 0.031226570916238948), (1925, 0.02520784249904931), (1926, 0.018589776180096888), (1927, 0.0), (1928, 0.004864335330327283), (1929, 0.0), (1930, 0.008071127615243666), (1931, 0.03854196858524723), (1932, 0.026456657166093453), (1933, 0.0), (1934, 0.057209551483005126), (1935, 0.01025974546611195), (1936, 0.01965684082046972), (1937, 0.005182385295702152), (1938, 0.02960591841040945), (1939, 0.016234038950252903), (1940, 0.09136478302306753), (1941, 0.006314724138509024), (1942, 0.0071220751276632336), (1943, 0.00917242066998521), (1944, 0.0), (1945, 0.01937888881904864), (1946, 0.0), (1947, 0.0), (1948, 0.026820302151722583), (1949, 0.005469729047068629), (1950, 0.0318223242622332), (1951, 0.033635998685125526), (1952, 0.004633241845055422), (1953, 0.0), (1954, 0.007072535964353175), (1955, 0.018376428715892207), (1956, 0.0), (1957, 0.018991597216481377), (1958, 0.01629909225974012), (1959, 0.0), (1960, 0.0), (1961, 0.011599106684917159), (1962, 0.022725894527054764), (1963, 0.027457862428398656), (1964, 0.014996150455807225), (1965, 0.018273538633771867), (1966, 0.0), (1967, 0.019110660962393028), (1968, 0.03300075802244491), (1969, 0.004152298900374448), (1970, 0.0), (1971, 0.0148861718624978), (1972, 0.0), (1973, 0.027516413802745523), (1974, 0.06225842097369798), (1975, 0.0), (1976, 0.005893828220592693), (1977, 0.004697488300114746), (1978, 0.007116090065392597), (1979, 0.007346369801470216), (1980, 0.0), (1981, 0.016928430681474975), (1982, 0.032679779499509405), (1983, 0.016494450859918266), (1984, 0.003954624402901298), (1985, 0.016752577035506543), (1986, 0.0111783545210342), (1987, 0.026456660303185303), (1988, 0.017344866243311417), (1989, 0.040198783203116845), (1990, 0.013520791059446827), (1991, 0.0), (1992, 0.02225492713609832), (1993, 0.01006152565877434), (1994, 0.03378874400539268), (1995, 0.0), (1996, 0.015217490020280083), (1997, 0.009349413066375134), (1998, 0.01066525593554684), (1999, 0.007858169899917396), (2000, 0.021443174319198982), (2001, 0.0), (2002, 0.0), (2003, 0.004156794503137019), (2004, 0.0), (2005, 0.027506241560757393), (2006, 0.005932716216602369), (2007, 0.021743618051795522), (2008, 0.006807759223942739), (2009, 0.0), (2010, 0.009660248586999872), (2011, 0.006365394341561413), (2012, 0.011015670993401123), (2013, 0.028541302938574105), (2014, 0.020725341426644533), (2015, 0.017266017245898137), (2016, 0.05649208568704992), (2017, 0.008782186462982604), (2018, 0.00859549024494526), (2019, 0.017374699008469625), (2020, 0.014141756679789546), (2021, 0.011421836483743768), (2022, 0.01870832179444242), (2023, 0.004051805066295891), (2024, 0.020218149758777962), (2025, 0.010938443057542435), (2026, 0.07013258862892516), (2027, 0.017655504372314015), (2028, 0.005650423493921437), (2029, 0.004200675830619375), (2030, 0.0), (2031, 0.043515689953877834), (2032, 0.03545488983845226), (2033, 0.01438464537893035), (2034, 0.02970405168480956), (2035, 0.013527535714459447), (2036, 0.0078335096568386), (2037, 0.01994686028516841), (2038, 0.0), (2039, 0.013321952659379743), (2040, 0.013562416638389113), (2041, 0.03413416097373307), (2042, 0.0), (2043, 0.018918904661406732), (2044, 0.0056041872871659985), (2045, 0.0781163279967894), (2046, 0.0042973089859358864), (2047, 0.028654528363006027), (2048, 0.007160108197390026), (2049, 0.007717454645960029), (2050, 0.006633293036251407), (2051, 0.00795347511211292), (2052, 0.017977312369839703), (2053, 0.004442165217801627), (2054, 0.07319593871855296), (2055, 0.04028533579135286), (2056, 0.02984855129979655), (2057, 0.0), (2058, 0.018843965060073572), (2059, 0.0), (2060, 0.0), (2061, 0.014059714239565712), (2062, 0.025314669830225837), (2063, 0.0), (2064, 0.0051561515199824055), (2065, 0.018721223431044452), (2066, 0.013761058037624195), (2067, 0.012306130024016756), (2068, 0.0), (2069, 0.0), (2070, 0.016497133633498598), (2071, 0.008005619392392572), (2072, 0.004458470969944412), (2073, 0.01074007995260144), (2074, 0.044110101366876264), (2075, 0.016028355285798053), (2076, 0.003628870438869423), (2077, 0.006434388172607205), (2078, 0.013967792882008782), (2079, 0.014026095947063444), (2080, 0.0), (2081, 0.030798684180324998), (2082, 0.005723689553224013), (2083, 0.0055214039520486095), (2084, 0.0), (2085, 0.005496926639377804), (2086, 0.015806251578628226), (2087, 0.006846793191315225), (2088, 0.00552769148383863), (2089, 0.0), (2090, 0.0), (2091, 0.005349426251931957), (2092, 0.0), (2093, 0.018697481812844797), (2094, 0.051526161531632746), (2095, 0.020197677736606353), (2096, 0.007461418241184391), (2097, 0.0), (2098, 0.051605301357236774), (2099, 0.0), (2100, 0.08984315132494483), (2101, 0.007660534784372675), (2102, 0.018714826946032093), (2103, 0.02291721189890414), (2104, 0.0), (2105, 0.0), (2106, 0.0), (2107, 0.0), (2108, 0.0), (2109, 0.011393717683206845), (2110, 0.02981041156244113), (2111, 0.0), (2112, 0.0212875599665713), (2113, 0.009606617249423875), (2114, 0.05829343832254287), (2115, 0.0), (2116, 0.007555310634750826), (2117, 0.053068575063191153), (2118, 0.01031754020768914), (2119, 0.006493936502954952), (2120, 0.007439851077917103), (2121, 0.006664400522129829), (2122, 0.0), (2123, 0.0), (2124, 0.01130845855400898), (2125, 0.011187760402772931), (2126, 0.004437291008956167), (2127, 0.027176704564202275), (2128, 0.004231073660999052), (2129, 0.04967461826816809), (2130, 0.015102750238311652), (2131, 0.011803168398125168), (2132, 0.006670178566178288), (2133, 0.014979947836979665), (2134, 0.0), (2135, 0.0072808735481636935), (2136, 0.024678569568311284), (2137, 0.0), (2138, 0.0), (2139, 0.015518923369512508), (2140, 0.0), (2141, 0.0), (2142, 0.0), (2143, 0.0487244679549656), (2144, 0.007061143388732348), (2145, 0.020076857138375613), (2146, 0.0), (2147, 0.013041603414701263), (2148, 0.0), (2149, 0.0), (2150, 0.027182549117934683), (2151, 0.0), (2152, 0.0), (2153, 0.012299445352876448), (2154, 0.008966662943176), (2155, 0.007122678377772489), (2156, 0.010064726818196151), (2157, 0.006713531163267033), (2158, 0.0), (2159, 0.0), (2160, 0.014684724542117156), (2161, 0.011493533355856525), (2162, 0.0), (2163, 0.021255634762890722), (2164, 0.03652536723355258), (2165, 0.0), (2166, 0.004968837836035935), (2167, 0.008269099291281199), (2168, 0.07016930898739289), (2169, 0.10920825084419437), (2170, 0.009854896550939152), (2171, 0.035552893248439445), (2172, 0.0071240648463887744), (2173, 0.0), (2174, 0.006938814692647114), (2175, 0.018383753906040745), (2176, 0.0), (2177, 0.013378650830646568), (2178, 0.01708293026228035), (2179, 0.0), (2180, 0.029053063629765504), (2181, 0.005988640186866213), (2182, 0.005927048191099373), (2183, 0.006450964554308041), (2184, 0.004956088653290652), (2185, 0.01722981134657713), (2186, 0.0), (2187, 0.009163282760386601), (2188, 0.03551123231622949), (2189, 0.0), (2190, 0.0), (2191, 0.0), (2192, 0.0), (2193, 0.03125662276982161), (2194, 0.0), (2195, 0.00429132762115419), (2196, 0.00844316398153468), (2197, 0.010383074236687112), (2198, 0.03582238678604758), (2199, 0.0), (2200, 0.0), (2201, 0.0), (2202, 0.006594873909537478), (2203, 0.01371135716469841), (2204, 0.0036474031881806677), (2205, 0.018964620011383684), (2206, 0.023846201525655055), (2207, 0.0), (2208, 0.021427232970009633), (2209, 0.029693966663884415), (2210, 0.009738904852788038), (2211, 0.01830095894845648), (2212, 0.02106769063368974), (2213, 0.0), (2214, 0.01721972213684236), (2215, 0.008077233738822694), (2216, 0.0311712750875818), (2217, 0.005523324578662236), (2218, 0.035196432846253144), (2219, 0.0), (2220, 0.0), (2221, 0.018793228366748186), (2222, 0.004444255478819716), (2223, 0.0), (2224, 0.013172103239119718), (2225, 0.0), (2226, 0.0), (2227, 0.020730393384290283), (2228, 0.0), (2229, 0.0), (2230, 0.0), (2231, 0.0), (2232, 0.00515447488299535), (2233, 0.01814586448091412), (2234, 0.0), (2235, 0.0), (2236, 0.014161028649759872), (2237, 0.018284953622298223), (2238, 0.005463879494193258), (2239, 0.04780281787401266), (2240, 0.05583848089878059), (2241, 0.009960599807348975), (2242, 0.010016434081427638), (2243, 0.005659153596404983), (2244, 0.007699024226318635), (2245, 0.03157099418462986), (2246, 0.004294587780416827), (2247, 0.0), (2248, 0.0), (2249, 0.007275072395922997), (2250, 0.012260256748958047), (2251, 0.0), (2252, 0.009271786065091549), (2253, 0.0), (2254, 0.0), (2255, 0.026319290928231362), (2256, 0.0), (2257, 0.0), (2258, 0.0), (2259, 0.02989183723033093), (2260, 0.0), (2261, 0.0), (2262, 0.0038763203352995246), (2263, 0.0046179050856942445), (2264, 0.007093163278774323), (2265, 0.03378025436880452), (2266, 0.0), (2267, 0.0), (2268, 0.004155432449833095), (2269, 0.021497135781486397), (2270, 0.0), (2271, 0.007555963924134217), (2272, 0.0), (2273, 0.00942361004401326), (2274, 0.026773266826771877), (2275, 0.017957014789349055), (2276, 0.01261005253178759), (2277, 0.023857708478619507), (2278, 0.004365058230819214), (2279, 0.007779285231158176), (2280, 0.0), (2281, 0.010592420554085949), (2282, 0.0), (2283, 0.02322890975993752), (2284, 0.0), (2285, 0.026561675104197664), (2286, 0.03953747290063813), (2287, 0.10052043303934229), (2288, 0.0), (2289, 0.0), (2290, 0.02007438078739305), (2291, 0.00968366623613067), (2292, 0.0), (2293, 0.0), (2294, 0.02037014340386728), (2295, 0.0), (2296, 0.01389015743138593), (2297, 0.010329362797359878), (2298, 0.012071072315888637), (2299, 0.0), (2300, 0.0), (2301, 0.02708221557541276), (2302, 0.04443967076274558), (2303, 0.010660228224590885), (2304, 0.0), (2305, 0.0), (2306, 0.008856742075304829), (2307, 0.0), (2308, 0.0), (2309, 0.006687074882633881), (2310, 0.0), (2311, 0.004047451840917101), (2312, 0.0), (2313, 0.025879409991155462), (2314, 0.0), (2315, 0.012222122834826443), (2316, 0.020553919474340085), (2317, 0.01136857880023464), (2318, 0.012885142489413824), (2319, 0.0), (2320, 0.010003909346431514), (2321, 0.0), (2322, 0.02223373421246209), (2323, 0.007205046194502239), (2324, 0.03529619697982558), (2325, 0.0), (2326, 0.009647944052877567), (2327, 0.026221483731886656), (2328, 0.0), (2329, 0.011043713220408171), (2330, 0.0370661759626659), (2331, 0.0065508485320143256), (2332, 0.007168841177123207), (2333, 0.0), (2334, 0.012646442825789861), (2335, 0.07149405440201875), (2336, 0.0), (2337, 0.007365128390639124), (2338, 0.03122304670077803), (2339, 0.01283763036200232), (2340, 0.0), (2341, 0.0), (2342, 0.0), (2343, 0.0), (2344, 0.0), (2345, 0.0), (2346, 0.0), (2347, 0.0), (2348, 0.0), (2349, 0.0), (2350, 0.0), (2351, 0.0051357517203233834), (2352, 0.01276872609930614), (2353, 0.012594473791919249), (2354, 0.0), (2355, 0.0), (2356, 0.013674665413070091), (2357, 0.0), (2358, 0.0), (2359, 0.0), (2360, 0.017385515847376302), (2361, 0.005596246301950943), (2362, 0.0), (2363, 0.011837253409885673), (2364, 0.005593236993986437), (2365, 0.05521522967217114), (2366, 0.0), (2367, 0.008237270751121736), (2368, 0.030932866609407163), (2369, 0.0), (2370, 0.0), (2371, 0.011415588984097206), (2372, 0.0), (2373, 0.0), (2374, 0.0), (2375, 0.008771319441739932), (2376, 0.042918122857135706), (2377, 0.0034155394780502196), (2378, 0.006209046060010665), (2379, 0.0), (2380, 0.0), (2381, 0.013638508871004571), (2382, 0.017475009797091958), (2383, 0.005866342215506742), (2384, 0.02272011747529726), (2385, 0.0), (2386, 0.0), (2387, 0.0), (2388, 0.0), (2389, 0.020311408107437846), (2390, 0.0), (2391, 0.008527452953828903), (2392, 0.0), (2393, 0.008520452551314875), (2394, 0.0), (2395, 0.0), (2396, 0.00805667060865856), (2397, 0.008120082375916585), (2398, 0.0032485079087968575), (2399, 0.00487015256101048), (2400, 0.009030447106742587), (2401, 0.007759484150023531), (2402, 0.007230583605041909), (2403, 0.008068244952396665), (2404, 0.0), (2405, 0.00830396586396884), (2406, 0.039319581817206115), (2407, 0.0), (2408, 0.0156825978506324), (2409, 0.004097960975220597), (2410, 0.00875880342917192), (2411, 0.011932686358457265), (2412, 0.01578924717616912), (2413, 0.012831294674156713), (2414, 0.011349499962917871), (2415, 0.006402046494054966), (2416, 0.004240610023124558), (2417, 0.00819632157026778), (2418, 0.011981084009378223), (2419, 0.0), (2420, 0.0), (2421, 0.02569227612870509), (2422, 0.008353224106916215), (2423, 0.0), (2424, 0.004782173835331919), (2425, 0.0), (2426, 0.01733538553913544), (2427, 0.024204711286941287), (2428, 0.013499704075094526), (2429, 0.004890703900610313), (2430, 0.008730788617949625), (2431, 0.004428318965853518), (2432, 0.009232843850372992), (2433, 0.010712179950327886), (2434, 0.0), (2435, 0.025170787300303078), (2436, 0.012632964959697335), (2437, 0.011961256692098141), (2438, 0.0), (2439, 0.01007900970423728), (2440, 0.0), (2441, 0.030676014155575634), (2442, 0.011376569393462106), (2443, 0.023538807202138627), (2444, 0.016866580387970592), (2445, 0.007348531821798342), (2446, 0.003996303301200095), (2447, 0.02423357162880732), (2448, 0.0), (2449, 0.023975850231792457), (2450, 0.00646694814184618), (2451, 0.007471490058614201), (2452, 0.0), (2453, 0.0), (2454, 0.0), (2455, 0.0), (2456, 0.01087653215033587), (2457, 0.007182033982264302), (2458, 0.004688930186208474), (2459, 0.0064217439152611105), (2460, 0.006958042362876029), (2461, 0.0230970422700534), (2462, 0.0), (2463, 0.011110349733871466), (2464, 0.0), (2465, 0.0), (2466, 0.0), (2467, 0.01897945925704062), (2468, 0.01549319362237242), (2469, 0.01788058794294095), (2470, 0.050704081069212224), (2471, 0.0), (2472, 0.013957333751375839), (2473, 0.013292114362494297), (2474, 0.055999711017422044), (2475, 0.0), (2476, 0.005999197287438714), (2477, 0.0), (2478, 0.0), (2479, 0.013659783101693069), (2480, 0.02690718174694715), (2481, 0.015242353128126945), (2482, 0.003965997981050527), (2483, 0.0), (2484, 0.0), (2485, 0.014445982170951138), (2486, 0.0049125138826013656), (2487, 0.019546570905924234), (2488, 0.00975745546197154), (2489, 0.0), (2490, 0.0), (2491, 0.003966997035724388), (2492, 0.00865920351715447), (2493, 0.0321137932136301), (2494, 0.020794174996490472), (2495, 0.0), (2496, 0.0), (2497, 0.013706535368656658), (2498, 0.00847639865496279), (2499, 0.03271144902000453), (2500, 0.014702948995603905), (2501, 0.016614785692240137), (2502, 0.0070443019992325225), (2503, 0.045370392797752665), (2504, 0.026456004064937075), (2505, 0.007774324603234226), (2506, 0.012272303934292432), (2507, 0.0), (2508, 0.013109205674643009), (2509, 0.007071672993352105), (2510, 0.0228212912989706), (2511, 0.012735587422932345), (2512, 0.06759825961007124), (2513, 0.04611592562037599), (2514, 0.0038655996315451408), (2515, 0.0), (2516, 0.0), (2517, 0.016672393532863504), (2518, 0.004857299156902847), (2519, 0.02029144918147449), (2520, 0.0), (2521, 0.006868859001507696), (2522, 0.029916291906650093), (2523, 0.0), (2524, 0.03330656837934664), (2525, 0.004051584818105679), (2526, 0.0035204123073065917), (2527, 0.018127141152157498), (2528, 0.014707517069477294), (2529, 0.0), (2530, 0.015547514684293426), (2531, 0.03985295199808191), (2532, 0.024607815994848178), (2533, 0.0), (2534, 0.005758136733481391), (2535, 0.0), (2536, 0.0), (2537, 0.0), (2538, 0.0), (2539, 0.012969936705127173), (2540, 0.0050284284120782384), (2541, 0.036010265910998096), (2542, 0.0), (2543, 0.0), (2544, 0.010115561975516388), (2545, 0.007293235028806195), (2546, 0.004479151150304975), (2547, 0.012613601303732031), (2548, 0.0), (2549, 0.019435261709224484), (2550, 0.018104489698209807), (2551, 0.007068375965459004), (2552, 0.004022725550849617), (2553, 0.00838942668311055), (2554, 0.012340326838389093), (2555, 0.013910444768292828), (2556, 0.0), (2557, 0.0), (2558, 0.0), (2559, 0.016080558520653356), (2560, 0.004938244106228115), (2561, 0.0), (2562, 0.011717000793592698), (2563, 0.009348094834862734), (2564, 0.0), (2565, 0.007425975297970935), (2566, 0.0), (2567, 0.014516026169333094), (2568, 0.013823922770599179), (2569, 0.006873944456846096), (2570, 0.0), (2571, 0.01187082149018786), (2572, 0.006631199685923221), (2573, 0.0043247823606212205), (2574, 0.01356244840118881), (2575, 0.029900204949311303), (2576, 0.005968731386778622), (2577, 0.0), (2578, 0.0), (2579, 0.0), (2580, 0.00713008084690644), (2581, 0.036552069853634295), (2582, 0.03020368632308853), (2583, 0.0), (2584, 0.03695735691834996), (2585, 0.0), (2586, 0.020669174079504565), (2587, 0.028134008359551377), (2588, 0.0), (2589, 0.0), (2590, 0.016285833826318468), (2591, 0.0), (2592, 0.0), (2593, 0.0), (2594, 0.0), (2595, 0.0), (2596, 0.0), (2597, 0.0), (2598, 0.0), (2599, 0.0), (2600, 0.006656350518680633), (2601, 0.007300604004562906), (2602, 0.0), (2603, 0.016198806968750982), (2604, 0.0), (2605, 0.007261934225350646), (2606, 0.0), (2607, 0.0062746930885170474), (2608, 0.0037685556462156745), (2609, 0.02324954448976595), (2610, 0.03197501078585328), (2611, 0.021192583649136988), (2612, 0.011866428432237192), (2613, 0.0), (2614, 0.0), (2615, 0.010459082567114725), (2616, 0.030677998449949347), (2617, 0.007039240856726661), (2618, 0.0), (2619, 0.0), (2620, 0.0), (2621, 0.02320520605699457), (2622, 0.02167430303502486), (2623, 0.0), (2624, 0.0), (2625, 0.020891769973368356), (2626, 0.005790419294085152), (2627, 0.003620935333821902), (2628, 0.0), (2629, 0.0), (2630, 0.036692100142726926), (2631, 0.004086037842447445), (2632, 0.015238833421191658), (2633, 0.051636339098287416), (2634, 0.00492979814341716), (2635, 0.0), (2636, 0.05818572157331751), (2637, 0.012088449703686638), (2638, 0.012842480139293611), (2639, 0.0), (2640, 0.024625511240867863), (2641, 0.021820136643362246), (2642, 0.05428468853055018), (2643, 0.0), (2644, 0.0), (2645, 0.012327285928639468), (2646, 0.015418547227969344), (2647, 0.01674737732781486), (2648, 0.0), (2649, 0.0), (2650, 0.04120466194996179), (2651, 0.0), (2652, 0.0106536486805081), (2653, 0.02573829768888056), (2654, 0.013525210260605363), (2655, 0.0), (2656, 0.010865057209585735), (2657, 0.007728229913706987), (2658, 0.0), (2659, 0.00759977890436819), (2660, 0.04632778333539314), (2661, 0.008570957129676057), (2662, 0.0), (2663, 0.0), (2664, 0.0), (2665, 0.012849987533125506), (2666, 0.003955320508468107), (2667, 0.007189282873756715), (2668, 0.021485665115847076), (2669, 0.0), (2670, 0.005647295962182297), (2671, 0.01749654152134482), (2672, 0.0303449178477667), (2673, 0.005723724687704898), (2674, 0.030017550094875084), (2675, 0.012880143387268176), (2676, 0.006049921686855811), (2677, 0.019876099445492186), (2678, 0.0), (2679, 0.0), (2680, 0.02001625558731386), (2681, 0.04150410202961031), (2682, 0.01876872864739547), (2683, 0.0), (2684, 0.0), (2685, 0.0), (2686, 0.0), (2687, 0.03474450880223478), (2688, 0.02702079450349589), (2689, 0.010153909204500584), (2690, 0.05691951024566305), (2691, 0.03544967138485472), (2692, 0.00607882290416431), (2693, 0.0), (2694, 0.0), (2695, 0.0), (2696, 0.0), (2697, 0.004319241551348834), (2698, 0.011012531406801545), (2699, 0.00744865750255591), (2700, 0.0), (2701, 0.06442799029458841), (2702, 0.0), (2703, 0.0), (2704, 0.0), (2705, 0.0), (2706, 0.023352038181208776), (2707, 0.014356870573364176), (2708, 0.01787689345409174), (2709, 0.0), (2710, 0.013753991717296295), (2711, 0.020214248447836165), (2712, 0.04057456020894815), (2713, 0.016198698769760267), (2714, 0.016736619067303844), (2715, 0.023031195872719464), (2716, 0.0), (2717, 0.0), (2718, 0.010675028184130977), (2719, 0.004566121438019421), (2720, 0.020583978110721962), (2721, 0.0), (2722, 0.0), (2723, 0.0), (2724, 0.0076466894299223875), (2725, 0.012041398416368128), (2726, 0.027541184391566116), (2727, 0.0), (2728, 0.0072673476195329), (2729, 0.03347382770236207), (2730, 0.005286557573514039), (2731, 0.0), (2732, 0.0159155086310654), (2733, 0.011706072199416032), (2734, 0.009765578765124888), (2735, 0.02396258749623446), (2736, 0.02471218276747484), (2737, 0.0), (2738, 0.0050776070823622555), (2739, 0.004721803832868806), (2740, 0.028391774180781402), (2741, 0.006263636844799686), (2742, 0.011397982737552204), (2743, 0.0), (2744, 0.007255072679885679), (2745, 0.015985718480957745), (2746, 0.010714801186750302), (2747, 0.033901867659636986), (2748, 0.0), (2749, 0.022315044503907776), (2750, 0.0), (2751, 0.011641574470386752), (2752, 0.0), (2753, 0.0), (2754, 0.005531348157842487), (2755, 0.01190568889999153), (2756, 0.009611489417351135), (2757, 0.0), (2758, 0.022400546994354634), (2759, 0.006821206834815542), (2760, 0.036568023667898755), (2761, 0.0037026260814917978), (2762, 0.0), (2763, 0.015197771038203762), (2764, 0.0), (2765, 0.008179722656475118), (2766, 0.00682816069611435), (2767, 0.004116184523870932), (2768, 0.007499780088476395), (2769, 0.008262656831232128), (2770, 0.0), (2771, 0.0), (2772, 0.006249811732740393), (2773, 0.0), (2774, 0.018806808522777493), (2775, 0.0), (2776, 0.0), (2777, 0.022728065493694702), (2778, 0.006379594908391773), (2779, 0.019474074439512094), (2780, 0.005462871202384816), (2781, 0.0552748742355543), (2782, 0.0), (2783, 0.015938374902857648), (2784, 0.004397825141581141), (2785, 0.004926323687227703), (2786, 0.0), (2787, 0.005016850933829678), (2788, 0.009751677006349196), (2789, 0.00939521948909732), (2790, 0.012918545265438963), (2791, 0.012730640308480277), (2792, 0.004558449467149481), (2793, 0.008630765547196067), (2794, 0.026868708733230603), (2795, 0.006662891214075034), (2796, 0.0), (2797, 0.0), (2798, 0.02395466915228053), (2799, 0.0), (2800, 0.0), (2801, 0.00369094078000501), (2802, 0.0), (2803, 0.01750272202017319), (2804, 0.006958719993137085), (2805, 0.003762494209201943), (2806, 0.007704270413580822), (2807, 0.014559333162788105), (2808, 0.018688829854426135), (2809, 0.0045289259533202965), (2810, 0.005913032694221673), (2811, 0.0057777007619647155), (2812, 0.010652166670951022), (2813, 0.014872423806535744), (2814, 0.012312955359474095), (2815, 0.005307125758404712), (2816, 0.011695182488865962), (2817, 0.013101476541811477), (2818, 0.006025295614998855), (2819, 0.0446932324660355), (2820, 0.010737667562104928), (2821, 0.0), (2822, 0.040210334273439244), (2823, 0.0), (2824, 0.0), (2825, 0.044078961929065484), (2826, 0.01229790256721957), (2827, 0.0), (2828, 0.0), (2829, 0.004122304055002396), (2830, 0.019470526239073988), (2831, 0.007008349960772468), (2832, 0.0), (2833, 0.0), (2834, 0.005338028008230711), (2835, 0.0), (2836, 0.0), (2837, 0.012695470618524097), (2838, 0.0), (2839, 0.0), (2840, 0.02834704433468597), (2841, 0.040902241440902924), (2842, 0.01518453298616723), (2843, 0.040784703656554316), (2844, 0.024353596814063294), (2845, 0.02545488733490375), (2846, 0.0), (2847, 0.02248183812415759), (2848, 0.012863090204724939), (2849, 0.0), (2850, 0.012157784043601991), (2851, 0.009823178934154868), (2852, 0.0), (2853, 0.0), (2854, 0.0195051468959606), (2855, 0.0036487622673429393), (2856, 0.020205516158195894), (2857, 0.009855477034933707), (2858, 0.0), (2859, 0.010716032449806321), (2860, 0.013271865398666021), (2861, 0.0), (2862, 0.012936674499967278), (2863, 0.0), (2864, 0.01797583957204172), (2865, 0.026069979620967087), (2866, 0.0), (2867, 0.03252462586953963), (2868, 0.02033993695709761), (2869, 0.0), (2870, 0.0), (2871, 0.01408215203202171), (2872, 0.0), (2873, 0.012837672259709094), (2874, 0.01049042277799192), (2875, 0.0), (2876, 0.026454407336874493), (2877, 0.07060032537151852), (2878, 0.01814235627584281), (2879, 0.0), (2880, 0.005686369621934339), (2881, 0.005975402368654062), (2882, 0.0), (2883, 0.0), (2884, 0.027499215352946887), (2885, 0.004946093073051239), (2886, 0.0), (2887, 0.007048844653445297), (2888, 0.07638390726294754), (2889, 0.0), (2890, 0.0), (2891, 0.0), (2892, 0.011663127442046232), (2893, 0.02313390665533072), (2894, 0.0), (2895, 0.014642043609754397), (2896, 0.0), (2897, 0.004109779230421623), (2898, 0.03556121865778106), (2899, 0.009004331945897875), (2900, 0.004288990198151061), (2901, 0.0), (2902, 0.0), (2903, 0.005916666306579612), (2904, 0.0), (2905, 0.0), (2906, 0.003788027282264118), (2907, 0.0), (2908, 0.009865296918049106), (2909, 0.0), (2910, 0.029331561342960017), (2911, 0.004477999091806561), (2912, 0.0), (2913, 0.004327496266310217), (2914, 0.0), (2915, 0.02900523807348115), (2916, 0.0), (2917, 0.026522383536504317), (2918, 0.005083007945382245), (2919, 0.0), (2920, 0.01030180472222522), (2921, 0.00893381847070692), (2922, 0.007178775598853238), (2923, 0.0), (2924, 0.0), (2925, 0.0), (2926, 0.0), (2927, 0.02120036237074547), (2928, 0.0), (2929, 0.017201708861758456), (2930, 0.0), (2931, 0.028561136447627127), (2932, 0.0), (2933, 0.04960591850856832), (2934, 0.0), (2935, 0.0445471605267381), (2936, 0.007924403346483746), (2937, 0.017565484576521073), (2938, 0.013893260765455762), (2939, 0.0), (2940, 0.028937092317196694), (2941, 0.0), (2942, 0.009780720473799832), (2943, 0.005257029986668045), (2944, 0.03606020732902163), (2945, 0.0), (2946, 0.025085584837907633), (2947, 0.005407622936695104), (2948, 0.006870696379824546), (2949, 0.0), (2950, 0.01162467936629782), (2951, 0.009480352223094644), (2952, 0.009137457207644877), (2953, 0.0), (2954, 0.0039287054249740406), (2955, 0.023252887029691242), (2956, 0.019581537731558893), (2957, 0.0), (2958, 0.00491524316922962), (2959, 0.005554163273844766), (2960, 0.0403542612496903), (2961, 0.0), (2962, 0.013209529339933496), (2963, 0.01875220795840122), (2964, 0.0608331744976536), (2965, 0.007584318191655163), (2966, 0.0), (2967, 0.0), (2968, 0.0), (2969, 0.03587201397002836), (2970, 0.0), (2971, 0.004590691825104789), (2972, 0.0), (2973, 0.0), (2974, 0.0), (2975, 0.034638351433016926), (2976, 0.0), (2977, 0.011573189015212565), (2978, 0.0), (2979, 0.04316063445524478), (2980, 0.006865518156533388), (2981, 0.043776435560638274), (2982, 0.009086206124863324), (2983, 0.0), (2984, 0.014540268829976593), (2985, 0.019676491555313445), (2986, 0.0), (2987, 0.0), (2988, 0.02368939815499507), (2989, 0.00735163635382128), (2990, 0.0071024085780730765), (2991, 0.0), (2992, 0.015458360537812302), (2993, 0.0), (2994, 0.0), (2995, 0.039165281545921055), (2996, 0.009470144488696838), (2997, 0.0), (2998, 0.018364297028667643), (2999, 0.0), (3000, 0.0), (3001, 0.02639848167011405), (3002, 0.005331792042369914), (3003, 0.0), (3004, 0.0), (3005, 0.016007238226944522), (3006, 0.0), (3007, 0.0), (3008, 0.007825959446768607), (3009, 0.0), (3010, 0.008298136154971334), (3011, 0.011864657701315742), (3012, 0.0), (3013, 0.0), (3014, 0.0), (3015, 0.0), (3016, 0.0), (3017, 0.0), (3018, 0.012831411159815462), (3019, 0.0), (3020, 0.0), (3021, 0.0), (3022, 0.016149078397259216), (3023, 0.05420170995910905), (3024, 0.010969157265765379), (3025, 0.0), (3026, 0.030198677382420148), (3027, 0.007743604939217488), (3028, 0.004157876719695215), (3029, 0.0), (3030, 0.0), (3031, 0.0), (3032, 0.022834121063258817), (3033, 0.011296574326916664), (3034, 0.045921982067818376), (3035, 0.0), (3036, 0.0), (3037, 0.0), (3038, 0.0), (3039, 0.012790374809274571), (3040, 0.0), (3041, 0.021532688855759177), (3042, 0.0), (3043, 0.02309351144176644), (3044, 0.0057510688005467875), (3045, 0.030514366445239968), (3046, 0.011085928526112069), (3047, 0.0), (3048, 0.0), (3049, 0.0), (3050, 0.0), (3051, 0.01503193331617003), (3052, 0.0), (3053, 0.004129025408050525), (3054, 0.0), (3055, 0.0346855990309587), (3056, 0.013228462787948727), (3057, 0.004036348192075973), (3058, 0.017337961832416697), (3059, 0.005652156444490081), (3060, 0.016231591859641292), (3061, 0.0), (3062, 0.01356179101178381), (3063, 0.0421325453636998), (3064, 0.02793844769550475), (3065, 0.01633632299699525), (3066, 0.01104321035419598), (3067, 0.006915544584764182), (3068, 0.0), (3069, 0.0), (3070, 0.00471291710233788), (3071, 0.018986809148374875), (3072, 0.0), (3073, 0.008490328361969437), (3074, 0.0), (3075, 0.0), (3076, 0.0), (3077, 0.0), (3078, 0.0), (3079, 0.0), (3080, 0.0), (3081, 0.0), (3082, 0.007101092227354708), (3083, 0.00399976651270664), (3084, 0.0), (3085, 0.026857451291627466), (3086, 0.00862496793260114), (3087, 0.0), (3088, 0.0), (3089, 0.012803714783087837), (3090, 0.041223571710985674), (3091, 0.014643311093157358), (3092, 0.0), (3093, 0.010370969183952453), (3094, 0.00819093639489518), (3095, 0.007515505646003007), (3096, 0.04597611908962182), (3097, 0.005817709966936009), (3098, 0.0), (3099, 0.032069282579516814), (3100, 0.011426535871560088), (3101, 0.0), (3102, 0.021480643385331646), (3103, 0.004546000941364596), (3104, 0.0), (3105, 0.006642816890687619), (3106, 0.0), (3107, 0.0), (3108, 0.010144682054140139), (3109, 0.036143932848840064), (3110, 0.0), (3111, 0.00385097276255325), (3112, 0.005673331430637053), (3113, 0.0), (3114, 0.017779949312709414), (3115, 0.008213411489983063), (3116, 0.0), (3117, 0.009152909194038418), (3118, 0.0), (3119, 0.0), (3120, 0.018212703485870542), (3121, 0.04940415694466686), (3122, 0.0082092393391405), (3123, 0.0), (3124, 0.012700138742280216), (3125, 0.004323925280601006), (3126, 0.015144643743303456), (3127, 0.004167752384450449), (3128, 0.0), (3129, 0.017903034168186113), (3130, 0.00481319090159879), (3131, 0.01769054483312658), (3132, 0.012969214305716528), (3133, 0.023046637148876645), (3134, 0.012767308441430402), (3135, 0.011457217618190737), (3136, 0.011409013632669227), (3137, 0.0), (3138, 0.0), (3139, 0.0), (3140, 0.0), (3141, 0.02514560338310695), (3142, 0.016987630226254706), (3143, 0.004900050561489303), (3144, 0.01756441206759444), (3145, 0.005589946884083609), (3146, 0.0), (3147, 0.007432776999228677), (3148, 0.0), (3149, 0.030826224955486606), (3150, 0.004501757040022718), (3151, 0.010766889917368206), (3152, 0.017606460691493638), (3153, 0.02452999533383498), (3154, 0.0), (3155, 0.0), (3156, 0.01178182229614592), (3157, 0.007791713246151086), (3158, 0.0), (3159, 0.0), (3160, 0.0), (3161, 0.0618462829480004), (3162, 0.01098869997863137), (3163, 0.013314372259348936), (3164, 0.009571821954087694), (3165, 0.006059880439078357), (3166, 0.0), (3167, 0.00715018613840319), (3168, 0.0059409435515665465), (3169, 0.0054087382719146), (3170, 0.0), (3171, 0.0), (3172, 0.01925369707241259), (3173, 0.0), (3174, 0.020063059927439862), (3175, 0.0), (3176, 0.0), (3177, 0.024653708974680423), (3178, 0.0), (3179, 0.0), (3180, 0.0), (3181, 0.015126455422689157), (3182, 0.0), (3183, 0.0), (3184, 0.011318666195714366), (3185, 0.008005575678745814), (3186, 0.044363006844543765), (3187, 0.0), (3188, 0.03389864345575607), (3189, 0.00838837397191181), (3190, 0.0), (3191, 0.016280605202705793), (3192, 0.005828554263013453), (3193, 0.015532808627498538), (3194, 0.0), (3195, 0.0), (3196, 0.0), (3197, 0.014393178002509294), (3198, 0.07250734780245668), (3199, 0.01569762782444485), (3200, 0.0036558445762702395), (3201, 0.007670337992859017), (3202, 0.013299979180140996), (3203, 0.0), (3204, 0.0), (3205, 0.033509186139730016), (3206, 0.014800182580852222), (3207, 0.022417782362643447), (3208, 0.015705797273654034), (3209, 0.008165517474241078), (3210, 0.005321833984532224), (3211, 0.0074506726955486146), (3212, 0.0), (3213, 0.027334634120536296), (3214, 0.0), (3215, 0.02943919483555964), (3216, 0.0), (3217, 0.0), (3218, 0.012050127831654624), (3219, 0.01043401539117506), (3220, 0.0), (3221, 0.01071333804616479), (3222, 0.013011470341464354), (3223, 0.02350709757006575), (3224, 0.0), (3225, 0.005406559493116657), (3226, 0.01683410509924331), (3227, 0.025154613793283806), (3228, 0.01371699847307013), (3229, 0.0), (3230, 0.004967385756887638), (3231, 0.010082572068159112), (3232, 0.017675847159545018), (3233, 0.004426414091189452), (3234, 0.009406124926012676), (3235, 0.0), (3236, 0.0), (3237, 0.019050001427101892), (3238, 0.00740561151263965), (3239, 0.0), (3240, 0.010922514245041447), (3241, 0.005504223569093849), (3242, 0.008382472796635388), (3243, 0.0), (3244, 0.013726561341087911), (3245, 0.03568130687482935), (3246, 0.01848983797149141), (3247, 0.011992714111907657), (3248, 0.0), (3249, 0.0), (3250, 0.0), (3251, 0.0), (3252, 0.0), (3253, 0.02192100057722482), (3254, 0.006528161740047444), (3255, 0.0), (3256, 0.07032638789324769), (3257, 0.0), (3258, 0.0), (3259, 0.01852201783799664), (3260, 0.012054990673930625), (3261, 0.0), (3262, 0.0), (3263, 0.005747735226565602), (3264, 0.011934877729515285), (3265, 0.01608232007610613), (3266, 0.0), (3267, 0.03532735729136048), (3268, 0.0), (3269, 0.025768041024015403), (3270, 0.009516382193555311), (3271, 0.004649033968613123), (3272, 0.025931676782711428), (3273, 0.0), (3274, 0.0), (3275, 0.006166562982611519), (3276, 0.018465576512920454), (3277, 0.0045304863967692115), (3278, 0.0), (3279, 0.03246072156851666), (3280, 0.004005852557731115), (3281, 0.0), (3282, 0.0), (3283, 0.004382590488105466), (3284, 0.016763355695119147), (3285, 0.0), (3286, 0.016985246434360737), (3287, 0.007191630147262977), (3288, 0.006849278157105395), (3289, 0.008182325510453715), (3290, 0.0), (3291, 0.0), (3292, 0.0), (3293, 0.004072459667225312), (3294, 0.02629907285046699), (3295, 0.018328266908864403), (3296, 0.0), (3297, 0.010178026968650545), (3298, 0.07558852124143998), (3299, 0.018187621739384457), (3300, 0.007503041805369469), (3301, 0.0), (3302, 0.012839704877374482), (3303, 0.020628417688447014), (3304, 0.0), (3305, 0.0), (3306, 0.008781542675058481), (3307, 0.0), (3308, 0.024151112662564613), (3309, 0.006684612053303364), (3310, 0.01649744943870478), (3311, 0.05918329829653707), (3312, 0.011125419173462173), (3313, 0.0), (3314, 0.0), (3315, 0.00762707194492518), (3316, 0.00869459656028247), (3317, 0.007048240150160979), (3318, 0.0071958081094057914), (3319, 0.0), (3320, 0.03565306764875355), (3321, 0.01136840173025798), (3322, 0.0), (3323, 0.030702617967665546), (3324, 0.0), (3325, 0.0), (3326, 0.021606188289949015), (3327, 0.021119984608160502), (3328, 0.024106234219880326), (3329, 0.006399723580819109), (3330, 0.012244935200159627), (3331, 0.0), (3332, 0.0053391729970827684), (3333, 0.0), (3334, 0.0), (3335, 0.0), (3336, 0.008621550392832985), (3337, 0.0), (3338, 0.0), (3339, 0.004540424260865693), (3340, 0.005229965319577719), (3341, 0.0), (3342, 0.024328840706734425), (3343, 0.029220954750124685), (3344, 0.026703464333780808), (3345, 0.010046431177604913), (3346, 0.013919798121431112), (3347, 0.0), (3348, 0.007726694791321228), (3349, 0.0), (3350, 0.0), (3351, 0.0), (3352, 0.0), (3353, 0.010955779109604361), (3354, 0.0), (3355, 0.04356963412187839), (3356, 0.009267084976564399), (3357, 0.0), (3358, 0.0), (3359, 0.0), (3360, 0.028617023398949688), (3361, 0.015652630929676975), (3362, 0.020036765597705918), (3363, 0.0), (3364, 0.00496704895458106), (3365, 0.006754910365113383), (3366, 0.14311903977840773), (3367, 0.02811420549307423), (3368, 0.009351830228190914), (3369, 0.0), (3370, 0.007749920634394999), (3371, 0.0), (3372, 0.0), (3373, 0.005938238880310339), (3374, 0.00950607073626039), (3375, 0.015353205504569983), (3376, 0.0036741725864884544), (3377, 0.008140406000262392), (3378, 0.004489815940172701), (3379, 0.06881327596423592), (3380, 0.0), (3381, 0.0), (3382, 0.0), (3383, 0.005974062370696438), (3384, 0.019436672331226562), (3385, 0.011810868110195553), (3386, 0.04280042406273831), (3387, 0.02704945357529769), (3388, 0.045154945024721546), (3389, 0.01039543880817764), (3390, 0.022696924038725315), (3391, 0.0), (3392, 0.015915122130740502), (3393, 0.0037005317202135884), (3394, 0.015257112671209157), (3395, 0.04375450295458497), (3396, 0.0), (3397, 0.01396589909651837), (3398, 0.0319077169383432), (3399, 0.010559964848185784), (3400, 0.01923808976554095), (3401, 0.0), (3402, 0.0), (3403, 0.03027717720739575), (3404, 0.09457879020402765), (3405, 0.01039691863827701), (3406, 0.0), (3407, 0.01061118298704453), (3408, 0.012186518914174571), (3409, 0.0456336993261122), (3410, 0.009095603271725693), (3411, 0.0037749479655325023), (3412, 0.03085396553921521), (3413, 0.0), (3414, 0.009632770824496985), (3415, 0.0), (3416, 0.02279305014861549), (3417, 0.0), (3418, 0.0), (3419, 0.014116790736044313), (3420, 0.024913915056270046), (3421, 0.005523673948573184), (3422, 0.0), (3423, 0.008009921791069713), (3424, 0.01992286199307262), (3425, 0.0), (3426, 0.031282845915082146), (3427, 0.0583182805708353), (3428, 0.0), (3429, 0.003587159859764001), (3430, 0.003581407544141478), (3431, 0.0), (3432, 0.005237343649880494), (3433, 0.0), (3434, 0.029078843095156032), (3435, 0.08175125300399405), (3436, 0.0), (3437, 0.0), (3438, 0.07458486485327209), (3439, 0.009023037578824796), (3440, 0.006130052641339452), (3441, 0.005232658149089914), (3442, 0.02752906755393808), (3443, 0.005203948367217046), (3444, 0.012411073461815691), (3445, 0.016195660261185123), (3446, 0.004418813215875929), (3447, 0.011044813712064583), (3448, 0.020058815197711993), (3449, 0.0), (3450, 0.011124642415765893), (3451, 0.005654996243677627), (3452, 0.0), (3453, 0.005803102618161061), (3454, 0.03069182555326372), (3455, 0.0), (3456, 0.03542354868741696), (3457, 0.07418449012740563), (3458, 0.019109240140979696), (3459, 0.018279290141029154), (3460, 0.0), (3461, 0.023234571198857662), (3462, 0.0), (3463, 0.027927821999005828), (3464, 0.07545238575234677), (3465, 0.009098198176636638), (3466, 0.00496686048000844), (3467, 0.01238895045431979), (3468, 0.005686181950467366), (3469, 0.018517419172399685), (3470, 0.02365694808104211), (3471, 0.0), (3472, 0.020034857825352234), (3473, 0.0), (3474, 0.0), (3475, 0.0), (3476, 0.0), (3477, 0.012183527256566105), (3478, 0.0), (3479, 0.0), (3480, 0.008640716240130936), (3481, 0.00362119238527725), (3482, 0.00699918354500344), (3483, 0.007411839332059973), (3484, 0.010218027589173966), (3485, 0.0), (3486, 0.012489814411629094), (3487, 0.0), (3488, 0.0), (3489, 0.0), (3490, 0.049846058322215434), (3491, 0.004319564469996737), (3492, 0.021770545266547592), (3493, 0.02716414399036127), (3494, 0.0), (3495, 0.0), (3496, 0.0), (3497, 0.008723475216057763), (3498, 0.0), (3499, 0.031117066190499483), (3500, 0.0), (3501, 0.0), (3502, 0.005207898808758028), (3503, 0.0), (3504, 0.010826247677955689), (3505, 0.0), (3506, 0.009208424761032978), (3507, 0.009929680676452798), (3508, 0.013778303809106503), (3509, 0.006073470302342449), (3510, 0.0), (3511, 0.0), (3512, 0.0), (3513, 0.005527794508838292), (3514, 0.005507956747748395), (3515, 0.016966794857286402), (3516, 0.0363250915928572), (3517, 0.0), (3518, 0.022501064808420866), (3519, 0.0), (3520, 0.09451620688889117), (3521, 0.0), (3522, 0.056228345545881964), (3523, 0.029243723032125912), (3524, 0.008236247417805487), (3525, 0.011528009501150176), (3526, 0.004403313738950167), (3527, 0.0), (3528, 0.004860116079381011), (3529, 0.0), (3530, 0.03531652391887723), (3531, 0.005117331484194749), (3532, 0.014084022690699489), (3533, 0.018687470343523287), (3534, 0.0), (3535, 0.0), (3536, 0.011727881151382652), (3537, 0.0), (3538, 0.0034308083847744016), (3539, 0.011227115049158711), (3540, 0.0), (3541, 0.03387164980569958), (3542, 0.0), (3543, 0.0), (3544, 0.0), (3545, 0.0), (3546, 0.0236201587833378), (3547, 0.029604895031979946), (3548, 0.0), (3549, 0.004449816102571716), (3550, 0.0), (3551, 0.004342615936016872), (3552, 0.0), (3553, 0.0069379437032604544), (3554, 0.0063867134776361), (3555, 0.011855774728304215), (3556, 0.004717427926872883), (3557, 0.0042193150797092075), (3558, 0.012925549630048936), (3559, 0.014700374771251625), (3560, 0.013744440856958369), (3561, 0.0), (3562, 0.0041444056479367835), (3563, 0.01847507597365602), (3564, 0.055594154052275094), (3565, 0.0), (3566, 0.027050618560212805), (3567, 0.010787406598722168), (3568, 0.1513056681043632), (3569, 0.0), (3570, 0.0), (3571, 0.0), (3572, 0.0), (3573, 0.0), (3574, 0.010685675883730752), (3575, 0.0), (3576, 0.0), (3577, 0.018340741521892787), (3578, 0.022991863077983243), (3579, 0.01646306683706841), (3580, 0.0), (3581, 0.0), (3582, 0.011784259776212077), (3583, 0.019101185687232458), (3584, 0.02190872367316034), (3585, 0.019173225091622784), (3586, 0.01779519356625988), (3587, 0.024554082775232557), (3588, 0.006482313803077233), (3589, 0.0), (3590, 0.0), (3591, 0.005506495444612184), (3592, 0.013101864273928817), (3593, 0.005889594446119396), (3594, 0.019210889570156105), (3595, 0.005047896320400492), (3596, 0.014829588397963674), (3597, 0.012519222142664682), (3598, 0.0161638152412184), (3599, 0.011801702588164795), (3600, 0.011030385187483598), (3601, 0.0), (3602, 0.005187675290815182), (3603, 0.005376684607005948), (3604, 0.005794911092324147), (3605, 0.005043717974738363), (3606, 0.0), (3607, 0.0), (3608, 0.0), (3609, 0.014869838283290523), (3610, 0.014511618469891147), (3611, 0.0), (3612, 0.004304317836244984), (3613, 0.012998049659270924), (3614, 0.0), (3615, 0.0), (3616, 0.005350546344606279), (3617, 0.0), (3618, 0.004560776318631136), (3619, 0.03323613758504459), (3620, 0.0), (3621, 0.0), (3622, 0.0), (3623, 0.005442630158503662), (3624, 0.0), (3625, 0.0), (3626, 0.02770260742068442), (3627, 0.0), (3628, 0.013376748216722445), (3629, 0.011948832648097082), (3630, 0.016562208592991214), (3631, 0.0), (3632, 0.1311234449935723), (3633, 0.007707002986993861), (3634, 0.005918723238257965), (3635, 0.01653855372447991), (3636, 0.0), (3637, 0.008376714301532976), (3638, 0.014037747139652558), (3639, 0.0), (3640, 0.0), (3641, 0.021051439760117707), (3642, 0.014379110993757487), (3643, 0.011482662172503735), (3644, 0.00422737091364608), (3645, 0.003976744812993938), (3646, 0.011617955694654214), (3647, 0.0), (3648, 0.01169496765362027), (3649, 0.0), (3650, 0.004359732701370796), (3651, 0.004922086684512687), (3652, 0.0), (3653, 0.0), (3654, 0.004525113660960709), (3655, 0.016785029961403304), (3656, 0.006451456124647728), (3657, 0.019215840416192138), (3658, 0.014758124474478593), (3659, 0.0), (3660, 0.005087822349644612), (3661, 0.012890998411973064), (3662, 0.0), (3663, 0.0), (3664, 0.0), (3665, 0.0042924331860671894), (3666, 0.0), (3667, 0.01474577340672169), (3668, 0.024758268287008812), (3669, 0.0), (3670, 0.015972865705470234), (3671, 0.03172953122659598), (3672, 0.0), (3673, 0.0), (3674, 0.003631996683605449), (3675, 0.0), (3676, 0.005331673195306668), (3677, 0.009445935695674387), (3678, 0.004577360352540149), (3679, 0.0), (3680, 0.005966116422143978), (3681, 0.00477645811383069), (3682, 0.0), (3683, 0.0), (3684, 0.015242008293637357), (3685, 0.033956272516201744), (3686, 0.0), (3687, 0.0), (3688, 0.0), (3689, 0.011691200265014405), (3690, 0.02129533368198252), (3691, 0.0), (3692, 0.005680690754295833), (3693, 0.017249233426560023), (3694, 0.01713978293942565), (3695, 0.019135647663400555), (3696, 0.008298794551875772), (3697, 0.025085731713553248), (3698, 0.03083877079569622), (3699, 0.0), (3700, 0.011619177746496939), (3701, 0.004411040690755069), (3702, 0.0), (3703, 0.007874967306879631), (3704, 0.0), (3705, 0.0), (3706, 0.0051489945762271585), (3707, 0.005369760917165653), (3708, 0.006091681667499435), (3709, 0.03668176039295865), (3710, 0.005608987941499453), (3711, 0.007928548668987187), (3712, 0.004075692988856994), (3713, 0.009423829195257492), (3714, 0.0), (3715, 0.006808065486636715), (3716, 0.0), (3717, 0.0), (3718, 0.017843951775670164), (3719, 0.0), (3720, 0.00924365000930607), (3721, 0.0), (3722, 0.004423858455834325), (3723, 0.038980363603746626), (3724, 0.01015652615177196), (3725, 0.0), (3726, 0.030929040043941616), (3727, 0.0), (3728, 0.018754483482059898), (3729, 0.0), (3730, 0.004703496693336094), (3731, 0.009639226644936105), (3732, 0.017256418316441383), (3733, 0.006667133376056394), (3734, 0.004976178843464659), (3735, 0.007697981039026505), (3736, 0.012122115987150264), (3737, 0.0), (3738, 0.014464662215281993), (3739, 0.012421858132439675), (3740, 0.0), (3741, 0.016124490076999752), (3742, 0.01599272347559754), (3743, 0.049842762898000506), (3744, 0.014887247022297956), (3745, 0.0), (3746, 0.004235573748429246), (3747, 0.03704081311990671), (3748, 0.009779578898350974), (3749, 0.0), (3750, 0.005399112322098095), (3751, 0.02595132941439969), (3752, 0.022210399434795913), (3753, 0.0), (3754, 0.0), (3755, 0.0), (3756, 0.0), (3757, 0.0), (3758, 0.0), (3759, 0.023355905163254136), (3760, 0.06979129216017371), (3761, 0.0), (3762, 0.0), (3763, 0.0), (3764, 0.0), (3765, 0.04636493219645121), (3766, 0.0), (3767, 0.006430498019976776), (3768, 0.0), (3769, 0.0), (3770, 0.0), (3771, 0.005714558696510807), (3772, 0.0), (3773, 0.011964100468968245), (3774, 0.008549526154721973), (3775, 0.0), (3776, 0.008203547861146365), (3777, 0.004546062669559006), (3778, 0.004469272249194108), (3779, 0.0), (3780, 0.013118875733975403), (3781, 0.0), (3782, 0.013102915235196754), (3783, 0.02147648548386245), (3784, 0.01075855475264886), (3785, 0.015462432912275465), (3786, 0.025976665672009347), (3787, 0.01339208566678664), (3788, 0.0), (3789, 0.0), (3790, 0.01925142050604677), (3791, 0.0), (3792, 0.028124772334222066), (3793, 0.03386803667103167), (3794, 0.0291404011304157), (3795, 0.010942389222092033), (3796, 0.0), (3797, 0.007746505296172957), (3798, 0.02361940187817942), (3799, 0.0), (3800, 0.0), (3801, 0.012543578125887567), (3802, 0.0057771092366715555), (3803, 0.009851038026479752), (3804, 0.0), (3805, 0.017443815308925092), (3806, 0.0), (3807, 0.013190571797628562), (3808, 0.0), (3809, 0.0), (3810, 0.06456948488725188), (3811, 0.0), (3812, 0.018852333454230853), (3813, 0.008711483230829075), (3814, 0.020767144827096132), (3815, 0.0), (3816, 0.0), (3817, 0.02026346926612536), (3818, 0.004266944204067128), (3819, 0.011601033330517891), (3820, 0.0), (3821, 0.009479187375123621), (3822, 0.012691258183665871), (3823, 0.008090975064619466), (3824, 0.0), (3825, 0.014089978117060992), (3826, 0.017554292717958764), (3827, 0.0), (3828, 0.0), (3829, 0.006507202534424449), (3830, 0.00703409567698918), (3831, 0.004718282244809929), (3832, 0.0), (3833, 0.0), (3834, 0.013088415270348822), (3835, 0.00421608605402312), (3836, 0.0), (3837, 0.028488091424800983), (3838, 0.0), (3839, 0.006456860318893132), (3840, 0.012539997917982269), (3841, 0.0038585683444328704), (3842, 0.0), (3843, 0.0), (3844, 0.02556350304896199), (3845, 0.0), (3846, 0.06463475005046325), (3847, 0.010914378385084427), (3848, 0.0), (3849, 0.041430034857613415), (3850, 0.005638367608292593), (3851, 0.0), (3852, 0.02088961380300034), (3853, 0.0), (3854, 0.003978885587409931), (3855, 0.010425485155081208), (3856, 0.0), (3857, 0.004778958032612851), (3858, 0.02749225220650956), (3859, 0.0), (3860, 0.004783594039751296), (3861, 0.0), (3862, 0.005510221059542295), (3863, 0.0), (3864, 0.006606133982570291), (3865, 0.03447689988670637), (3866, 0.004959655591008032), (3867, 0.0), (3868, 0.044228619161961844), (3869, 0.013409470059814712), (3870, 0.028303607639298553), (3871, 0.0072607927747098955), (3872, 0.0), (3873, 0.0), (3874, 0.0), (3875, 0.024064112963632967), (3876, 0.00732888623962704), (3877, 0.012535986373794519), (3878, 0.0), (3879, 0.0), (3880, 0.02449512368682108), (3881, 0.05213182015665728), (3882, 0.0), (3883, 0.0), (3884, 0.0), (3885, 0.0), (3886, 0.030382068790549416), (3887, 0.0), (3888, 0.0), (3889, 0.0), (3890, 0.008325323056129187), (3891, 0.004074597593068368), (3892, 0.0), (3893, 0.0), (3894, 0.003773537006891497), (3895, 0.034847998151661924), (3896, 0.0), (3897, 0.004561894997099511), (3898, 0.024189240919560283), (3899, 0.0), (3900, 0.0), (3901, 0.0), (3902, 0.0), (3903, 0.03077154455995889), (3904, 0.0), (3905, 0.0), (3906, 0.0), (3907, 0.02161924334273332), (3908, 0.005345413293735076), (3909, 0.010545598512608017), (3910, 0.0), (3911, 0.0), (3912, 0.03467191255825361), (3913, 0.0), (3914, 0.007532651781459557), (3915, 0.0), (3916, 0.0), (3917, 0.01590608672517075), (3918, 0.0), (3919, 0.09361624871950308), (3920, 0.004456722695412686), (3921, 0.009915958064612132), (3922, 0.0), (3923, 0.011239817267046676), (3924, 0.009459507568930678), (3925, 0.0), (3926, 0.019318077458229915), (3927, 0.02259031942567585), (3928, 0.0035940790268725875), (3929, 0.0), (3930, 0.0044544661373164115), (3931, 0.0), (3932, 0.0), (3933, 0.018183808690232745), (3934, 0.0), (3935, 0.0), (3936, 0.0), (3937, 0.03220589253697914), (3938, 0.0), (3939, 0.0), (3940, 0.00577155060544965), (3941, 0.03395817038058125), (3942, 0.0), (3943, 0.0), (3944, 0.003468343939648435), (3945, 0.0), (3946, 0.009520143128948624), (3947, 0.006096964211376331), (3948, 0.00931734148822811), (3949, 0.0), (3950, 0.0), (3951, 0.013188626697387872), (3952, 0.0), (3953, 0.004800408670912963), (3954, 0.08045840764925286), (3955, 0.009558869219363074), (3956, 0.0), (3957, 0.009316468179814222), (3958, 0.05241679327228328), (3959, 0.004456433832935679), (3960, 0.004877893845592233), (3961, 0.017480680728550333), (3962, 0.0), (3963, 0.016411482156200873), (3964, 0.0), (3965, 0.02174697390853835), (3966, 0.03048481280201131), (3967, 0.0), (3968, 0.012845782058387076), (3969, 0.004520108241765036), (3970, 0.01830925970395189), (3971, 0.0), (3972, 0.014010835376164673), (3973, 0.007453188948606489), (3974, 0.007186163853199814), (3975, 0.02659002072303155), (3976, 0.03434764848393387), (3977, 0.013211592963620875), (3978, 0.005032350830668635), (3979, 0.024175725291018163), (3980, 0.03017294872015175), (3981, 0.0), (3982, 0.012229517312169043), (3983, 0.02234402142237465), (3984, 0.0), (3985, 0.05937153633490287), (3986, 0.0038713648193610295), (3987, 0.0), (3988, 0.0), (3989, 0.0), (3990, 0.028157725786968648), (3991, 0.0257987017999195), (3992, 0.0), (3993, 0.012251393719577376), (3994, 0.004181295464272653), (3995, 0.0), (3996, 0.0), (3997, 0.026559318982859882), (3998, 0.01597227792402595), (3999, 0.0), (4000, 0.0), (4001, 0.02091679772284459), (4002, 0.004996857430313747), (4003, 0.0), (4004, 0.0), (4005, 0.026657553934493594), (4006, 0.004300138206194368), (4007, 0.01607193946117949), (4008, 0.007264995670667628), (4009, 0.016871564328353704), (4010, 0.0), (4011, 0.017395160030314508), (4012, 0.009040220250289718), (4013, 0.0046844569344147964), (4014, 0.0), (4015, 0.015000061428901385), (4016, 0.00693743964462853), (4017, 0.0), (4018, 0.0), (4019, 0.0), (4020, 0.03018298052062229), (4021, 0.0), (4022, 0.0), (4023, 0.0), (4024, 0.0), (4025, 0.016190007936980846), (4026, 0.0), (4027, 0.0), (4028, 0.0), (4029, 0.0), (4030, 0.0), (4031, 0.013161893188907012), (4032, 0.04618451555526526), (4033, 0.013989009838452615), (4034, 0.031100128996082672), (4035, 0.013038112332937885), (4036, 0.01709389088943972), (4037, 0.004998047186217693), (4038, 0.010240397969265003), (4039, 0.005143092264925343), (4040, 0.0), (4041, 0.012372590103744691), (4042, 0.0), (4043, 0.0), (4044, 0.004787123665932422), (4045, 0.02244367058610921), (4046, 0.0057839137127189515), (4047, 0.0), (4048, 0.0), (4049, 0.0), (4050, 0.0), (4051, 0.0), (4052, 0.0073984861877612156), (4053, 0.01785011493586477), (4054, 0.0), (4055, 0.034613909709764384), (4056, 0.012166484091857947), (4057, 0.010046687986748647), (4058, 0.0), (4059, 0.011490185026360646), (4060, 0.0), (4061, 0.01704597274068294), (4062, 0.037516949304288935), (4063, 0.0), (4064, 0.004773121574076148), (4065, 0.0), (4066, 0.0), (4067, 0.0), (4068, 0.009731223991093446), (4069, 0.0), (4070, 0.0393673818131509), (4071, 0.019941805346979345), (4072, 0.0), (4073, 0.032626502306250145), (4074, 0.010132547845874956), (4075, 0.0), (4076, 0.012129698269319169), (4077, 0.025932918212499316), (4078, 0.0), (4079, 0.0), (4080, 0.0), (4081, 0.0), (4082, 0.0), (4083, 0.0), (4084, 0.0), (4085, 0.0), (4086, 0.03330537645814156), (4087, 0.0), (4088, 0.0054068261992037), (4089, 0.008313230001304963), (4090, 0.03712281289961695), (4091, 0.04820172868871545), (4092, 0.0), (4093, 0.005396940131678771), (4094, 0.011308586653977905), (4095, 0.004477508261228161), (4096, 0.0), (4097, 0.026087086748747476), (4098, 0.08561883890988412), (4099, 0.03406466620353383), (4100, 0.005511280657633588), (4101, 0.011501796122623456), (4102, 0.0), (4103, 0.012298778984230416), (4104, 0.0), (4105, 0.0), (4106, 0.03844258117642962), (4107, 0.0), (4108, 0.004814497591931016), (4109, 0.011117412032115786), (4110, 0.02093623832252024), (4111, 0.07292964945491383), (4112, 0.036052165937914854), (4113, 0.0), (4114, 0.011508272043587692), (4115, 0.0), (4116, 0.005752029852709318), (4117, 0.0), (4118, 0.016781636746101804), (4119, 0.0154283544722943), (4120, 0.004796047638801257), (4121, 0.010894460390843297), (4122, 0.03098345580157033), (4123, 0.0), (4124, 0.004071285768586739), (4125, 0.021187779324439833), (4126, 0.0), (4127, 0.0), (4128, 0.020142864854283567), (4129, 0.0), (4130, 0.013370137453151876), (4131, 0.0056459841005550085), (4132, 0.0), (4133, 0.0), (4134, 0.009606857188030237), (4135, 0.004363701660043854), (4136, 0.015460136055585287), (4137, 0.012399557588107292), (4138, 0.03865450535539058), (4139, 0.0), (4140, 0.0), (4141, 0.07506347933199273), (4142, 0.015639403425919816), (4143, 0.008610193174839333), (4144, 0.005849224903344354), (4145, 0.0), (4146, 0.027986662231348367), (4147, 0.0), (4148, 0.00525534709171669), (4149, 0.0), (4150, 0.0), (4151, 0.03361147610479262), (4152, 0.01835973450775203), (4153, 0.01114732058151336), (4154, 0.051881449207576924), (4155, 0.011738085748616598), (4156, 0.022180576250650827), (4157, 0.0042163970858679215), (4158, 0.0097050709051668), (4159, 0.007482660273687356), (4160, 0.007799653468346242), (4161, 0.0), (4162, 0.0), (4163, 0.0), (4164, 0.0), (4165, 0.0), (4166, 0.0), (4167, 0.011304510387946168), (4168, 0.007114765226010034), (4169, 0.017009556029914944), (4170, 0.0), (4171, 0.008683554886291172), (4172, 0.0), (4173, 0.008542375621354603), (4174, 0.01130898422193046), (4175, 0.0), (4176, 0.003956365357524627), (4177, 0.009685958704713804), (4178, 0.0), (4179, 0.0), (4180, 0.042067719369429796), (4181, 0.013483661181875582), (4182, 0.017326640011817735), (4183, 0.0), (4184, 0.0), (4185, 0.0059164606161306475), (4186, 0.012138229321363334), (4187, 0.00905926562008218), (4188, 0.022624887290579175), (4189, 0.01156168486609057), (4190, 0.0), (4191, 0.009545515626279644), (4192, 0.008333055193564094), (4193, 0.042454519030889544), (4194, 0.013790490148686893), (4195, 0.006952364948243679), (4196, 0.022771766198093867), (4197, 0.008139355793610706), (4198, 0.0), (4199, 0.025080161377348833), (4200, 0.0), (4201, 0.015412329032376248), (4202, 0.007377343563916129), (4203, 0.013101807162523127), (4204, 0.0), (4205, 0.017782115094927036), (4206, 0.0), (4207, 0.00866487556465092), (4208, 0.0), (4209, 0.0), (4210, 0.023872243222168757), (4211, 0.012007820005864159), (4212, 0.0), (4213, 0.0), (4214, 0.0), (4215, 0.0), (4216, 0.0), (4217, 0.010917002923183167), (4218, 0.029131078100689517), (4219, 0.0), (4220, 0.0), (4221, 0.0070539972200205055), (4222, 0.0), (4223, 0.0), (4224, 0.01196325287857999), (4225, 0.0), (4226, 0.03386292781010365), (4227, 0.0), (4228, 0.0), (4229, 0.0), (4230, 0.0), (4231, 0.08654711827022873), (4232, 0.0), (4233, 0.005588107669438461), (4234, 0.0), (4235, 0.0), (4236, 0.017786971898335526), (4237, 0.00938185359785736), (4238, 0.014274416519764747), (4239, 0.0), (4240, 0.04123945925017016), (4241, 0.009473230848015275), (4242, 0.005345325401207781), (4243, 0.0), (4244, 0.006044280538359462), (4245, 0.02191787394186575), (4246, 0.0), (4247, 0.0070174193414083725), (4248, 0.005244748192322329), (4249, 0.005443723183882922), (4250, 0.0), (4251, 0.0), (4252, 0.011821507741890953), (4253, 0.0), (4254, 0.0), (4255, 0.012444755787651293), (4256, 0.0), (4257, 0.010647730665083534), (4258, 0.0), (4259, 0.0), (4260, 0.0), (4261, 0.003914367320137327), (4262, 0.021045106271880783), (4263, 0.08618637007360845), (4264, 0.005199205467433902), (4265, 0.009107143977036382), (4266, 0.0), (4267, 0.009881263847104797), (4268, 0.0), (4269, 0.012077072296474632), (4270, 0.02281072943263767), (4271, 0.015203402640916876), (4272, 0.0409903837361805), (4273, 0.07182478177397095), (4274, 0.012158782338853156), (4275, 0.0), (4276, 0.006111118184188462), (4277, 0.007313083901029674), (4278, 0.0), (4279, 0.014191929391780878), (4280, 0.0), (4281, 0.004972893837689058), (4282, 0.08391255061481984), (4283, 0.01685511637938776), (4284, 0.004221722784849911), (4285, 0.006191479392043099), (4286, 0.008441363849258629), (4287, 0.03506148669706395), (4288, 0.007077604851850682), (4289, 0.013019694354127732), (4290, 0.007766774664898782), (4291, 0.02545441414650244), (4292, 0.020537029642446886), (4293, 0.005887363554753532), (4294, 0.02332163026229754), (4295, 0.0), (4296, 0.0), (4297, 0.007885704837953138), (4298, 0.0), (4299, 0.025335822342056745), (4300, 0.06487533298696217), (4301, 0.0), (4302, 0.0), (4303, 0.013402331106718755), (4304, 0.0), (4305, 0.0), (4306, 0.0), (4307, 0.0), (4308, 0.0), (4309, 0.0), (4310, 0.05119404702610273), (4311, 0.0), (4312, 0.014913908095905011), (4313, 0.0), (4314, 0.0), (4315, 0.0), (4316, 0.0), (4317, 0.0), (4318, 0.0), (4319, 0.0), (4320, 0.0), (4321, 0.007601219012080374), (4322, 0.0), (4323, 0.018427529074790647), (4324, 0.02923948971061248), (4325, 0.004893660213823794), (4326, 0.0), (4327, 0.0), (4328, 0.012967794500226584), (4329, 0.03484643828342257), (4330, 0.004305072147542931), (4331, 0.0), (4332, 0.009335968929815131), (4333, 0.008984107695464478), (4334, 0.03604334135654689), (4335, 0.0), (4336, 0.026466236338673687), (4337, 0.00777277181831792), (4338, 0.039004720458645746), (4339, 0.00393034275828705), (4340, 0.0), (4341, 0.00825201743724568), (4342, 0.010415618928461892), (4343, 0.0), (4344, 0.013339945868238376), (4345, 0.005004512812946067), (4346, 0.01222594202912721), (4347, 0.04346114178962115), (4348, 0.003956835740543659), (4349, 0.025064754146981512), (4350, 0.018387306949876548), (4351, 0.01958150790870404), (4352, 0.0), (4353, 0.015252001307233459), (4354, 0.0072773374690310285), (4355, 0.0), (4356, 0.007425289010587453), (4357, 0.0), (4358, 0.0), (4359, 0.0), (4360, 0.0), (4361, 0.0), (4362, 0.0), (4363, 0.004506422950578634), (4364, 0.006963199314118229), (4365, 0.0), (4366, 0.007178891938310668), (4367, 0.006783745142102454), (4368, 0.004842441039341686), (4369, 0.0), (4370, 0.0), (4371, 0.0075068026439655865), (4372, 0.0), (4373, 0.012480457581032067), (4374, 0.015747346562027156), (4375, 0.0), (4376, 0.009820517860899467), (4377, 0.0), (4378, 0.07139248884653336), (4379, 0.009924407860804965), (4380, 0.0), (4381, 0.0), (4382, 0.0), (4383, 0.0), (4384, 0.04571175730805852), (4385, 0.006092913063828406), (4386, 0.0), (4387, 0.004195425228866751), (4388, 0.03612073923483661), (4389, 0.0), (4390, 0.005482565919135567), (4391, 0.0), (4392, 0.022232434251616078), (4393, 0.005951776940592958), (4394, 0.004269597345996728), (4395, 0.004185831403372435), (4396, 0.0), (4397, 0.0), (4398, 0.029454451421407082), (4399, 0.023223783942060705), (4400, 0.0), (4401, 0.007772383255413094), (4402, 0.03535933384980911), (4403, 0.0), (4404, 0.0), (4405, 0.006322368529573853), (4406, 0.004551114788377241), (4407, 0.01044341539087615), (4408, 0.0), (4409, 0.0), (4410, 0.005552345321193107), (4411, 0.0), (4412, 0.0), (4413, 0.0), (4414, 0.0032608987295734727), (4415, 0.0), (4416, 0.0), (4417, 0.0), (4418, 0.009136492391544354), (4419, 0.023738467090746153), (4420, 0.02736641616017367), (4421, 0.0), (4422, 0.0), (4423, 0.0), (4424, 0.0), (4425, 0.0), (4426, 0.0), (4427, 0.007975144870097444), (4428, 0.010691254135679933), (4429, 0.004580928234293169), (4430, 0.005523921712016448), (4431, 0.009202896493310844), (4432, 0.004617934969118948), (4433, 0.0), (4434, 0.0), (4435, 0.005301162128164881), (4436, 0.03908985204933514), (4437, 0.007181811164098231), (4438, 0.011779584925286142), (4439, 0.08316236402187034), (4440, 0.01569967201135157), (4441, 0.022774203786233807), (4442, 0.004173415785819656), (4443, 0.00646320669915782), (4444, 0.012547523570716422), (4445, 0.02194197230562805), (4446, 0.0), (4447, 0.004786644196485773), (4448, 0.0044934336534634), (4449, 0.00504851881517368), (4450, 0.008491047618860416), (4451, 0.0), (4452, 0.0), (4453, 0.00589085792628358), (4454, 0.08891487006195453), (4455, 0.021053132478153234), (4456, 0.012597644046836533), (4457, 0.006930950799004985), (4458, 0.0), (4459, 0.015013231526060728), (4460, 0.013927420729990028), (4461, 0.024984858509783922), (4462, 0.010824603382839172), (4463, 0.0), (4464, 0.0), (4465, 0.0658025422924846), (4466, 0.007243832901067696), (4467, 0.01886124308534862), (4468, 0.0069710682550031345), (4469, 0.0), (4470, 0.0), (4471, 0.0), (4472, 0.011877043040313107), (4473, 0.01070098183090931), (4474, 0.0), (4475, 0.0), (4476, 0.040656451960658), (4477, 0.011190619627971283), (4478, 0.018704072936939174), (4479, 0.0), (4480, 0.0), (4481, 0.009151900389191676), (4482, 0.021619078545550757), (4483, 0.0), (4484, 0.052165345305298996), (4485, 0.0), (4486, 0.017184358416216617), (4487, 0.0), (4488, 0.0), (4489, 0.0), (4490, 0.01572546502344512), (4491, 0.013310064816440249), (4492, 0.012095049807802044), (4493, 0.013247750900751577), (4494, 0.0), (4495, 0.0), (4496, 0.0), (4497, 0.038075674834794154), (4498, 0.0), (4499, 0.0), (4500, 0.0), (4501, 0.00702832069870252), (4502, 0.0), (4503, 0.017712562891070864), (4504, 0.004152725495810066), (4505, 0.0), (4506, 0.0), (4507, 0.0), (4508, 0.0), (4509, 0.02253981502289735), (4510, 0.0), (4511, 0.011242069867889962), (4512, 0.0), (4513, 0.0), (4514, 0.0), (4515, 0.013672321091880938), (4516, 0.02006116673810412), (4517, 0.0), (4518, 0.0), (4519, 0.0055810101421278025), (4520, 0.0), (4521, 0.0), (4522, 0.0), (4523, 0.010770697637682382), (4524, 0.013488213034723227), (4525, 0.014502865530026061), (4526, 0.007934565178020958), (4527, 0.0), (4528, 0.0), (4529, 0.0), (4530, 0.0), (4531, 0.026569465094946364), (4532, 0.0), (4533, 0.007119691211077519), (4534, 0.0051313886907311135), (4535, 0.007786303394526354), (4536, 0.0), (4537, 0.0), (4538, 0.0), (4539, 0.0), (4540, 0.0), (4541, 0.007027794789077652), (4542, 0.03397066337881963), (4543, 0.0050818477451590885), (4544, 0.0), (4545, 0.0), (4546, 0.0), (4547, 0.0), (4548, 0.004033343988947858), (4549, 0.010625941311877432), (4550, 0.016029934756284565), (4551, 0.009523476811612093), (4552, 0.04401469036801863), (4553, 0.004613323843741015), (4554, 0.008321257200608235), (4555, 0.0), (4556, 0.0), (4557, 0.012975788904741735), (4558, 0.0), (4559, 0.0), (4560, 0.0), (4561, 0.0), (4562, 0.0), (4563, 0.0), (4564, 0.02266147687021014), (4565, 0.01336285382122546), (4566, 0.011108902398343553), (4567, 0.04316316984007501), (4568, 0.012974749244424787), (4569, 0.023917458009230896), (4570, 0.008315852590720802), (4571, 0.0), (4572, 0.0), (4573, 0.005114631138871274), (4574, 0.008548752865292449), (4575, 0.0), (4576, 0.015157471633518145), (4577, 0.0), (4578, 0.0), (4579, 0.0), (4580, 0.0), (4581, 0.02298277988392805), (4582, 0.0), (4583, 0.0), (4584, 0.0), (4585, 0.0), (4586, 0.005493834529634122), (4587, 0.015218932996621188), (4588, 0.00673722951147445), (4589, 0.02438993285243747), (4590, 0.015726447404226802), (4591, 0.004906959003928612), (4592, 0.004289348935034694), (4593, 0.0), (4594, 0.005067977771370716), (4595, 0.0), (4596, 0.019924243738813942), (4597, 0.006112976676905882), (4598, 0.006263764260322825), (4599, 0.0), (4600, 0.016072410767455574), (4601, 0.022328590551984617), (4602, 0.0), (4603, 0.00652988199181114), (4604, 0.004325913556354303), (4605, 0.007775817997254492), (4606, 0.006679392482145597), (4607, 0.0), (4608, 0.004681937884115428), (4609, 0.022927215420356608), (4610, 0.022385094711846108), (4611, 0.014046392608292881), (4612, 0.005356421081308444), (4613, 0.030439263297008988), (4614, 0.015127598467528869), (4615, 0.0), (4616, 0.0), (4617, 0.0), (4618, 0.0), (4619, 0.023295212052709756), (4620, 0.0), (4621, 0.00449615727877691), (4622, 0.0), (4623, 0.019600841338801595), (4624, 0.009023697485020746), (4625, 0.0), (4626, 0.009889943894479468), (4627, 0.0), (4628, 0.0), (4629, 0.009992373559263797), (4630, 0.00591665667373423), (4631, 0.006406956297681506), (4632, 0.0), (4633, 0.0), (4634, 0.004014868721220087), (4635, 0.006120008707069177), (4636, 0.0), (4637, 0.0), (4638, 0.0), (4639, 0.008354468123953523), (4640, 0.015866759055553504), (4641, 0.0), (4642, 0.006226340039472657), (4643, 0.03973761666742421), (4644, 0.0), (4645, 0.0), (4646, 0.01221279840292279), (4647, 0.008661604720869402), (4648, 0.0), (4649, 0.054799932348822716), (4650, 0.0), (4651, 0.0), (4652, 0.011928226706470042), (4653, 0.006450603277035049), (4654, 0.05104154629705654), (4655, 0.0), (4656, 0.005689240541990818), (4657, 0.0), (4658, 0.015003000532809565), (4659, 0.01895229889771479), (4660, 0.005305719776205923), (4661, 0.004676717843837749), (4662, 0.0), (4663, 0.00711838600411798), (4664, 0.0), (4665, 0.019510757091322516), (4666, 0.007142800998440758), (4667, 0.0), (4668, 0.0), (4669, 0.0), (4670, 0.0), (4671, 0.0), (4672, 0.0), (4673, 0.005110044766826224), (4674, 0.028864694292654126), (4675, 0.0), (4676, 0.024716219465307547), (4677, 0.0), (4678, 0.0), (4679, 0.01458475692002885), (4680, 0.0), (4681, 0.0), (4682, 0.020262129417613794), (4683, 0.0), (4684, 0.013531752718402363), (4685, 0.011097000261868238), (4686, 0.004328904312887737), (4687, 0.0042071406063086845), (4688, 0.015725592092585235), (4689, 0.003926112271895077), (4690, 0.004947835738594004), (4691, 0.0), (4692, 0.0), (4693, 0.0), (4694, 0.0), (4695, 0.011912045988901825), (4696, 0.0), (4697, 0.03128601117775463), (4698, 0.037119346303696954), (4699, 0.026877454575918766), (4700, 0.0), (4701, 0.0), (4702, 0.0), (4703, 0.013110748241208225), (4704, 0.0), (4705, 0.007543300818111757), (4706, 0.0), (4707, 0.0), (4708, 0.02887531739424166), (4709, 0.007171404401995401), (4710, 0.0), (4711, 0.0), (4712, 0.0), (4713, 0.0), (4714, 0.0), (4715, 0.027403682037676794), (4716, 0.005468122712289639), (4717, 0.0), (4718, 0.0), (4719, 0.0), (4720, 0.0), (4721, 0.019711217892133405), (4722, 0.0), (4723, 0.0064507834052605255), (4724, 0.0), (4725, 0.01618703851418466), (4726, 0.019977849077685954), (4727, 0.0056678042608111585), (4728, 0.0), (4729, 0.0), (4730, 0.0), (4731, 0.017931352860007087), (4732, 0.004692954256821394), (4733, 0.00440222115794706), (4734, 0.0), (4735, 0.0), (4736, 0.0), (4737, 0.0), (4738, 0.0069971303909406694), (4739, 0.041315205334538786), (4740, 0.0), (4741, 0.006012133853989506), (4742, 0.02527951890527616), (4743, 0.024342136421277853), (4744, 0.0), (4745, 0.005442740431353754), (4746, 0.0), (4747, 0.006071981856823759), (4748, 0.009789140532797183), (4749, 0.0), (4750, 0.0), (4751, 0.0), (4752, 0.012580330421595542), (4753, 0.0), (4754, 0.02927155773536281), (4755, 0.0043287762715787746), (4756, 0.03699307408065908), (4757, 0.008384478242526675), (4758, 0.0), (4759, 0.0)]\n"
          ]
        }
      ]
    },
    {
      "cell_type": "code",
      "source": [
        "len(Recommendation_Score)"
      ],
      "metadata": {
        "colab": {
          "base_uri": "https://localhost:8080/"
        },
        "id": "iS_Ft76SrS3b",
        "outputId": "4c48b18e-b935-49ef-e37c-b591ace44f20"
      },
      "execution_count": 45,
      "outputs": [
        {
          "output_type": "execute_result",
          "data": {
            "text/plain": [
              "4760"
            ]
          },
          "metadata": {},
          "execution_count": 45
        }
      ]
    },
    {
      "cell_type": "markdown",
      "source": [
        "**Get All Movie Sort Based on Recommendation Score W.R.T Favourite Movie**"
      ],
      "metadata": {
        "id": "Pct456BHuxzV"
      }
    },
    {
      "cell_type": "code",
      "source": [
        "Sorted_similar_Movie=sorted(Recommendation_Score,key=lambda x:x[1], reverse=True)\n",
        "print(Sorted_similar_Movie)"
      ],
      "metadata": {
        "colab": {
          "base_uri": "https://localhost:8080/"
        },
        "id": "3OO8dChhrS0A",
        "outputId": "5b0095a2-341f-41aa-a14c-88d2474c7287"
      },
      "execution_count": 47,
      "outputs": [
        {
          "output_type": "stream",
          "name": "stdout",
          "text": [
            "[(9, 1.0000000000000002), (130, 0.5463285302013897), (17, 0.43812555493930544), (488, 0.17012007545962915), (592, 0.15273082293141316), (3568, 0.1513056681043632), (3366, 0.14311903977840773), (3632, 0.1311234449935723), (56, 0.12167725857982899), (948, 0.11759747794630665), (496, 0.1162052043308167), (1600, 0.1161405859186993), (54, 0.11362711298463894), (477, 0.11273896348123928), (2169, 0.10920825084419437), (55, 0.10856817680461868), (431, 0.10440015493044044), (1700, 0.10359792231252729), (341, 0.10058970876031836), (2287, 0.10052043303934229), (1382, 0.09921075841932941), (1697, 0.09584007441074029), (1033, 0.09565573667981044), (3404, 0.09457879020402765), (3520, 0.09451620688889117), (3919, 0.09361624871950308), (1400, 0.09359351233701786), (1087, 0.09273887829232323), (844, 0.09188840267319993), (1051, 0.09161467836882715), (1940, 0.09136478302306753), (2100, 0.08984315132494483), (306, 0.08981353542688791), (484, 0.08930962179602578), (547, 0.08929694137998588), (4454, 0.08891487006195453), (984, 0.08732246186342343), (343, 0.08708420323366516), (956, 0.08671486613686084), (898, 0.08666643349811376), (1157, 0.08662685044638806), (4231, 0.08654711827022873), (211, 0.08628919575955785), (1468, 0.08621163104891238), (4263, 0.08618637007360845), (4098, 0.08561883890988412), (150, 0.085040291544461), (4282, 0.08391255061481984), (151, 0.08355950236047355), (4439, 0.08316236402187034), (195, 0.08281079765820352), (152, 0.08273264371600383), (1504, 0.08272697844343252), (749, 0.08258858713724879), (3435, 0.08175125300399405), (405, 0.08159309163801476), (202, 0.08101029374039684), (3954, 0.08045840764925286), (609, 0.08006841481074393), (618, 0.07955588220995949), (2045, 0.0781163279967894), (983, 0.07804577859200315), (857, 0.07750773140191619), (523, 0.0767599371594407), (648, 0.07675151225730778), (1253, 0.07651501477213002), (2888, 0.07638390726294754), (286, 0.07559123326878081), (3298, 0.07558852124143998), (3464, 0.07545238575234677), (1592, 0.07535345034513201), (4141, 0.07506347933199273), (3438, 0.07458486485327209), (253, 0.07448306964574922), (3457, 0.07418449012740563), (2054, 0.07319593871855296), (4111, 0.07292964945491383), (395, 0.07290739782082904), (1737, 0.07287076438276667), (3198, 0.07250734780245668), (325, 0.07192103903856174), (4273, 0.07182478177397095), (2335, 0.07149405440201875), (4378, 0.07139248884653336), (1204, 0.07121305289068072), (53, 0.07098423518035424), (2877, 0.07060032537151852), (3256, 0.07032638789324769), (2168, 0.07016930898739289), (2026, 0.07013258862892516), (843, 0.07010801624829342), (1106, 0.06981777678737743), (3760, 0.06979129216017371), (1585, 0.06971308538534818), (71, 0.06961626954935053), (1333, 0.0695698901525662), (732, 0.0689063339046576), (3379, 0.06881327596423592), (608, 0.06854217274530348), (215, 0.06847740343973209), (464, 0.06791055960067524), (240, 0.06782584460015186), (2512, 0.06759825961007124), (1669, 0.06756547663883632), (1275, 0.0662491314858245), (4465, 0.0658025422924846), (594, 0.06522854706849626), (1384, 0.06515650483878638), (4300, 0.06487533298696217), (3846, 0.06463475005046325), (1814, 0.06462614268184516), (3810, 0.06456948488725188), (1803, 0.06445051703562958), (2701, 0.06442799029458841), (819, 0.06440785432325011), (975, 0.06377589948935174), (1477, 0.06358294442293977), (1511, 0.0629800349796581), (273, 0.06250974687559525), (1974, 0.06225842097369798), (3161, 0.0618462829480004), (1334, 0.06180704313433452), (1459, 0.061500105028729206), (1225, 0.06129093808788902), (769, 0.06091029025858457), (2964, 0.0608331744976536), (1555, 0.060783418146832885), (169, 0.060637826031387045), (524, 0.06056591805956604), (1788, 0.06055916613652282), (538, 0.06017805943357003), (3985, 0.05937153633490287), (3311, 0.05918329829653707), (3427, 0.0583182805708353), (2114, 0.05829343832254287), (2636, 0.05818572157331751), (1922, 0.05795958958365935), (1470, 0.05726574596800578), (1934, 0.057209551483005126), (2690, 0.05691951024566305), (1522, 0.05670391083033904), (1113, 0.056686118043223294), (363, 0.056633899938209574), (2016, 0.05649208568704992), (3522, 0.056228345545881964), (2474, 0.055999711017422044), (2240, 0.05583848089878059), (3564, 0.055594154052275094), (2781, 0.0552748742355543), (2365, 0.05521522967217114), (582, 0.05514446671022333), (1027, 0.05490262610631802), (4649, 0.054799932348822716), (1656, 0.054725503334349085), (2642, 0.05428468853055018), (828, 0.05423747323428136), (3023, 0.05420170995910905), (277, 0.05404583218130768), (872, 0.05365069196220562), (795, 0.05328697878174023), (1923, 0.05307809472467592), (2117, 0.053068575063191153), (3958, 0.05241679327228328), (904, 0.05232660844829801), (1249, 0.05217276181588075), (4484, 0.052165345305298996), (3881, 0.05213182015665728), (4154, 0.051881449207576924), (1364, 0.05184286287811276), (2633, 0.051636339098287416), (762, 0.05162266039111138), (1192, 0.05161440399501349), (2098, 0.051605301357236774), (2094, 0.051526161531632746), (4310, 0.05119404702610273), (4654, 0.05104154629705654), (2470, 0.050704081069212224), (569, 0.05057581133694546), (1250, 0.05011978706576855), (3490, 0.049846058322215434), (3743, 0.049842762898000506), (2129, 0.04967461826816809), (2933, 0.04960591850856832), (3121, 0.04940415694466686), (1507, 0.049347454260910584), (1824, 0.048968616442525384), (567, 0.04886988609108852), (2143, 0.0487244679549656), (385, 0.048721966324598666), (1369, 0.048203326618776285), (4091, 0.04820172868871545), (1379, 0.0481924210740662), (1751, 0.0480185879826063), (2239, 0.04780281787401266), (239, 0.04764320540691855), (1891, 0.04763890855497874), (1787, 0.0476047818517175), (1714, 0.04750881289587242), (858, 0.04739103415949668), (119, 0.047325977762218925), (301, 0.047215536926335615), (288, 0.04712786313009674), (1526, 0.04700165476295601), (1330, 0.046915564129053115), (1668, 0.046613922803686904), (905, 0.04644403710713584), (1305, 0.04639320780769461), (1873, 0.04638992727404685), (3765, 0.04636493219645121), (2660, 0.04632778333539314), (1657, 0.04618941450245004), (4032, 0.04618451555526526), (1518, 0.04615743215914932), (2513, 0.04611592562037599), (539, 0.04609543565055565), (332, 0.04604140010661366), (3096, 0.04597611908962182), (3034, 0.045921982067818376), (4384, 0.04571175730805852), (3409, 0.0456336993261122), (1068, 0.04548637745570056), (2503, 0.045370392797752665), (568, 0.04536669475996404), (3388, 0.045154945024721546), (1185, 0.04476363329800135), (2819, 0.0446932324660355), (2935, 0.0445471605267381), (2302, 0.04443967076274558), (3186, 0.044363006844543765), (3868, 0.044228619161961844), (2074, 0.044110101366876264), (2825, 0.044078961929065484), (4552, 0.04401469036801863), (1460, 0.04380138517883876), (2981, 0.043776435560638274), (3395, 0.04375450295458497), (3355, 0.04356963412187839), (848, 0.04352506851445739), (2031, 0.043515689953877834), (4347, 0.04346114178962115), (1506, 0.043418362736888164), (243, 0.04327808870210235), (4567, 0.04316316984007501), (2979, 0.04316063445524478), (352, 0.0430765625745661), (191, 0.043041794464345376), (107, 0.042964551721712124), (2376, 0.042918122857135706), (838, 0.04289051841320977), (3386, 0.04280042406273831), (72, 0.0427802763714028), (1295, 0.042747452803342516), (1575, 0.042623441057327065), (4193, 0.042454519030889544), (322, 0.042396285870280735), (757, 0.04222525935885623), (3063, 0.0421325453636998), (264, 0.042083246959937017), (4180, 0.042067719369429796), (1634, 0.042057998627048974), (1776, 0.04203763017182035), (635, 0.04189843644944223), (1328, 0.04172357443447343), (196, 0.041682740650369095), (2681, 0.04150410202961031), (3849, 0.041430034857613415), (4739, 0.041315205334538786), (122, 0.04128668614716287), (4240, 0.04123945925017016), (3090, 0.041223571710985674), (2650, 0.04120466194996179), (1374, 0.04105991682973673), (1426, 0.04105781924429613), (4272, 0.0409903837361805), (2841, 0.040902241440902924), (245, 0.04083305436739238), (2843, 0.040784703656554316), (1412, 0.04075930858887073), (4476, 0.040656451960658), (2712, 0.04057456020894815), (2960, 0.0403542612496903), (75, 0.04030646593700117), (2055, 0.04028533579135286), (2822, 0.040210334273439244), (1989, 0.040198783203116845), (1904, 0.03989347780619489), (2531, 0.03985295199808191), (451, 0.039806876167880964), (1654, 0.039762706144693974), (4643, 0.03973761666742421), (186, 0.039634948244698785), (269, 0.03963005846601008), (1045, 0.03958888367825131), (2286, 0.03953747290063813), (4070, 0.0393673818131509), (2406, 0.039319581817206115), (1111, 0.03921620949764949), (2995, 0.039165281545921055), (1417, 0.039153417379714645), (1173, 0.03910117775450721), (4436, 0.03908985204933514), (4338, 0.039004720458645746), (3723, 0.038980363603746626), (347, 0.03888456582451462), (833, 0.03879295964291868), (4138, 0.03865450535539058), (231, 0.03855932635772345), (1931, 0.03854196858524723), (934, 0.038531140558310056), (4106, 0.03844258117642962), (1129, 0.03843455877410857), (1845, 0.03825728538336148), (4497, 0.038075674834794154), (965, 0.03764024102766484), (1747, 0.03760760788496821), (1037, 0.03752164872582107), (4062, 0.037516949304288935), (688, 0.03728753551757228), (1687, 0.03718232150941918), (966, 0.03717510488994061), (927, 0.03715836817745562), (4090, 0.03712281289961695), (4698, 0.037119346303696954), (2330, 0.0370661759626659), (3747, 0.03704081311990671), (4756, 0.03699307408065908), (2584, 0.03695735691834996), (39, 0.036825936054505064), (1090, 0.03671473855799305), (2630, 0.036692100142726926), (232, 0.03668627271197836), (3709, 0.03668176039295865), (553, 0.03665799023020199), (57, 0.036620717594482065), (1777, 0.03661502588431542), (2760, 0.036568023667898755), (2581, 0.036552069853634295), (2164, 0.03652536723355258), (1721, 0.03644594116304281), (870, 0.036429799802834874), (3516, 0.0363250915928572), (1527, 0.036162842850979704), (3109, 0.036143932848840064), (4388, 0.03612073923483661), (1256, 0.03606223648524332), (2944, 0.03606020732902163), (4112, 0.036052165937914854), (550, 0.03604415425355211), (4334, 0.03604334135654689), (2541, 0.036010265910998096), (204, 0.035896465498638994), (2969, 0.03587201397002836), (2198, 0.03582238678604758), (28, 0.035780140740019305), (782, 0.03575036752865873), (1357, 0.03571017990041126), (1254, 0.03570548921057229), (3245, 0.03568130687482935), (3320, 0.03565306764875355), (2898, 0.03556121865778106), (2171, 0.035552893248439445), (847, 0.035519874306977194), (2188, 0.03551123231622949), (67, 0.035492954406217254), (2032, 0.03545488983845226), (2691, 0.03544967138485472), (1841, 0.035439207909163134), (3456, 0.03542354868741696), (1774, 0.035385666129982334), (4402, 0.03535933384980911), (1257, 0.035342726220550874), (3267, 0.03532735729136048), (3530, 0.03531652391887723), (615, 0.03529634678061716), (2324, 0.03529619697982558), (1903, 0.035246387913504915), (284, 0.0352242981160712), (2218, 0.035196432846253144), (891, 0.0351827917807242), (726, 0.03517557454044133), (4287, 0.03506148669706395), (1686, 0.03505611550869594), (1767, 0.0349360825866266), (689, 0.03493190553126703), (1418, 0.0348793333558093), (788, 0.03486741736581425), (3895, 0.034847998151661924), (4329, 0.03484643828342257), (2687, 0.03474450880223478), (586, 0.034721236308780434), (3055, 0.0346855990309587), (3912, 0.03467191255825361), (1306, 0.03465747111583264), (2975, 0.034638351433016926), (4055, 0.034613909709764384), (3865, 0.03447689988670637), (1510, 0.03444273835142674), (3976, 0.03434764848393387), (1515, 0.03429568609186737), (750, 0.03428953845147015), (977, 0.0342591665285101), (1161, 0.03419589144743239), (2041, 0.03413416097373307), (4099, 0.03406466620353383), (4542, 0.03397066337881963), (3941, 0.03395817038058125), (3685, 0.033956272516201744), (1354, 0.033953316107191274), (374, 0.03394044350654352), (2747, 0.033901867659636986), (3188, 0.03389864345575607), (1351, 0.03388269825303243), (3541, 0.03387164980569958), (3793, 0.03386803667103167), (4226, 0.03386292781010365), (1239, 0.03383061894942936), (1994, 0.03378874400539268), (2265, 0.03378025436880452), (1308, 0.03374583359859753), (1951, 0.033635998685125526), (4151, 0.03361147610479262), (189, 0.0335232927034412), (3205, 0.033509186139730016), (1118, 0.03348392506672937), (2729, 0.03347382770236207), (402, 0.03340249918054927), (515, 0.03330710238183342), (2524, 0.03330656837934664), (4086, 0.03330537645814156), (430, 0.0332994132285699), (3619, 0.03323613758504459), (1310, 0.033187964264383106), (867, 0.03318576063203523), (1278, 0.03313286412707626), (1006, 0.033121407745744826), (1524, 0.033069981913896165), (1968, 0.03300075802244491), (640, 0.03295051415389563), (1899, 0.03292435453253846), (919, 0.032898200689728985), (715, 0.03285204948082236), (1798, 0.03273443042192069), (2499, 0.03271144902000453), (242, 0.032708748704033966), (1982, 0.032679779499509405), (990, 0.03265596887862395), (4073, 0.032626502306250145), (1780, 0.032555227160589124), (2867, 0.03252462586953963), (575, 0.03251052873439678), (895, 0.0325081338058166), (706, 0.032492811440964914), (334, 0.032481713368159054), (185, 0.032480909395654546), (3279, 0.03246072156851666), (781, 0.032445910823094726), (1678, 0.03236123136598279), (249, 0.03232632803351377), (25, 0.03222681370641651), (1878, 0.03222319429232963), (3937, 0.03220589253697914), (467, 0.032167670828714606), (108, 0.03216694517038375), (2493, 0.0321137932136301), (3099, 0.032069282579516814), (36, 0.032008674745249314), (725, 0.031995288589811634), (2610, 0.03197501078585328), (3398, 0.0319077169383432), (1623, 0.03190138172084396), (1950, 0.0318223242622332), (3671, 0.03172953122659598), (1467, 0.03166980347258843), (491, 0.03165048113714008), (2245, 0.03157099418462986), (162, 0.03154656832618221), (1341, 0.03149717650123649), (3, 0.03142442817063111), (1581, 0.0313426126995609), (528, 0.03131523426079474), (4697, 0.03128601117775463), (3426, 0.031282845915082146), (2193, 0.03125662276982161), (1924, 0.031226570916238948), (2338, 0.03122304670077803), (2216, 0.0311712750875818), (3499, 0.031117066190499483), (1266, 0.031108644873957647), (570, 0.031101540153198787), (4034, 0.031100128996082672), (1764, 0.03105122981028191), (1329, 0.03102851775068296), (4122, 0.03098345580157033), (433, 0.030938320985935006), (2368, 0.030932866609407163), (3726, 0.030929040043941616), (713, 0.03088028202692363), (3412, 0.03085396553921521), (3698, 0.03083877079569622), (3149, 0.030826224955486606), (101, 0.030817856958759812), (545, 0.03081725856863692), (419, 0.030810602553028248), (330, 0.03081035554103728), (561, 0.030804139701325967), (2081, 0.030798684180324998), (1590, 0.030790374692164457), (3903, 0.03077154455995889), (3323, 0.030702617967665546), (3454, 0.03069182555326372), (2616, 0.030677998449949347), (2441, 0.030676014155575634), (656, 0.030569490927620336), (1046, 0.03053817821879392), (521, 0.03052354337052928), (3045, 0.030514366445239968), (1187, 0.030492551713837333), (3966, 0.03048481280201131), (117, 0.03046912447315979), (1867, 0.030439448041148905), (4613, 0.030439263297008988), (263, 0.03041577089447491), (3886, 0.030382068790549416), (2672, 0.0303449178477667), (1420, 0.030322494145916257), (3403, 0.03027717720739575), (912, 0.03021366005915327), (2582, 0.03020368632308853), (3026, 0.030198677382420148), (4020, 0.03018298052062229), (3980, 0.03017294872015175), (2674, 0.030017550094875084), (555, 0.03001120429023093), (2522, 0.029916291906650093), (2575, 0.029900204949311303), (2259, 0.02989183723033093), (1280, 0.029890281738349594), (1195, 0.029850909856603366), (2056, 0.02984855129979655), (2110, 0.02981041156244113), (1062, 0.029800192759643837), (1194, 0.02979065447426734), (1812, 0.02973794542901944), (2034, 0.02970405168480956), (2209, 0.029693966663884415), (35, 0.02965727287025329), (855, 0.029633834559260306), (1135, 0.029606369610314896), (1938, 0.02960591841040945), (3547, 0.029604895031979946), (768, 0.029589644874402826), (1534, 0.029539919767797573), (452, 0.02947992951429127), (4398, 0.029454451421407082), (3215, 0.02943919483555964), (1201, 0.029392699869645517), (2910, 0.029331561342960017), (4754, 0.02927155773536281), (3523, 0.029243723032125912), (4324, 0.02923948971061248), (3343, 0.029220954750124685), (1150, 0.029200997082059886), (3794, 0.0291404011304157), (4218, 0.029131078100689517), (1396, 0.029112633880405872), (3434, 0.029078843095156032), (2180, 0.029053063629765504), (1571, 0.029039688777346084), (2915, 0.02900523807348115), (1908, 0.028950719239834267), (2940, 0.028937092317196694), (4708, 0.02887531739424166), (4674, 0.028864694292654126), (1443, 0.02876650367535755), (1134, 0.028758450231509473), (1649, 0.0286623176987677), (2047, 0.028654528363006027), (564, 0.028635564993621392), (3360, 0.028617023398949688), (2931, 0.028561136447627127), (1731, 0.028548801542091246), (2013, 0.028541302938574105), (129, 0.028490477125042633), (3837, 0.028488091424800983), (401, 0.028411644987107156), (313, 0.028396201582151826), (2740, 0.028391774180781402), (1004, 0.028390827421046268), (2840, 0.02834704433468597), (3870, 0.028303607639298553), (258, 0.0282615791066751), (223, 0.02816680059044355), (3990, 0.028157725786968648), (2587, 0.028134008359551377), (3792, 0.028124772334222066), (3367, 0.02811420549307423), (1566, 0.028092592073322063), (1317, 0.028079428230258316), (4146, 0.027986662231348367), (1182, 0.027955630928429176), (414, 0.02794297735093727), (3064, 0.02793844769550475), (124, 0.027932183690444624), (3463, 0.027927821999005828), (105, 0.027892670432435776), (1752, 0.027827584476172083), (1411, 0.02779147815342818), (811, 0.027711076549564607), (3626, 0.02770260742068442), (1858, 0.027640986152148182), (418, 0.027622089034206865), (297, 0.027612546844616392), (827, 0.027604052894958726), (1258, 0.027546472372966622), (2726, 0.027541184391566116), (3442, 0.02752906755393808), (1973, 0.027516413802745523), (2005, 0.027506241560757393), (2884, 0.027499215352946887), (3858, 0.02749225220650956), (1963, 0.027457862428398656), (864, 0.027424532852703673), (1069, 0.02740599673894467), (4715, 0.027403682037676794), (1650, 0.027372269626095614), (4420, 0.02736641616017367), (1818, 0.02735387883904738), (3213, 0.027334634120536296), (1450, 0.02729618505508972), (830, 0.027281860952416765), (1346, 0.027228026584121826), (2150, 0.027182549117934683), (2127, 0.027176704564202275), (3493, 0.02716414399036127), (1463, 0.027116232457589276), (2301, 0.02708221557541276), (328, 0.02707934863315167), (3566, 0.027050618560212805), (3387, 0.02704945357529769), (2688, 0.02702079450349589), (472, 0.027017945117651182), (1458, 0.027003091479087707), (1414, 0.026951023938576495), (610, 0.02691779538491564), (2480, 0.02690718174694715), (4699, 0.026877454575918766), (2794, 0.026868708733230603), (3085, 0.026857451291627466), (1948, 0.026820302151722583), (697, 0.02678368091399373), (2274, 0.026773266826771877), (1489, 0.026767457388853846), (1029, 0.026758865820991504), (1193, 0.0267104205546725), (3344, 0.026703464333780808), (613, 0.026685536310285418), (4005, 0.026657553934493594), (719, 0.026646803555670333), (13, 0.026628921790724555), (681, 0.026596316053746735), (3975, 0.02659002072303155), (4531, 0.026569465094946364), (2285, 0.026561675104197664), (3997, 0.026559318982859882), (1495, 0.026553671443234547), (1466, 0.026545286867386685), (1011, 0.026530433033107717), (2917, 0.026522383536504317), (4336, 0.026466236338673687), (1987, 0.026456660303185303), (1932, 0.026456657166093453), (2504, 0.026456004064937075), (2876, 0.026454407336874493), (321, 0.026417024011840675), (3001, 0.02639848167011405), (445, 0.026385676141101502), (957, 0.026335609863597734), (2255, 0.026319290928231362), (340, 0.026318323436486), (3294, 0.02629907285046699), (492, 0.026236082259812128), (2327, 0.026221483731886656), (1393, 0.02619550725482874), (1368, 0.026121447201570322), (125, 0.026118185707030433), (4097, 0.026087086748747476), (164, 0.026072392498338884), (2865, 0.026069979620967087), (802, 0.02606524176817109), (290, 0.026034565172968933), (295, 0.0260185115479138), (3786, 0.025976665672009347), (3751, 0.02595132941439969), (4077, 0.025932918212499316), (3272, 0.025931676782711428), (2313, 0.025879409991155462), (498, 0.025810286670567943), (3991, 0.0257987017999195), (3269, 0.025768041024015403), (2653, 0.02573829768888056), (2421, 0.02569227612870509), (111, 0.025690873020406076), (1919, 0.025671764096945337), (397, 0.02566510441199651), (78, 0.025631252839099606), (1245, 0.025566778811140927), (3844, 0.02556350304896199), (2845, 0.02545488733490375), (4291, 0.02545441414650244), (918, 0.025374406735205312), (1010, 0.025355580228920187), (4299, 0.025335822342056745), (2062, 0.025314669830225837), (4742, 0.02527951890527616), (384, 0.025278586428932787), (110, 0.025246598902623783), (1240, 0.02523617180591945), (1293, 0.02521463920605551), (1925, 0.02520784249904931), (1913, 0.025186724197261652), (2435, 0.025170787300303078), (3227, 0.025154613793283806), (3141, 0.02514560338310695), (3697, 0.025085731713553248), (2946, 0.025085584837907633), (4199, 0.025080161377348833), (4349, 0.025064754146981512), (4461, 0.024984858509783922), (58, 0.024971396135467634), (1587, 0.02495861609099947), (3420, 0.024913915056270046), (772, 0.02489796357927056), (520, 0.02480051073119845), (600, 0.024765077270397735), (3668, 0.024758268287008812), (338, 0.024749821732872018), (4676, 0.024716219465307547), (1064, 0.02471516399150468), (599, 0.024714393718062125), (2736, 0.02471218276747484), (2136, 0.024678569568311284), (1682, 0.02466849729017782), (3177, 0.024653708974680423), (2640, 0.024625511240867863), (2532, 0.024607815994848178), (15, 0.024601520611403315), (738, 0.024590023015820233), (1478, 0.024587135309519833), (3587, 0.024554082775232557), (3153, 0.02452999533383498), (6, 0.024499569035833925), (3880, 0.02449512368682108), (271, 0.02448442308370258), (1557, 0.024478101794590472), (846, 0.02439225185061327), (4589, 0.02438993285243747), (2844, 0.024353596814063294), (4743, 0.024342136421277853), (3342, 0.024328840706734425), (1779, 0.024314590078417977), (2447, 0.02423357162880732), (2427, 0.024204711286941287), (631, 0.024199004651718672), (3898, 0.024189240919560283), (247, 0.02417620996724589), (3979, 0.024175725291018163), (3308, 0.024151112662564613), (1433, 0.0241453316456668), (3328, 0.024106234219880326), (3875, 0.024064112963632967), (692, 0.024060446117953153), (2449, 0.023975850231792457), (2735, 0.02396258749623446), (2798, 0.02395466915228053), (511, 0.023940926754670386), (4569, 0.023917458009230896), (700, 0.023914805763775044), (1603, 0.02389608758793072), (4210, 0.023872243222168757), (1043, 0.023867790517805795), (2277, 0.023857708478619507), (2206, 0.023846201525655055), (937, 0.023833718159592905), (469, 0.023818920174676676), (66, 0.023775108260080963), (336, 0.023739141591647753), (4419, 0.023738467090746153), (2988, 0.02368939815499507), (222, 0.02368391011074806), (3470, 0.02365694808104211), (1579, 0.023631384266823593), (866, 0.02362791894667908), (3546, 0.0236201587833378), (3798, 0.02361940187817942), (1206, 0.02357242591776319), (2443, 0.023538807202138627), (3223, 0.02350709757006575), (1262, 0.023472830842582323), (699, 0.023471380588043475), (1915, 0.02336968718634767), (3759, 0.023355905163254136), (2706, 0.023352038181208776), (300, 0.02333644971561935), (985, 0.023335965439156423), (4294, 0.02332163026229754), (4619, 0.023295212052709756), (1114, 0.023265938937089815), (2955, 0.023252887029691242), (2609, 0.02324954448976595), (3461, 0.023234571198857662), (2283, 0.02322890975993752), (4399, 0.023223783942060705), (2621, 0.02320520605699457), (1664, 0.02319904987503669), (1386, 0.023150016446936497), (361, 0.02313826355383994), (2893, 0.02313390665533072), (1895, 0.02309770504182264), (155, 0.023097302986053267), (2461, 0.0230970422700534), (3043, 0.02309351144176644), (49, 0.023090006759391928), (3133, 0.023046637148876645), (2715, 0.023031195872719464), (3578, 0.022991863077983243), (4581, 0.02298277988392805), (37, 0.022950458396492304), (4609, 0.022927215420356608), (2103, 0.02291721189890414), (1223, 0.022913163470627065), (1675, 0.02290301370610375), (1799, 0.0228704841024665), (639, 0.022861232155295563), (1172, 0.022842127307453105), (292, 0.022834567981564535), (3032, 0.022834121063258817), (2510, 0.0228212912989706), (4270, 0.02281072943263767), (3416, 0.02279305014861549), (4441, 0.022774203786233807), (4196, 0.022771766198093867), (298, 0.022769735794534014), (849, 0.022755666148862822), (182, 0.02274215641804101), (2777, 0.022728065493694702), (1962, 0.022725894527054764), (1744, 0.022725310416047077), (2384, 0.02272011747529726), (952, 0.022701751359438232), (3390, 0.022696924038725315), (4564, 0.02266147687021014), (1221, 0.022636275517584323), (4188, 0.022624887290579175), (775, 0.022616379616129577), (3927, 0.02259031942567585), (814, 0.022583606887292718), (1604, 0.022576562875538535), (566, 0.022575292469541916), (674, 0.022572056610751512), (4509, 0.02253981502289735), (113, 0.022531970987915966), (3518, 0.022501064808420866), (2847, 0.02248183812415759), (4045, 0.02244367058610921), (3207, 0.022417782362643447), (2758, 0.022400546994354634), (4610, 0.022385094711846108), (3983, 0.02234402142237465), (4601, 0.022328590551984617), (1529, 0.022324122836463827), (2749, 0.022315044503907776), (177, 0.022287083075859082), (1816, 0.022267643279044087), (1554, 0.022258627718462667), (1992, 0.02225492713609832), (1674, 0.022253392487615733), (2322, 0.02223373421246209), (4392, 0.022232434251616078), (230, 0.0222177837055807), (3752, 0.022210399434795913), (481, 0.022185035941589895), (4156, 0.022180576250650827), (1401, 0.02212977981816668), (1695, 0.022073297456389186), (661, 0.02203747591072156), (1709, 0.0219928818139003), (1546, 0.021977406504237233), (4445, 0.02194197230562805), (3253, 0.02192100057722482), (4245, 0.02191787394186575), (3584, 0.02190872367316034), (1197, 0.021902544678703735), (537, 0.02189255384305354), (1713, 0.021839486269316095), (2641, 0.021820136643362246), (299, 0.02179384933077346), (3492, 0.021770545266547592), (1698, 0.02176249496390283), (3965, 0.02174697390853835), (2007, 0.021743618051795522), (259, 0.021740245068384914), (1626, 0.021723413381304464), (2622, 0.02167430303502486), (3907, 0.02161924334273332), (4482, 0.021619078545550757), (3326, 0.021606188289949015), (407, 0.021590585732558662), (821, 0.021554740456249402), (1740, 0.02153787246834373), (3041, 0.021532688855759177), (70, 0.02151622232438648), (2269, 0.021497135781486397), (2668, 0.021485665115847076), (3102, 0.021480643385331646), (3783, 0.02147648548386245), (1243, 0.021456585108670895), (2000, 0.021443174319198982), (2208, 0.021427232970009633), (1210, 0.02140994004702822), (842, 0.021408611141784235), (660, 0.021309318828107694), (3690, 0.02129533368198252), (2112, 0.0212875599665713), (1809, 0.021270226062510566), (2163, 0.021255634762890722), (1307, 0.021232448871174415), (357, 0.02120544564275143), (2927, 0.02120036237074547), (2611, 0.021192583649136988), (1413, 0.021192351179804184), (4125, 0.021187779324439833), (1472, 0.021135019572262936), (3327, 0.021119984608160502), (1373, 0.0211172552836516), (327, 0.02111275082585458), (751, 0.02111105631701974), (853, 0.02108545871395763), (1079, 0.021081502129284942), (2212, 0.02106769063368974), (4455, 0.021053132478153234), (3641, 0.021051439760117707), (4262, 0.021045106271880783), (1162, 0.02103053559360748), (179, 0.02095166478154388), (382, 0.02094371589869947), (4110, 0.02093623832252024), (1252, 0.020918437945694084), (4001, 0.02091679772284459), (2625, 0.020891769973368356), (3852, 0.02088961380300034), (809, 0.02079997839401836), (2494, 0.020794174996490472), (3814, 0.020767144827096132), (4, 0.0207561196070989), (1636, 0.020750975936122806), (2227, 0.020730393384290283), (2014, 0.020725341426644533), (1615, 0.02071748517568665), (1471, 0.020676164305271607), (2586, 0.020669174079504565), (7, 0.020649672961522855), (756, 0.02062852679581701), (3303, 0.020628417688447014), (2720, 0.020583978110721962), (2316, 0.020553919474340085), (4292, 0.020537029642446886), (1572, 0.02046465119408921), (1488, 0.020451183193250257), (208, 0.020418848798877974), (1099, 0.02039407280049568), (2294, 0.02037014340386728), (428, 0.020369974633518865), (954, 0.02035111025656921), (2868, 0.02033993695709761), (2389, 0.020311408107437846), (2519, 0.02029144918147449), (315, 0.020278868283126566), (3817, 0.02026346926612536), (4682, 0.020262129417613794), (106, 0.020235638816494313), (2024, 0.020218149758777962), (2711, 0.020214248447836165), (440, 0.020211710928374597), (2856, 0.020205516158195894), (1007, 0.020201429752533483), (2095, 0.020197677736606353), (19, 0.020177857410527404), (4128, 0.020142864854283567), (946, 0.020118174891563617), (2145, 0.020076857138375613), (2290, 0.02007438078739305), (3174, 0.020063059927439862), (4516, 0.02006116673810412), (3448, 0.020058815197711993), (3362, 0.020036765597705918), (3472, 0.020034857825352234), (1283, 0.02002486473814356), (310, 0.02002070025803926), (2680, 0.02001625558731386), (4726, 0.019977849077685954), (2037, 0.01994686028516841), (4071, 0.019941805346979345), (4596, 0.019924243738813942), (3424, 0.01992286199307262), (1042, 0.019895396720518228), (2677, 0.019876099445492186), (1001, 0.019860148469659562), (137, 0.01985710055313168), (755, 0.01982518492941467), (161, 0.019761027557493205), (911, 0.01974151359825065), (629, 0.019720746040635246), (763, 0.019713648923251482), (4721, 0.019711217892133405), (1846, 0.019694164717362586), (981, 0.01968495539736436), (2985, 0.019676491555313445), (1500, 0.01967044557758549), (1936, 0.01965684082046972), (456, 0.01962402294244476), (1425, 0.019620577780143398), (4623, 0.019600841338801595), (1465, 0.019598910365355243), (2956, 0.019581537731558893), (4351, 0.01958150790870404), (2487, 0.019546570905924234), (131, 0.019540515913559077), (294, 0.019522856692455834), (963, 0.01951924732044359), (4665, 0.019510757091322516), (2854, 0.0195051468959606), (1461, 0.01950289225323293), (1539, 0.019475431585057303), (2779, 0.019474074439512094), (2830, 0.019470526239073988), (3384, 0.019436672331226562), (2549, 0.019435261709224484), (153, 0.01943416271508918), (365, 0.01942767417213705), (1945, 0.01937888881904864), (266, 0.019377627323022915), (882, 0.019321946021328557), (3926, 0.019318077458229915), (427, 0.01931807399652475), (362, 0.019315635619602346), (1207, 0.01931391739171946), (506, 0.019304508572583593), (1281, 0.019270789609810976), (1385, 0.019257080021857446), (3172, 0.01925369707241259), (3790, 0.01925142050604677), (317, 0.019250330560390674), (3400, 0.01923808976554095), (540, 0.019232033785650096), (3657, 0.019215840416192138), (3594, 0.019210889570156105), (746, 0.019210125059696177), (475, 0.01919419894255063), (3585, 0.019173225091622784), (3695, 0.019135647663400555), (886, 0.019125026968897625), (1701, 0.01911810841647532), (1967, 0.019110660962393028), (644, 0.019110067141564723), (3458, 0.019109240140979696), (3583, 0.019101185687232458), (1012, 0.019052757057734508), (3237, 0.019050001427101892), (1321, 0.01903034284761542), (551, 0.01900875704161896), (852, 0.019002001669829034), (1957, 0.018991597216481377), (3071, 0.018986809148374875), (213, 0.018986632223453544), (2467, 0.01897945925704062), (1381, 0.01897517178119689), (2205, 0.018964620011383684), (4659, 0.01895229889771479), (2043, 0.018918904661406732), (4467, 0.01886124308534862), (3812, 0.018852333454230853), (2058, 0.018843965060073572), (2774, 0.018806808522777493), (1537, 0.018803244971039714), (2221, 0.018793228366748186), (424, 0.018774687573535658), (2682, 0.01876872864739547), (309, 0.018762641916674705), (425, 0.018758398443928306), (3728, 0.018754483482059898), (2963, 0.01875220795840122), (121, 0.01874922404689852), (2065, 0.018721223431044452), (2102, 0.018714826946032093), (2022, 0.01870832179444242), (4478, 0.018704072936939174), (2093, 0.018697481812844797), (2808, 0.018688829854426135), (3533, 0.018687470343523287), (60, 0.01868345539024017), (287, 0.01868035101769062), (666, 0.0186068226505869), (822, 0.01860057763627077), (1926, 0.018589776180096888), (252, 0.018563554656560625), (3259, 0.01852201783799664), (1616, 0.018521570807142097), (3469, 0.018517419172399685), (3246, 0.01848983797149141), (684, 0.018479902932122174), (935, 0.018476597571018185), (3563, 0.01847507597365602), (3276, 0.018465576512920454), (411, 0.018464534075867817), (4323, 0.018427529074790647), (1485, 0.018405009193524894), (1552, 0.018388569811388568), (4350, 0.018387306949876548), (2175, 0.018383753906040745), (1955, 0.018376428715892207), (1071, 0.01836645736475809), (2998, 0.018364297028667643), (4152, 0.01835973450775203), (752, 0.01835321001565602), (3577, 0.018340741521892787), (3295, 0.018328266908864403), (3970, 0.01830925970395189), (2211, 0.01830095894845648), (2237, 0.018284953622298223), (3459, 0.018279290141029154), (1965, 0.018273538633771867), (45, 0.018263365037081147), (1486, 0.018258208134017108), (1387, 0.01825046430453898), (3120, 0.018212703485870542), (79, 0.01820263592581291), (3299, 0.018187621739384457), (3933, 0.018183808690232745), (501, 0.01815406828987936), (2233, 0.01814586448091412), (2878, 0.01814235627584281), (1238, 0.018135098979332943), (2527, 0.018127141152157498), (807, 0.018122313282488565), (2550, 0.018104489698209807), (65, 0.018063914409813135), (165, 0.018013586026255277), (468, 0.01799744034890418), (2052, 0.017977312369839703), (2864, 0.01797583957204172), (662, 0.017958509464937857), (2275, 0.017957014789349055), (908, 0.017941951141568463), (4731, 0.017931352860007087), (3129, 0.017903034168186113), (597, 0.017896029815718164), (2469, 0.01788058794294095), (2708, 0.01787689345409174), (4053, 0.01785011493586477), (3718, 0.017843951775670164), (381, 0.017803105770945255), (3586, 0.01779519356625988), (495, 0.01779251836888569), (4236, 0.017786971898335526), (4205, 0.017782115094927036), (3114, 0.017779949312709414), (376, 0.01772070476965031), (4503, 0.017712562891070864), (3131, 0.01769054483312658), (909, 0.0176819985844393), (657, 0.0176790026795903), (3232, 0.017675847159545018), (1175, 0.017655642094835368), (2027, 0.017655504372314015), (1493, 0.017646024041240972), (1365, 0.017642199230717075), (1332, 0.017619593554691088), (3152, 0.017606460691493638), (663, 0.017602120469119166), (1092, 0.017598139182918072), (603, 0.017587264347444634), (2937, 0.017565484576521073), (3144, 0.01756441206759444), (3826, 0.017554292717958764), (859, 0.017508320885859956), (2803, 0.01750272202017319), (2671, 0.01749654152134482), (1436, 0.01749544820449696), (583, 0.017484800646278942), (3961, 0.017480680728550333), (2382, 0.017475009797091958), (3805, 0.017443815308925092), (1380, 0.017438627563579893), (1567, 0.01742211691737426), (4011, 0.017395160030314508), (2360, 0.017385515847376302), (2019, 0.017374699008469625), (724, 0.017374056079306244), (1988, 0.017344866243311417), (3058, 0.017337961832416697), (2426, 0.01733538553913544), (4182, 0.017326640011817735), (100, 0.01732134274653802), (1745, 0.01730391289457934), (1309, 0.01730249983873411), (2015, 0.017266017245898137), (3732, 0.017256418316441383), (187, 0.01725514057112788), (201, 0.01725175027675917), (3693, 0.017249233426560023), (2185, 0.01722981134657713), (1870, 0.01722903188132358), (2214, 0.01721972213684236), (2929, 0.017201708861758456), (779, 0.017195983198310418), (4486, 0.017184358416216617), (82, 0.017154608088139043), (1610, 0.017148916206414247), (3694, 0.01713978293942565), (4036, 0.01709389088943972), (2178, 0.01708293026228035), (1035, 0.017061796557322255), (4061, 0.01704597274068294), (4169, 0.017009556029914944), (3142, 0.016987630226254706), (3286, 0.016985246434360737), (519, 0.01698162502810622), (622, 0.01696758257347729), (3515, 0.016966794857286402), (314, 0.01694709729414696), (1981, 0.016928430681474975), (1732, 0.016901959534916102), (180, 0.016898980528367413), (546, 0.016879618926694755), (899, 0.016872242608467505), (4009, 0.016871564328353704), (2444, 0.016866580387970592), (32, 0.016866093782296955), (4283, 0.01685511637938776), (353, 0.016838038256513158), (3226, 0.01683410509924331), (720, 0.016825902509159163), (3655, 0.016785029961403304), (4118, 0.016781636746101804), (3284, 0.016763355695119147), (854, 0.0167610885529397), (1985, 0.016752577035506543), (2647, 0.01674737732781486), (945, 0.01674297494088671), (2714, 0.016736619067303844), (1067, 0.016685783139825987), (1577, 0.016679603965244382), (2517, 0.016672393532863504), (1191, 0.01665487768776784), (1259, 0.016620215343267877), (2501, 0.016614785692240137), (785, 0.016599281525688243), (1850, 0.016597954088855744), (1304, 0.01659496357380881), (3630, 0.016562208592991214), (3635, 0.01653855372447991), (1179, 0.016532963879013332), (305, 0.01651920943934276), (1215, 0.016509039337576983), (3310, 0.01649744943870478), (2070, 0.016497133633498598), (1983, 0.016494450859918266), (687, 0.016480704239953174), (3579, 0.01646306683706841), (3963, 0.016411482156200873), (1692, 0.01640365630089979), (712, 0.016364247956297113), (1855, 0.016363506289167055), (159, 0.016343021917996747), (690, 0.01634051437287964), (3065, 0.01633632299699525), (1268, 0.016331503298542695), (115, 0.016327841856355718), (1958, 0.01629909225974012), (2590, 0.016285833826318468), (1405, 0.016283781541503506), (3191, 0.016280605202705793), (1312, 0.016276327291230065), (803, 0.01625235880899062), (509, 0.016241638060743344), (1279, 0.016238527826579887), (1939, 0.016234038950252903), (3060, 0.016231591859641292), (1355, 0.01621837731227218), (658, 0.01621502210890442), (2603, 0.016198806968750982), (2713, 0.016198698769760267), (3445, 0.016195660261185123), (4025, 0.016190007936980846), (4725, 0.01618703851418466), (3598, 0.0161638152412184), (3022, 0.016149078397259216), (1403, 0.016135308136519432), (3741, 0.016124490076999752), (212, 0.016106561933384406), (3265, 0.01608232007610613), (2559, 0.016080558520653356), (1494, 0.016076800031251736), (4600, 0.016072410767455574), (4007, 0.01607193946117949), (1246, 0.01603251460568575), (4550, 0.016029934756284565), (2075, 0.016028355285798053), (1872, 0.016018339645661354), (3005, 0.016007238226944522), (3742, 0.01599272347559754), (2745, 0.015985718480957745), (1645, 0.01597403957587417), (3670, 0.015972865705470234), (3998, 0.01597227792402595), (218, 0.01597184680988949), (1005, 0.015960830344101853), (261, 0.015953356104837866), (2783, 0.015938374902857648), (1512, 0.015917103607453555), (2732, 0.0159155086310654), (3392, 0.015915122130740502), (1688, 0.015913252664049513), (915, 0.01591114207378381), (3917, 0.01590608672517075), (1843, 0.015879647265009556), (1116, 0.01587439633217949), (4640, 0.015866759055553504), (193, 0.015842881429467423), (653, 0.015821060351512754), (2086, 0.015806251578628226), (2412, 0.01578924717616912), (1112, 0.015774144226142747), (929, 0.01577295873214263), (4374, 0.015747346562027156), (1273, 0.015736903448446662), (4590, 0.015726447404226802), (4688, 0.015725592092585235), (4490, 0.01572546502344512), (181, 0.015708826263712932), (3208, 0.015705797273654034), (4440, 0.01569967201135157), (3199, 0.01569762782444485), (171, 0.015695843753832303), (260, 0.01568354333437731), (2408, 0.0156825978506324), (483, 0.01566939192263998), (3361, 0.015652630929676975), (4142, 0.015639403425919816), (1707, 0.015638024789886736), (1578, 0.015630666665000115), (375, 0.015628739480982312), (856, 0.01562842704929506), (237, 0.015611733018969962), (1041, 0.015572099785704152), (1622, 0.01556824424670801), (634, 0.015558122408320855), (2530, 0.015547514684293426), (3193, 0.015532808627498538), (1601, 0.015528783499854848), (2139, 0.015518923369512508), (548, 0.01550584382728383), (2468, 0.01549319362237242), (426, 0.015466069484074186), (3785, 0.015462432912275465), (4136, 0.015460136055585287), (2992, 0.015458360537812302), (62, 0.015457450212531355), (1880, 0.015441199012757542), (1613, 0.015436721762464552), (4119, 0.0154283544722943), (2646, 0.015418547227969344), (4201, 0.015412329032376248), (723, 0.015393619100589624), (1155, 0.01539223960849524), (753, 0.015371140024339033), (1684, 0.015362868633327899), (417, 0.01535911102466815), (3375, 0.015353205504569983), (63, 0.015306817476714533), (257, 0.015274456124947483), (3394, 0.015257112671209157), (669, 0.015254520694357804), (4353, 0.015252001307233459), (2481, 0.015242353128126945), (3684, 0.015242008293637357), (2632, 0.015238833421191658), (1726, 0.015229080719249711), (4587, 0.015218932996621188), (1996, 0.015217490020280083), (1525, 0.015216258916035343), (1270, 0.015208588593652442), (4271, 0.015203402640916876), (2763, 0.015197771038203762), (94, 0.0151847194330294), (2842, 0.01518453298616723), (367, 0.01517192856271098), (4576, 0.015157471633518145), (80, 0.015150755132450223), (3126, 0.015144643743303456), (1428, 0.015136877863963767), (794, 0.015130440680289825), (4614, 0.015127598467528869), (3181, 0.015126455422689157), (2130, 0.015102750238311652), (1706, 0.015076774792214132), (3051, 0.01503193331617003), (4459, 0.015013231526060728), (4658, 0.015003000532809565), (4015, 0.015000061428901385), (1964, 0.014996150455807225), (2133, 0.014979947836979665), (1759, 0.014964182300954835), (818, 0.0149617601463522), (736, 0.01494028369688421), (4312, 0.014913908095905011), (953, 0.014913262569863625), (3744, 0.014887247022297956), (1971, 0.0148861718624978), (1804, 0.014885818679101884), (2813, 0.014872423806535744), (3609, 0.014869838283290523), (3596, 0.014829588397963674), (1755, 0.014808528483089285), (3206, 0.014800182580852222), (962, 0.014797531765339333), (951, 0.014768810799624216), (3658, 0.014758124474478593), (1819, 0.014754812917196566), (3667, 0.01474577340672169), (497, 0.014714549170163618), (2528, 0.014707517069477294), (2500, 0.014702948995603905), (3559, 0.014700374771251625), (2160, 0.014684724542117156), (220, 0.014675672132256175), (3091, 0.014643311093157358), (2895, 0.014642043609754397), (4679, 0.01458475692002885), (1746, 0.014564548518836942), (2807, 0.014559333162788105), (1475, 0.01454981577180757), (2984, 0.014540268829976593), (1840, 0.014528743037122503), (2567, 0.014516026169333094), (302, 0.014513309521385674), (3610, 0.014511618469891147), (4525, 0.014502865530026061), (1911, 0.014493834883243599), (3738, 0.014464662215281993), (296, 0.014447405096280163), (1301, 0.01444601325062751), (2485, 0.014445982170951138), (787, 0.014429168882739596), (563, 0.014398872245409793), (3197, 0.014393178002509294), (2033, 0.01438464537893035), (3642, 0.014379110993757487), (2707, 0.014356870573364176), (733, 0.01435364335208196), (1772, 0.014348698503863319), (1605, 0.01430797621722823), (4238, 0.014274416519764747), (1547, 0.01424718495867584), (1255, 0.014237483135967961), (234, 0.014231051905293703), (1014, 0.014222886168831553), (4279, 0.014191929391780878), (2236, 0.014161028649759872), (1398, 0.014160648096993265), (1218, 0.014157800819052976), (2020, 0.014141756679789546), (3419, 0.014116790736044313), (1503, 0.014109504830584967), (3825, 0.014089978117060992), (3532, 0.014084022690699489), (1802, 0.014083628142270908), (2871, 0.01408215203202171), (2061, 0.014059714239565712), (4611, 0.014046392608292881), (1352, 0.014045674574625761), (3638, 0.014037747139652558), (2079, 0.014026095947063444), (3972, 0.014010835376164673), (200, 0.013994086710137467), (4033, 0.013989009838452615), (2078, 0.013967792882008782), (3397, 0.01396589909651837), (2472, 0.013957333751375839), (1095, 0.013946338005728089), (906, 0.013942121750330261), (4460, 0.013927420729990028), (710, 0.013920551614729711), (3346, 0.013919798121431112), (2555, 0.013910444768292828), (2938, 0.013893260765455762), (2296, 0.01389015743138593), (463, 0.013887120208531195), (845, 0.013882096437317127), (135, 0.01386939875016814), (1437, 0.013861178830419204), (851, 0.013853719422779534), (1229, 0.013843473968308005), (2568, 0.013823922770599179), (1023, 0.013799403488812386), (4194, 0.013790490148686893), (517, 0.013779949394495918), (3508, 0.013778303809106503), (1553, 0.01377291586839648), (40, 0.013770970637818503), (2066, 0.013761058037624195), (2710, 0.013753991717296295), (1586, 0.013749895550073502), (3560, 0.013744440856958369), (3244, 0.013726561341087911), (3228, 0.01371699847307013), (920, 0.01371580412594809), (2203, 0.01371135716469841), (2497, 0.013706535368656658), (1136, 0.013681238068936882), (2356, 0.013674665413070091), (4515, 0.013672321091880938), (2479, 0.013659783101693069), (1212, 0.013642647796834427), (2381, 0.013638508871004571), (727, 0.013638149748778996), (358, 0.013616584877794179), (41, 0.013611448993465062), (329, 0.013581683473539875), (881, 0.01357649669784368), (2574, 0.01356244840118881), (2040, 0.013562416638389113), (3062, 0.01356179101178381), (1408, 0.01355045994579239), (1530, 0.013541440685260288), (500, 0.013535126554771284), (4684, 0.013531752718402363), (2035, 0.013527535714459447), (2654, 0.013525210260605363), (1990, 0.013520791059446827), (1627, 0.013518011895626644), (368, 0.01351493935502215), (1122, 0.013499972786881222), (2428, 0.013499704075094526), (4524, 0.013488213034723227), (4181, 0.013483661181875582), (1784, 0.013476119928706901), (874, 0.013457936254266497), (620, 0.01344709832683953), (1171, 0.013443298403460514), (591, 0.013433745845269175), (69, 0.013431410793363834), (875, 0.013425835803130557), (3869, 0.013409470059814712), (1219, 0.013403364482147502), (4303, 0.013402331106718755), (1335, 0.013392130662037266), (3787, 0.01339208566678664), (1091, 0.013391937424871067), (2177, 0.013378650830646568), (3628, 0.013376748216722445), (251, 0.013375634834324062), (1377, 0.013373749252915703), (617, 0.013371421501499395), (709, 0.01337131967097097), (4130, 0.013370137453151876), (4565, 0.01336285382122546), (4344, 0.013339945868238376), (2039, 0.013321952659379743), (3163, 0.013314372259348936), (4491, 0.013310064816440249), (3202, 0.013299979180140996), (1376, 0.013294356790577274), (1009, 0.013293066323179196), (2473, 0.013292114362494297), (437, 0.01328465965438279), (1327, 0.013271978891827265), (2860, 0.013271865398666021), (1015, 0.01327033763190083), (1894, 0.013255684679400102), (4493, 0.013247750900751577), (3056, 0.013228462787948727), (403, 0.01322720454784528), (3977, 0.013211592963620875), (2962, 0.013209529339933496), (1770, 0.013200292336827426), (1392, 0.013194923053608063), (3807, 0.013190571797628562), (3951, 0.013188626697387872), (1708, 0.013185355282754451), (2224, 0.013172103239119718), (4031, 0.013161893188907012), (1140, 0.013155754465648409), (1886, 0.013142580329567416), (1141, 0.013119338799729745), (3780, 0.013118875733975403), (4703, 0.013110748241208225), (2508, 0.013109205674643009), (3782, 0.013102915235196754), (3592, 0.013101864273928817), (4203, 0.013101807162523127), (2817, 0.013101476541811477), (1705, 0.013099076755803877), (3834, 0.013088415270348822), (1324, 0.013048563565331435), (826, 0.01304594413337427), (2147, 0.013041603414701263), (4035, 0.013038112332937885), (1758, 0.013019717047668362), (4289, 0.013019694354127732), (3222, 0.013011470341464354), (3613, 0.012998049659270924), (921, 0.012989459219768204), (4557, 0.012975788904741735), (4568, 0.012974749244424787), (2539, 0.012969936705127173), (3132, 0.012969214305716528), (4328, 0.012967794500226584), (1492, 0.012967367992384814), (470, 0.012947616832903536), (2862, 0.012936674499967278), (3558, 0.012925549630048936), (2790, 0.012918545265438963), (1514, 0.012916660711438384), (441, 0.0128959611402692), (3661, 0.012890998411973064), (2318, 0.012885142489413824), (1402, 0.012884047051444962), (2675, 0.012880143387268176), (1570, 0.0128646717010832), (2848, 0.012863090204724939), (2665, 0.012849987533125506), (3968, 0.012845782058387076), (1044, 0.012845338356746328), (1823, 0.012843352844759171), (2638, 0.012842480139293611), (3302, 0.012839704877374482), (2873, 0.012837672259709094), (2339, 0.01283763036200232), (3018, 0.012831411159815462), (2413, 0.012831294674156713), (716, 0.012827538803380271), (320, 0.012824084421429231), (3089, 0.012803714783087837), (3039, 0.012790374809274571), (1066, 0.012784754453401971), (386, 0.01278307941669434), (1076, 0.012781963297345395), (465, 0.012781906109872595), (2352, 0.01276872609930614), (3134, 0.012767308441430402), (412, 0.012749412412210599), (737, 0.012748558762884426), (2511, 0.012735587422932345), (2791, 0.012730640308480277), (11, 0.012723449956654153), (793, 0.012703976428706451), (3124, 0.012700138742280216), (2837, 0.012695470618524097), (3822, 0.012691258183665871), (1565, 0.012685335876653157), (968, 0.012682480225729372), (1319, 0.012664049572522674), (971, 0.012646882805253609), (2334, 0.012646442825789861), (1676, 0.012645477033029873), (995, 0.012645167197867258), (2436, 0.012632964959697335), (1768, 0.012632534995140169), (1244, 0.012617683685534165), (2547, 0.012613601303732031), (691, 0.012612816816150903), (2276, 0.01261005253178759), (59, 0.012603137595176377), (4456, 0.012597644046836533), (2353, 0.012594473791919249), (95, 0.012583168208963052), (1431, 0.012581465821939461), (4752, 0.012580330421595542), (170, 0.012577306230259643), (1677, 0.012562809903895113), (936, 0.012557983247486668), (1474, 0.012556464159050361), (1453, 0.012556313569593303), (118, 0.012551423005951204), (902, 0.012548222116637826), (4444, 0.012547523570716422), (3801, 0.012543578125887567), (572, 0.012540249971851516), (3840, 0.012539997917982269), (1901, 0.01253670194091216), (3877, 0.012535986373794519), (3597, 0.012519222142664682), (840, 0.012497079968044389), (3486, 0.012489814411629094), (1108, 0.012481372990841635), (4373, 0.012480457581032067), (1302, 0.01245110998912485), (1725, 0.012447428053146956), (4255, 0.012444755787651293), (3739, 0.012421858132439675), (1440, 0.012421426995828466), (1320, 0.012414089761287628), (3444, 0.012411073461815691), (4137, 0.012399557588107292), (3467, 0.01238895045431979), (1583, 0.012383193457672439), (714, 0.012377281569093988), (4041, 0.012372590103744691), (1611, 0.012362167923826401), (731, 0.012347458226759641), (1876, 0.012346822719666521), (808, 0.01234269175426116), (2554, 0.012340326838389093), (677, 0.012339247229537826), (2645, 0.012327285928639468), (938, 0.01231590594525106), (1074, 0.012314007572792584), (342, 0.012313019205951105), (2814, 0.012312955359474095), (2067, 0.012306130024016756), (2153, 0.012299445352876448), (4103, 0.012298778984230416), (2826, 0.01229790256721957), (940, 0.012274371986239497), (2506, 0.012272303934292432), (1151, 0.01226583048173277), (2250, 0.012260256748958047), (3993, 0.012251393719577376), (3330, 0.012244935200159627), (3982, 0.012229517312169043), (4346, 0.01222594202912721), (2315, 0.012222122834826443), (439, 0.012214469435199281), (1269, 0.01221285754335509), (4646, 0.01221279840292279), (3408, 0.012186518914174571), (3477, 0.012183527256566105), (894, 0.012171357726730257), (4056, 0.012166484091857947), (1640, 0.012160743816549434), (4274, 0.012158782338853156), (2850, 0.012157784043601991), (1226, 0.012152700917200523), (1143, 0.012140048633623913), (4186, 0.012138229321363334), (4076, 0.012129698269319169), (1548, 0.012124745091276784), (3736, 0.012122115987150264), (1857, 0.012095856119097179), (4492, 0.012095049807802044), (2637, 0.012088449703686638), (4269, 0.012077072296474632), (2298, 0.012071072315888637), (1263, 0.01206297618235663), (1358, 0.012055911382307678), (3260, 0.012054990673930625), (3218, 0.012050127831654624), (1619, 0.012045430900457971), (2725, 0.012041398416368128), (1130, 0.012039726532477337), (1696, 0.012038122975531869), (4211, 0.012007820005864159), (748, 0.01199385646759632), (3247, 0.011992714111907657), (2418, 0.011981084009378223), (3773, 0.011964100468968245), (4224, 0.01196325287857999), (90, 0.01196188475188677), (2437, 0.011961256692098141), (1833, 0.011951124037232908), (3629, 0.011948832648097082), (1096, 0.011943154852223777), (3264, 0.011934877729515285), (2411, 0.011932686358457265), (1017, 0.01193231990764709), (4652, 0.011928226706470042), (1350, 0.01191560477466037), (4695, 0.011912045988901825), (2755, 0.01190568889999153), (1315, 0.011898476053228269), (4472, 0.011877043040313107), (2571, 0.01187082149018786), (2612, 0.011866428432237192), (3011, 0.011864657701315742), (3555, 0.011855774728304215), (651, 0.01185216920848692), (1718, 0.011847623630046485), (1421, 0.011844874201752776), (2363, 0.011837253409885673), (1597, 0.01183572750826577), (4252, 0.011821507741890953), (1063, 0.011819130242844866), (1781, 0.011811133435947096), (3385, 0.011810868110195553), (2131, 0.011803168398125168), (3599, 0.011801702588164795), (486, 0.011799256924191256), (333, 0.011794599657694641), (1584, 0.01178817565348687), (3582, 0.011784259776212077), (3156, 0.01178182229614592), (4438, 0.011779584925286142), (390, 0.011773531326607675), (1048, 0.01174565411130112), (4155, 0.011738085748616598), (3536, 0.011727881151382652), (2562, 0.011717000793592698), (93, 0.011716240929126343), (2733, 0.011706072199416032), (1216, 0.011704978441424435), (1836, 0.011700534029632417), (2816, 0.011695182488865962), (3648, 0.01169496765362027), (3689, 0.011691200265014405), (144, 0.01166635221587895), (2892, 0.011663127442046232), (767, 0.011655283354730098), (926, 0.011653055647698543), (2751, 0.011641574470386752), (1214, 0.011639760493428521), (214, 0.01163960333416514), (778, 0.01163213552390609), (2950, 0.01162467936629782), (3700, 0.011619177746496939), (3646, 0.011617955694654214), (3819, 0.011601033330517891), (1961, 0.011599106684917159), (141, 0.011574890807027827), (2977, 0.011573189015212565), (4189, 0.01156168486609057), (1077, 0.011547273095674692), (3525, 0.011528009501150176), (4114, 0.011508272043587692), (850, 0.011506840022909734), (4101, 0.011501796122623456), (2161, 0.011493533355856525), (4059, 0.011490185026360646), (3643, 0.011482662172503735), (810, 0.011479415110388708), (887, 0.01145843119655992), (3135, 0.011457217618190737), (83, 0.011453917029089013), (1898, 0.011438167655837352), (410, 0.011430899933433507), (3100, 0.011426535871560088), (565, 0.011425319014673412), (2021, 0.011421836483743768), (2371, 0.011415588984097206), (1241, 0.011411535200037197), (3136, 0.011409013632669227), (209, 0.01140537016443007), (1456, 0.011404445930720007), (2742, 0.011397982737552204), (2109, 0.011393717683206845), (897, 0.011388941062153293), (512, 0.011384774946624914), (2442, 0.011376569393462106), (104, 0.011374336429125009), (319, 0.01137392409450318), (46, 0.011369533942760971), (2317, 0.01136857880023464), (3321, 0.01136840173025798), (978, 0.011364669218615203), (2414, 0.011349499962917871), (316, 0.011337101866343537), (394, 0.011332108249355589), (324, 0.011324521143584485), (3184, 0.011318666195714366), (991, 0.011311878207823865), (4174, 0.01130898422193046), (4094, 0.011308586653977905), (2124, 0.01130845855400898), (4167, 0.011304510387946168), (3033, 0.011296574326916664), (1789, 0.011295734167857292), (1501, 0.01128867154663833), (829, 0.01128698801305061), (1683, 0.01127672611046595), (280, 0.01127342698254779), (379, 0.011265314425141126), (4511, 0.011242069867889962), (3923, 0.011239817267046676), (1791, 0.011233592331627603), (346, 0.011231376129307951), (3539, 0.011227115049158711), (621, 0.011219195411601487), (0, 0.011214905120494927), (1022, 0.011207768457383463), (4477, 0.011190619627971283), (493, 0.011188733588841156), (2125, 0.011187760402772931), (206, 0.011178637087107791), (1986, 0.0111783545210342), (4153, 0.01114732058151336), (1852, 0.011146214429806884), (415, 0.011130686552010997), (3312, 0.011125419173462173), (3450, 0.011124642415765893), (4109, 0.011117412032115786), (2463, 0.011110349733871466), (1551, 0.011109016241824837), (4566, 0.011108902398343553), (4685, 0.011097000261868238), (1807, 0.011086840990273236), (3046, 0.011085928526112069), (527, 0.011083794366649323), (3447, 0.011044813712064583), (2329, 0.011043713220408171), (3066, 0.01104321035419598), (1142, 0.011039938926385622), (800, 0.011034338990322322), (1366, 0.01103432793681006), (3600, 0.011030385187483598), (2012, 0.011015670993401123), (2698, 0.011012531406801545), (577, 0.011004271350275912), (614, 0.01099011995425468), (3162, 0.01098869997863137), (3024, 0.010969157265765379), (3353, 0.010955779109604361), (643, 0.010952890422746015), (38, 0.01094656955940861), (3795, 0.010942389222092033), (323, 0.010942111726217325), (2025, 0.010938443057542435), (1146, 0.010928866366476438), (1267, 0.010926585383949465), (1, 0.010926115280892903), (3240, 0.010922514245041447), (4217, 0.010917002923183167), (3847, 0.010914378385084427), (345, 0.010912367159078692), (961, 0.010903104834714235), (1296, 0.010898492683148712), (4121, 0.010894460390843297), (1137, 0.010886961724989389), (2456, 0.01087653215033587), (2656, 0.010865057209585735), (820, 0.010853386151162076), (1446, 0.010831632278927823), (3504, 0.010826247677955689), (4462, 0.010824603382839172), (76, 0.010819523148592445), (683, 0.010813608859906761), (1186, 0.010788538392390551), (3567, 0.010787406598722168), (356, 0.010781416114661602), (4523, 0.010770697637682382), (3151, 0.010766889917368206), (29, 0.01076367942647407), (3784, 0.01075855475264886), (1176, 0.010756960624158776), (238, 0.010748119482552533), (2073, 0.01074007995260144), (1482, 0.010739674702684393), (2820, 0.010737667562104928), (1797, 0.010724249590853982), (2859, 0.010716032449806321), (2746, 0.010714801186750302), (3221, 0.01071333804616479), (2433, 0.010712179950327886), (1710, 0.010706848493418714), (4473, 0.01070098183090931), (4428, 0.010691254135679933), (1533, 0.010689664491437618), (1738, 0.010688717506061655), (3574, 0.010685675883730752), (2718, 0.010675028184130977), (1998, 0.01066525593554684), (2303, 0.010660228224590885), (2652, 0.0106536486805081), (2812, 0.010652166670951022), (4257, 0.010647730665083534), (4549, 0.010625941311877432), (742, 0.010624773422827605), (3407, 0.01061118298704453), (1723, 0.010610753077765961), (1793, 0.010593891878051206), (2281, 0.010592420554085949), (3399, 0.010559964848185784), (48, 0.010554253646945075), (3909, 0.010545598512608017), (1662, 0.010534571126485662), (1378, 0.010529151674690642), (1681, 0.01051616312600975), (2874, 0.01049042277799192), (123, 0.010479794695363892), (916, 0.010473308846812242), (1196, 0.010469314233445421), (188, 0.010469310364914445), (102, 0.010464816706087458), (2615, 0.010459082567114725), (4407, 0.01044341539087615), (601, 0.010435390915491217), (3219, 0.01043401539117506), (3855, 0.010425485155081208), (1056, 0.01042170495042747), (4342, 0.010415618928461892), (61, 0.010404074773215909), (3405, 0.01039691863827701), (3389, 0.01039543880817764), (880, 0.010386776912195366), (2197, 0.010383074236687112), (1875, 0.010379512582708403), (3093, 0.010370969183952453), (409, 0.01036597962752158), (354, 0.010343692555874414), (2297, 0.010329362797359878), (2118, 0.01031754020768914), (2920, 0.01030180472222522), (64, 0.010290669139059289), (1771, 0.010273982253492327), (1935, 0.01025974546611195), (1288, 0.010244381837429024), (4038, 0.010240397969265003), (522, 0.010229335425150698), (404, 0.010226707593192132), (44, 0.010219137468179424), (3484, 0.010218027589173966), (283, 0.010213690351373527), (10, 0.010207761100440419), (1261, 0.010202983920841962), (1220, 0.010201683852633703), (339, 0.010197852316523174), (1031, 0.010184251504957192), (3297, 0.010178026968650545), (913, 0.010160391949292634), (3724, 0.01015652615177196), (2689, 0.010153909204500584), (3108, 0.010144682054140139), (4074, 0.010132547845874956), (664, 0.010131886754637668), (2544, 0.010115561975516388), (1502, 0.010115202275745416), (654, 0.01009560410906312), (1762, 0.010083414992555152), (3231, 0.010082572068159112), (2439, 0.01007900970423728), (1633, 0.01006934740161255), (2156, 0.010064726818196151), (1993, 0.01006152565877434), (4057, 0.010046687986748647), (3345, 0.010046431177604913), (1190, 0.010018951053837988), (1881, 0.010018694914179824), (2242, 0.010016434081427638), (2320, 0.010003909346431514), (1363, 0.010001101456474972), (928, 0.0099958359913414), (641, 0.00999450977398179), (4629, 0.009992373559263797), (602, 0.009987488630356207), (1326, 0.009985860379083594), (434, 0.009969574998066798), (91, 0.009967790009980004), (2241, 0.009960599807348975), (116, 0.009945901881113195), (3507, 0.009929680676452798), (4379, 0.009924407860804965), (3921, 0.009915958064612132), (4626, 0.009889943894479468), (4267, 0.009881263847104797), (2908, 0.009865296918049106), (1018, 0.009856499847670248), (2857, 0.009855477034933707), (2170, 0.009854896550939152), (3803, 0.009851038026479752), (924, 0.009845424547241754), (1115, 0.0098291249424153), (2851, 0.009823178934154868), (510, 0.009821295760560955), (4376, 0.009820517860899467), (289, 0.009817869910423764), (1564, 0.00981015704367317), (4748, 0.009789140532797183), (2942, 0.009780720473799832), (3748, 0.009779578898350974), (2734, 0.009765578765124888), (2488, 0.00975745546197154), (2788, 0.009751677006349196), (2210, 0.009738904852788038), (770, 0.00973338626556149), (136, 0.009731480873199505), (4068, 0.009731223991093446), (1521, 0.00972424170944225), (86, 0.00972065040996752), (355, 0.009717132452270764), (4158, 0.0097050709051668), (4177, 0.009685958704713804), (2291, 0.00968366623613067), (813, 0.009665026918558728), (2010, 0.009660248586999872), (2326, 0.009647944052877567), (3731, 0.009639226644936105), (1594, 0.00963474662442133), (3414, 0.009632770824496985), (1055, 0.009622388074140295), (1743, 0.009620980261530033), (2756, 0.009611489417351135), (560, 0.009607633131918607), (4134, 0.009606857188030237), (2113, 0.009606617249423875), (1651, 0.009575301395422307), (3164, 0.009571821954087694), (3955, 0.009558869219363074), (970, 0.009549756438743914), (4191, 0.009545515626279644), (175, 0.009544285665496212), (1109, 0.00954206782918108), (4551, 0.009523476811612093), (3946, 0.009520143128948624), (3270, 0.009516382193555311), (3374, 0.00950607073626039), (1442, 0.009483008439550107), (2951, 0.009480352223094644), (3821, 0.009479187375123621), (4241, 0.009473230848015275), (2996, 0.009470144488696838), (982, 0.009466235499064016), (1569, 0.009461819960472405), (3924, 0.009459507568930678), (3677, 0.009445935695674387), (3713, 0.009423829195257492), (2273, 0.00942361004401326), (1314, 0.009422698533976578), (1338, 0.009421055545846515), (627, 0.009419803409716133), (1750, 0.009417814992267433), (672, 0.009409215262338871), (3234, 0.009406124926012676), (2789, 0.00939521948909732), (4237, 0.00938185359785736), (84, 0.009378672187410949), (703, 0.009360749428774516), (3368, 0.009351830228190914), (1997, 0.009349413066375134), (2563, 0.009348094834862734), (1652, 0.009347330762128413), (1653, 0.009340819102654142), (4332, 0.009335968929815131), (1679, 0.009323950041441605), (3948, 0.00931734148822811), (3957, 0.009316468179814222), (542, 0.009298593246011629), (836, 0.009290140508456063), (2252, 0.009271786065091549), (3356, 0.009267084976564399), (480, 0.009247162243547888), (3720, 0.00924365000930607), (2432, 0.009232843850372992), (3506, 0.009208424761032978), (4431, 0.009202896493310844), (679, 0.009201498339609553), (156, 0.00918205432117412), (1943, 0.00917242066998521), (2187, 0.009163282760386601), (3117, 0.009152909194038418), (74, 0.009152098407976053), (4481, 0.009151900389191676), (2952, 0.009137457207644877), (4418, 0.009136492391544354), (930, 0.009133818379004694), (4265, 0.009107143977036382), (3465, 0.009098198176636638), (1274, 0.009096704051016449), (3410, 0.009095603271725693), (1370, 0.009086441692043158), (2982, 0.009086206124863324), (4187, 0.00905926562008218), (878, 0.00904717220548833), (1054, 0.009044803978368803), (4012, 0.009040220250289718), (2400, 0.009030447106742587), (1689, 0.009028488320556126), (4624, 0.009023697485020746), (3439, 0.009023037578824796), (1144, 0.009011491112615816), (2899, 0.009004331945897875), (4333, 0.008984107695464478), (974, 0.008966850755553084), (2154, 0.008966662943176), (2921, 0.00893381847070692), (168, 0.008883333319675876), (2306, 0.008856742075304829), (685, 0.008839906076750018), (2017, 0.008782186462982604), (3306, 0.008781542675058481), (2375, 0.008771319441739932), (2410, 0.00875880342917192), (1105, 0.008733119226081582), (2430, 0.008730788617949625), (3497, 0.008723475216057763), (896, 0.008722052519126878), (3813, 0.008711483230829075), (421, 0.008707780858641628), (3316, 0.00869459656028247), (148, 0.00869229532104738), (4171, 0.008683554886291172), (4207, 0.00866487556465092), (4647, 0.008661604720869402), (2492, 0.00865920351715447), (3480, 0.008640716240130936), (2793, 0.008630765547196067), (3086, 0.00862496793260114), (3336, 0.008621550392832985), (1000, 0.008615430553698364), (914, 0.008613389614456705), (4143, 0.008610193174839333), (2018, 0.00859549024494526), (2661, 0.008570957129676057), (1517, 0.008567512117339766), (460, 0.0085653462416166), (485, 0.008556172644316698), (3774, 0.008549526154721973), (4574, 0.008548752865292449), (4173, 0.008542375621354603), (227, 0.008532731090186775), (2391, 0.008527452953828903), (1119, 0.008524362106988115), (2393, 0.008520452551314875), (1655, 0.008515308546232505), (4450, 0.008491047618860416), (3073, 0.008490328361969437), (1666, 0.00848608302390508), (973, 0.008478112390204667), (612, 0.008476935698577383), (2498, 0.00847639865496279), (530, 0.00847091228029934), (205, 0.00845431364928301), (2196, 0.00844316398153468), (4286, 0.008441363849258629), (1918, 0.008433447018373197), (1902, 0.008392123581548503), (2553, 0.00838942668311055), (3189, 0.00838837397191181), (4757, 0.008384478242526675), (3242, 0.008382472796635388), (3637, 0.008376714301532976), (1233, 0.00836549796032544), (4639, 0.008354468123953523), (2422, 0.008353224106916215), (270, 0.008350087772238144), (1790, 0.008345015627280987), (4192, 0.008333055193564094), (797, 0.008332550765650093), (949, 0.008326589905571793), (3890, 0.008325323056129187), (4554, 0.008321257200608235), (4570, 0.008315852590720802), (4089, 0.008313230001304963), (2405, 0.00830396586396884), (1060, 0.008302699770470651), (3696, 0.008298794551875772), (3010, 0.008298136154971334), (447, 0.008290462092181412), (987, 0.008281227910303255), (2167, 0.008269099291281199), (637, 0.008267891839358252), (1828, 0.008265069345801904), (2769, 0.008262656831232128), (4341, 0.00825201743724568), (806, 0.00823940668789712), (461, 0.008238105110748316), (2367, 0.008237270751121736), (3524, 0.008236247417805487), (1825, 0.00823163005115704), (3115, 0.008213411489983063), (798, 0.008212085685776742), (3122, 0.0082092393391405), (743, 0.008204398919909168), (3776, 0.008203547861146365), (1002, 0.008199135678728242), (865, 0.008198068494131306), (2417, 0.00819632157026778), (3094, 0.00819093639489518), (780, 0.008187337884291556), (3289, 0.008182325510453715), (221, 0.008181827760165315), (2765, 0.008179722656475118), (42, 0.00816665890930567), (3209, 0.008165517474241078), (1630, 0.008165178833426183), (1435, 0.008162671817622117), (1487, 0.00815885863442022), (3377, 0.008140406000262392), (4197, 0.008139355793610706), (2397, 0.008120082375916585), (3823, 0.008090975064619466), (1476, 0.008088972753657364), (1496, 0.00808638517046562), (1451, 0.008083115893703618), (2215, 0.008077233738822694), (1930, 0.008071127615243666), (2403, 0.008068244952396665), (2396, 0.00805667060865856), (1535, 0.008054520018903935), (696, 0.008036448434363835), (372, 0.008017982048442132), (3423, 0.008009921791069713), (5, 0.008007861686693422), (2071, 0.008005619392392572), (3185, 0.008005575678745814), (665, 0.008001928045392057), (4427, 0.007975144870097444), (1291, 0.007971120713445462), (2051, 0.00795347511211292), (442, 0.007942369712685459), (4526, 0.007934565178020958), (3711, 0.007928548668987187), (2936, 0.007924403346483746), (88, 0.00790040709939596), (466, 0.007893452828295478), (4297, 0.007885704837953138), (535, 0.007877955311205751), (3703, 0.007874967306879631), (1757, 0.007865182155076367), (1999, 0.007858169899917396), (1026, 0.007834597683868606), (2036, 0.0078335096568386), (3008, 0.007825959446768607), (1084, 0.007823382876123885), (1039, 0.007823271119617167), (1589, 0.007820933060524483), (4160, 0.007799653468346242), (3157, 0.007791713246151086), (4535, 0.007786303394526354), (2279, 0.007779285231158176), (4605, 0.007775817997254492), (2505, 0.007774324603234226), (4337, 0.00777277181831792), (4401, 0.007772383255413094), (1284, 0.007772139124396297), (4290, 0.007766774664898782), (2401, 0.007759484150023531), (1658, 0.007750284228755343), (3370, 0.007749920634394999), (3797, 0.007746505296172957), (3027, 0.007743604939217488), (2657, 0.007728229913706987), (3348, 0.007726694791321228), (1817, 0.00772263649450645), (1509, 0.007721618793867119), (556, 0.00771785360286611), (2049, 0.007717454645960029), (3633, 0.007707002986993861), (2806, 0.007704270413580822), (2244, 0.007699024226318635), (3735, 0.007697981039026505), (686, 0.007688493600737869), (1561, 0.007674233376870854), (3201, 0.007670337992859017), (2101, 0.007660534784372675), (2724, 0.0076466894299223875), (1034, 0.007646024805086485), (1844, 0.007637562147612312), (52, 0.007633960891867831), (1416, 0.007629716706743342), (3315, 0.00762707194492518), (4321, 0.007601219012080374), (2659, 0.00759977890436819), (1608, 0.0075957936364444804), (1897, 0.007590040988313835), (2965, 0.007584318191655163), (668, 0.00757804972198442), (360, 0.007575906479636067), (2271, 0.007555963924134217), (2116, 0.007555310634750826), (4705, 0.007543300818111757), (578, 0.007535359966484894), (3914, 0.007532651781459557), (939, 0.007530714345429966), (1036, 0.0075301966988808745), (1359, 0.0075221882844829415), (3095, 0.007515505646003007), (1783, 0.007512361918271291), (4371, 0.0075068026439655865), (3300, 0.007503041805369469), (2768, 0.007499780088476395), (862, 0.007496802934453252), (4159, 0.007482660273687356), (1712, 0.007482620998550335), (413, 0.0074751077176610425), (2451, 0.007471490058614201), (702, 0.007469875076581269), (1228, 0.007465151075704409), (2096, 0.007461418241184391), (1086, 0.007457246579503333), (655, 0.00745578403378729), (3973, 0.007453188948606489), (3211, 0.0074506726955486146), (2699, 0.00744865750255591), (996, 0.007444922623445065), (2120, 0.007439851077917103), (1407, 0.007439254449832964), (659, 0.007437127469836068), (1180, 0.007436818354303496), (1457, 0.007435402112111394), (1673, 0.007432868778922607), (3147, 0.007432776999228677), (2565, 0.007425975297970935), (4356, 0.007425289010587453), (1353, 0.007423616082013452), (1480, 0.007421064390721794), (3483, 0.007411839332059973), (1685, 0.007406432994636595), (3238, 0.00740561151263965), (4052, 0.0073984861877612156), (4202, 0.007377343563916129), (1075, 0.007374331494912114), (2337, 0.007365128390639124), (638, 0.007358642816691507), (1543, 0.007355872964290277), (2989, 0.00735163635382128), (1013, 0.0073505751957560995), (2445, 0.007348531821798342), (1979, 0.007346369801470216), (1691, 0.007342583308957791), (173, 0.007336683044354368), (3876, 0.00732888623962704), (1389, 0.007325503725141249), (801, 0.007313610114824903), (4277, 0.007313083901029674), (482, 0.007306716338599434), (2601, 0.007300604004562906), (2545, 0.007293235028806195), (2135, 0.0072808735481636935), (4354, 0.0072773374690310285), (2249, 0.007275072395922997), (2728, 0.0072673476195329), (4008, 0.007264995670667628), (2605, 0.007261934225350646), (3871, 0.0072607927747098955), (1124, 0.007257549365964802), (2744, 0.007255072679885679), (4466, 0.007243832901067696), (2402, 0.007230583605041909), (671, 0.007228408478299624), (27, 0.007226327941705064), (1629, 0.007226046748139437), (1827, 0.007219881534811788), (1165, 0.007205995604053147), (2323, 0.007205046194502239), (1860, 0.007199217523988695), (3318, 0.0071958081094057914), (3287, 0.007191630147262977), (2667, 0.007189282873756715), (1061, 0.007187833459201626), (3974, 0.007186163853199814), (2457, 0.007182033982264302), (4437, 0.007181811164098231), (1739, 0.007178903230946091), (4366, 0.007178891938310668), (2922, 0.007178775598853238), (4709, 0.007171404401995401), (2332, 0.007168841177123207), (2048, 0.007160108197390026), (1761, 0.007153736775098424), (3167, 0.00715018613840319), (871, 0.00714776921509561), (4666, 0.007142800998440758), (406, 0.007142177634812566), (2580, 0.00713008084690644), (2172, 0.0071240648463887744), (2155, 0.007122678377772489), (1942, 0.0071220751276632336), (1318, 0.007120551282012765), (4533, 0.007119691211077519), (4663, 0.00711838600411798), (947, 0.007116946552714976), (1978, 0.007116090065392597), (4168, 0.007114765226010034), (2990, 0.0071024085780730765), (3082, 0.007101092227354708), (2264, 0.007093163278774323), (1085, 0.007091932912756107), (219, 0.007078021389192338), (4288, 0.007077604851850682), (1954, 0.007072535964353175), (2509, 0.007071672993352105), (2551, 0.007068375965459004), (1889, 0.007062655686183081), (2144, 0.007061143388732348), (758, 0.007054609581573071), (4221, 0.0070539972200205055), (1464, 0.007049003319907513), (2887, 0.007048844653445297), (3317, 0.007048240150160979), (2502, 0.0070443019992325225), (2617, 0.007039240856726661), (3830, 0.00703409567698918), (4501, 0.00702832069870252), (4541, 0.007027794789077652), (1505, 0.007020570566206321), (4247, 0.0070174193414083725), (2831, 0.007008349960772468), (3482, 0.00699918354500344), (4738, 0.0069971303909406694), (1644, 0.006992393729841757), (1388, 0.006986883235865322), (1345, 0.006984788905273068), (109, 0.006979097684163113), (1021, 0.006972889273767894), (4468, 0.0069710682550031345), (1612, 0.006970844489201921), (4364, 0.006963199314118229), (2804, 0.006958719993137085), (2460, 0.006958042362876029), (4195, 0.006952364948243679), (22, 0.006950746418571906), (789, 0.006944603403976609), (834, 0.0069433127163036415), (241, 0.006939502527350891), (2174, 0.006938814692647114), (3553, 0.0069379437032604544), (4016, 0.00693743964462853), (4457, 0.006930950799004985), (892, 0.006916792866945553), (3067, 0.006915544584764182), (174, 0.00691455109355926), (282, 0.0068963984728020655), (642, 0.00689638179468792), (1849, 0.006891467759633857), (1198, 0.006886098399110933), (2569, 0.006873944456846096), (2948, 0.006870696379824546), (1126, 0.0068693427546687984), (2521, 0.006868859001507696), (1598, 0.006867163481955754), (2980, 0.006865518156533388), (1128, 0.006859359589516737), (1773, 0.006858625556572581), (1272, 0.006854320036360312), (1094, 0.006850751444658819), (3288, 0.006849278157105395), (2087, 0.006846793191315225), (446, 0.006828853317290096), (2766, 0.00682816069611435), (2759, 0.006821206834815542), (1523, 0.006821035711536344), (3715, 0.006808065486636715), (2008, 0.006807759223942739), (4367, 0.006783745142102454), (1607, 0.006774560443169898), (817, 0.006774319000446316), (1639, 0.006759057302702677), (3365, 0.006754910365113383), (1300, 0.006751149151976692), (4588, 0.00673722951147445), (85, 0.006734378368290678), (1864, 0.006733029879596989), (1020, 0.00671601734043625), (2157, 0.006713531163267033), (1287, 0.006702373979267449), (786, 0.006687119115856343), (2309, 0.006687074882633881), (3309, 0.006684612053303364), (4606, 0.006679392482145597), (2132, 0.006670178566178288), (3733, 0.006667133376056394), (1231, 0.0066661690427420135), (2121, 0.006664400522129829), (2795, 0.006662891214075034), (1912, 0.006660312793305361), (2600, 0.006656350518680633), (1810, 0.006650873858072514), (1490, 0.006646729286551967), (1019, 0.006642835894334471), (3105, 0.006642816890687619), (2050, 0.006633293036251407), (2572, 0.006631199685923221), (812, 0.006619042924770575), (835, 0.0066187825153109624), (1647, 0.006617247110485882), (197, 0.0066097611406273704), (3864, 0.006606133982570291), (2202, 0.006594873909537478), (307, 0.006566252135923245), (734, 0.006555992320501469), (2331, 0.0065508485320143256), (900, 0.00654518057662437), (4603, 0.00652988199181114), (3254, 0.006528161740047444), (645, 0.006520952339895875), (903, 0.006520887225695454), (228, 0.006517290283832611), (650, 0.006513333276677186), (366, 0.0065110858849008555), (3829, 0.006507202534424449), (670, 0.0065020613693268815), (2119, 0.006493936502954952), (3588, 0.006482313803077233), (766, 0.006477207818372924), (248, 0.006476064490281122), (1519, 0.006473395212242673), (1920, 0.006472578216454437), (2450, 0.00646694814184618), (4443, 0.00646320669915782), (3839, 0.006456860318893132), (1344, 0.0064561156898437005), (3656, 0.006451456124647728), (2183, 0.006450964554308041), (4723, 0.0064507834052605255), (4653, 0.006450603277035049), (2077, 0.006434388172607205), (745, 0.006431917689947453), (3767, 0.006430498019976776), (1648, 0.0064263711714554715), (43, 0.006425411572897764), (1646, 0.0064240765152569785), (2459, 0.0064217439152611105), (183, 0.006420087974848955), (4631, 0.006406956297681506), (2415, 0.006402046494054966), (3329, 0.006399723580819109), (958, 0.006398408447805055), (3554, 0.0063867134776361), (457, 0.006384830702709816), (199, 0.006382987414834994), (1730, 0.006382097116691768), (2778, 0.006379594908391773), (2011, 0.006365394341561413), (1242, 0.006363954305384141), (1538, 0.006354109588946284), (449, 0.006331157357322845), (4405, 0.006322368529573853), (1941, 0.006314724138509024), (1690, 0.006307033784709689), (1316, 0.006299035777054237), (2607, 0.0062746930885170474), (1715, 0.00626959640910178), (4598, 0.006263764260322825), (2741, 0.006263636844799686), (2772, 0.006249811732740393), (1016, 0.006248700657464413), (4642, 0.006226340039472657), (2378, 0.006209046060010665), (705, 0.006197376611006048), (4285, 0.006191479392043099), (979, 0.0061900813315670855), (3275, 0.006166562982611519), (1540, 0.006163258512742571), (3440, 0.006130052641339452), (4635, 0.006120008707069177), (4597, 0.006112976676905882), (4276, 0.006111118184188462), (1591, 0.0061103818723854866), (1815, 0.0061074266372816415), (3947, 0.006096964211376331), (4385, 0.006092913063828406), (3708, 0.006091681667499435), (2692, 0.00607882290416431), (3509, 0.006073470302342449), (4747, 0.006071981856823759), (3165, 0.006059880439078357), (147, 0.006056399762839438), (2676, 0.006049921686855811), (1863, 0.006045764903940423), (4244, 0.006044280538359462), (2818, 0.006025295614998855), (73, 0.006022693563787346), (1397, 0.0060158160228760945), (4741, 0.006012133853989506), (2476, 0.005999197287438714), (2181, 0.005988640186866213), (364, 0.005984792565068548), (2881, 0.005975402368654062), (3383, 0.005974062370696438), (2576, 0.005968731386778622), (3680, 0.005966116422143978), (4393, 0.005951776940592958), (1560, 0.005945399765676634), (3168, 0.0059409435515665465), (3373, 0.005938238880310339), (533, 0.005934164693256763), (682, 0.005933759127326823), (2006, 0.005932716216602369), (2182, 0.005927048191099373), (1050, 0.0059264934970770814), (139, 0.005919543117302872), (3634, 0.005918723238257965), (2903, 0.005916666306579612), (4630, 0.00591665667373423), (4185, 0.0059164606161306475), (2810, 0.005913032694221673), (1976, 0.005893828220592693), (4453, 0.00589085792628358), (3593, 0.005889594446119396), (4293, 0.005887363554753532), (458, 0.005886982258245198), (729, 0.005883325824156483), (2383, 0.005866342215506742), (128, 0.00585302771939401), (4144, 0.005849224903344354), (616, 0.005833663813518248), (3192, 0.005828554263013453), (3097, 0.005817709966936009), (3453, 0.005803102618161061), (595, 0.005802490579786455), (1454, 0.005794989070708717), (3604, 0.005794911092324147), (142, 0.0057917677369857794), (2626, 0.005790419294085152), (4046, 0.0057839137127189515), (2811, 0.0057777007619647155), (3802, 0.0057771092366715555), (3940, 0.00577155060544965), (2534, 0.005758136733481391), (673, 0.005757487808460266), (4116, 0.005752029852709318), (3044, 0.0057510688005467875), (3263, 0.005747735226565602), (350, 0.005743763627354232), (1883, 0.005735323475126623), (513, 0.0057353155410470305), (1265, 0.0057342136650618426), (303, 0.005725182610715049), (2673, 0.005723724687704898), (2082, 0.005723689553224013), (514, 0.005721587860348887), (3771, 0.005714558696510807), (728, 0.005690503596925024), (4656, 0.005689240541990818), (2880, 0.005686369621934339), (210, 0.005686194316861785), (3468, 0.005686181950467366), (3692, 0.005680690754295833), (3112, 0.005673331430637053), (4727, 0.0056678042608111585), (1057, 0.005661172903981655), (2243, 0.005659153596404983), (3451, 0.005654996243677627), (3059, 0.005652156444490081), (2028, 0.005650423493921437), (2670, 0.005647295962182297), (4131, 0.0056459841005550085), (992, 0.005644367534328919), (3850, 0.005638367608292593), (1659, 0.005623594895064597), (3710, 0.005608987941499453), (2044, 0.0056041872871659985), (2361, 0.005596246301950943), (68, 0.005595460430952323), (2364, 0.005593236993986437), (3145, 0.005589946884083609), (4233, 0.005588107669438461), (1853, 0.005584566287659306), (4519, 0.0055810101421278025), (1484, 0.005580942170267378), (1822, 0.0055694493592831), (824, 0.005559870186327566), (2959, 0.005554163273844766), (4410, 0.005552345321193107), (143, 0.005534618285497248), (2754, 0.005531348157842487), (1734, 0.005528254167882998), (3513, 0.005527794508838292), (2088, 0.00552769148383863), (4430, 0.005523921712016448), (3421, 0.005523673948573184), (2217, 0.005523324578662236), (1736, 0.00552322163178069), (2083, 0.0055214039520486095), (4100, 0.005511280657633588), (3862, 0.005510221059542295), (3514, 0.005507956747748395), (3591, 0.005506495444612184), (3241, 0.005504223569093849), (516, 0.005499498971100913), (2085, 0.005496926639377804), (1513, 0.005496015432648666), (1432, 0.0054957424187208215), (1024, 0.005495115184461759), (4586, 0.005493834529634122), (1536, 0.005486391378782313), (1727, 0.005485588398748667), (1208, 0.005485519857364048), (4390, 0.005482565919135567), (1949, 0.005469729047068629), (4716, 0.005468122712289639), (2238, 0.005463879494193258), (2780, 0.005462871202384816), (1469, 0.005461930433928328), (1847, 0.005447286283124649), (4249, 0.005443723183882922), (4745, 0.005442740431353754), (3623, 0.005442630158503662), (1735, 0.00544095268895242), (1516, 0.005433544077863025), (869, 0.005409445308202267), (3169, 0.0054087382719146), (2947, 0.005407622936695104), (4088, 0.0054068261992037), (3225, 0.005406559493116657), (3750, 0.005399112322098095), (4093, 0.005396940131678771), (1174, 0.005393648813881522), (1337, 0.005384181858050964), (3603, 0.005376684607005948), (3707, 0.005369760917165653), (994, 0.005361681432225856), (4612, 0.005356421081308444), (740, 0.005356063894947976), (3616, 0.005350546344606279), (2091, 0.005349426251931957), (3908, 0.005345413293735076), (4242, 0.005345325401207781), (1599, 0.0053418293214339664), (3332, 0.0053391729970827684), (2834, 0.005338028008230711), (1138, 0.005337034561983624), (3002, 0.005331792042369914), (3676, 0.005331673195306668), (3210, 0.005321833984532224), (2815, 0.005307125758404712), (4660, 0.005305719776205923), (4435, 0.005301162128164881), (494, 0.005300211053474344), (2730, 0.005286557573514039), (1419, 0.00528227873445479), (986, 0.005271964643722669), (1455, 0.005269580918439804), (2943, 0.005257029986668045), (4148, 0.00525534709171669), (619, 0.005251539597395943), (4248, 0.005244748192322329), (3432, 0.005237343649880494), (1102, 0.005236316754637032), (1483, 0.005235069666394195), (3441, 0.005232658149089914), (3340, 0.005229965319577719), (534, 0.005210903799246022), (3502, 0.005207898808758028), (233, 0.005207219720878074), (3443, 0.005203948367217046), (4264, 0.005199205467433902), (1127, 0.005192875668987642), (1292, 0.005188271967997347), (3602, 0.005187675290815182), (1937, 0.005182385295702152), (1082, 0.005181680438802488), (1168, 0.005166774354719796), (244, 0.00516133611456643), (1406, 0.005156429018588507), (2064, 0.0051561515199824055), (2232, 0.00515447488299535), (3706, 0.0051489945762271585), (4039, 0.005143092264925343), (217, 0.005142431899957847), (2351, 0.0051357517203233834), (4534, 0.0051313886907311135), (554, 0.005117909068015389), (3531, 0.005117331484194749), (825, 0.005117008477176895), (1343, 0.005114863985088343), (4573, 0.005114631138871274), (4673, 0.005110044766826224), (3660, 0.005087822349644612), (2918, 0.005083007945382245), (4543, 0.0050818477451590885), (2738, 0.0050776070823622555), (4594, 0.005067977771370716), (1544, 0.005064654682073708), (1230, 0.005064088643423318), (1545, 0.0050593349065192715), (1285, 0.005051176529055888), (4449, 0.00504851881517368), (3595, 0.005047896320400492), (3605, 0.005043717974738363), (3978, 0.005032350830668635), (2540, 0.0050284284120782384), (2787, 0.005016850933829678), (4345, 0.005004512812946067), (4037, 0.004998047186217693), (4002, 0.004996857430313747), (3734, 0.004976178843464659), (4281, 0.004972893837689058), (2166, 0.004968837836035935), (3230, 0.004967385756887638), (3364, 0.00496704895458106), (3466, 0.00496686048000844), (448, 0.0049663461536273105), (3866, 0.004959655591008032), (2184, 0.004956088653290652), (1749, 0.0049484276368455225), (225, 0.004948379702619889), (4690, 0.004947835738594004), (508, 0.004947338840268099), (2885, 0.004946093073051239), (380, 0.004942929882420448), (1665, 0.00493995752017567), (2560, 0.004938244106228115), (2634, 0.00492979814341716), (2785, 0.004926323687227703), (3651, 0.004922086684512687), (2958, 0.00491524316922962), (2486, 0.0049125138826013656), (4591, 0.004906959003928612), (3143, 0.004900050561489303), (532, 0.004899195778932635), (868, 0.004898553300335217), (1183, 0.004897171956961087), (4325, 0.004893660213823794), (2429, 0.004890703900610313), (3960, 0.004877893845592233), (1887, 0.0048759506615442365), (2399, 0.00487015256101048), (1928, 0.004864335330327283), (3528, 0.004860116079381011), (2518, 0.004857299156902847), (1349, 0.0048480124392081825), (4368, 0.004842441039341686), (160, 0.004835949002680473), (1716, 0.004825412903009446), (1065, 0.004822232752642429), (250, 0.004814655279994904), (4108, 0.004814497591931016), (1796, 0.004813852841370845), (3130, 0.00481319090159879), (701, 0.004802973021172863), (3953, 0.004800408670912963), (747, 0.004797049433507892), (4120, 0.004796047638801257), (1680, 0.004791637232069604), (4044, 0.004787123665932422), (4447, 0.004786644196485773), (3860, 0.004783594039751296), (2424, 0.004782173835331919), (3857, 0.004778958032612851), (3681, 0.00477645811383069), (4064, 0.004773121574076148), (632, 0.004768384005003822), (804, 0.004745343140297539), (997, 0.004745048670925713), (371, 0.004734617053771803), (2739, 0.004721803832868806), (3831, 0.004718282244809929), (1733, 0.0047177056925432285), (3556, 0.004717427926872883), (3070, 0.00471291710233788), (3730, 0.004703496693336094), (1154, 0.004702649474354382), (1977, 0.004697488300114746), (4732, 0.004692954256821394), (675, 0.00469221964194992), (2458, 0.004688930186208474), (4013, 0.0046844569344147964), (4608, 0.004681937884115428), (4661, 0.004676717843837749), (1290, 0.004674161191441005), (192, 0.004653638921697461), (704, 0.004652386527889638), (3271, 0.004649033968613123), (92, 0.00464307824845497), (1952, 0.004633241845055422), (1907, 0.004631396648239923), (1390, 0.004629089134945873), (420, 0.004626675107914342), (1520, 0.004618836951664067), (4432, 0.004617934969118948), (2263, 0.0046179050856942445), (4553, 0.004613323843741015), (1282, 0.004599898068012455), (1348, 0.004595645300107696), (12, 0.004594743340940757), (2971, 0.004590691825104789), (4429, 0.004580928234293169), (3678, 0.004577360352540149), (792, 0.004576871802979965), (680, 0.004575818803049008), (392, 0.004570464715646521), (2719, 0.004566121438019421), (1896, 0.0045645119932674364), (3897, 0.004561894997099511), (3618, 0.004560776318631136), (2792, 0.004558449467149481), (4406, 0.004551114788377241), (765, 0.0045473292226051055), (3777, 0.004546062669559006), (3103, 0.004546000941364596), (3339, 0.004540424260865693), (1893, 0.004538147452146806), (1859, 0.004536974619054689), (3277, 0.0045304863967692115), (2809, 0.0045289259533202965), (1104, 0.004528764091217173), (344, 0.004525316358767848), (3654, 0.004525113660960709), (3969, 0.004520108241765036), (1336, 0.004517802627826946), (1643, 0.004517190273695518), (4363, 0.004506422950578634), (3150, 0.004501757040022718), (4621, 0.00449615727877691), (1660, 0.004495568136196911), (4448, 0.0044934336534634), (3378, 0.004489815940172701), (890, 0.004487405832644757), (717, 0.004486969198140243), (1047, 0.004482890025803007), (1851, 0.004479446413713418), (2546, 0.004479151150304975), (2911, 0.004477999091806561), (4095, 0.004477508261228161), (1702, 0.004472027180402609), (588, 0.004471022307898776), (3778, 0.004469272249194108), (216, 0.004460736806767871), (2072, 0.004458470969944412), (3920, 0.004456722695412686), (3959, 0.004456433832935679), (3930, 0.0044544661373164115), (3549, 0.004449816102571716), (2222, 0.004444255478819716), (2053, 0.004442165217801627), (2126, 0.004437291008956167), (2431, 0.004428318965853518), (3233, 0.004426414091189452), (3722, 0.004423858455834325), (3446, 0.004418813215875929), (3701, 0.004411040690755069), (3526, 0.004403313738950167), (4733, 0.00440222115794706), (2784, 0.004397825141581141), (1704, 0.004385983531509885), (3283, 0.004382590488105466), (1322, 0.004379997036574257), (832, 0.004374886715132976), (2278, 0.004365058230819214), (4135, 0.004363701660043854), (3650, 0.004359732701370796), (3551, 0.004342615936016872), (1574, 0.004341967790366128), (993, 0.004334317149264174), (529, 0.004329266239168868), (4686, 0.004328904312887737), (4755, 0.0043287762715787746), (504, 0.004328675411401568), (2913, 0.004327496266310217), (4604, 0.004325913556354303), (2573, 0.0043247823606212205), (3125, 0.004323925280601006), (3491, 0.004319564469996737), (2697, 0.004319241551348834), (1170, 0.004307506930789316), (1297, 0.004306275987520889), (4330, 0.004305072147542931), (3612, 0.004304317836244984), (272, 0.004301386453871301), (4006, 0.004300138206194368), (931, 0.004299702175837257), (2046, 0.0042973089859358864), (2246, 0.004294587780416827), (3665, 0.0042924331860671894), (2195, 0.00429132762115419), (1164, 0.0042900400281686854), (4592, 0.004289348935034694), (2900, 0.004288990198151061), (525, 0.004279636754386481), (435, 0.004278154791547112), (988, 0.004273661772884809), (4394, 0.004269597345996728), (3818, 0.004266944204067128), (348, 0.0042592819869340616), (1059, 0.004259107623383949), (1447, 0.00424390814163458), (2416, 0.004240610023124558), (3746, 0.004235573748429246), (2128, 0.004231073660999052), (3644, 0.00422737091364608), (1888, 0.004226649227765742), (1576, 0.004225931804754584), (4284, 0.004221722784849911), (3557, 0.0042193150797092075), (4157, 0.0042163970858679215), (3835, 0.00421608605402312), (4687, 0.0042071406063086845), (2029, 0.004200675830619375), (1617, 0.004200532918250186), (4387, 0.004195425228866751), (1422, 0.004189314937413694), (4395, 0.004185831403372435), (3994, 0.004181295464272653), (4442, 0.004173415785819656), (790, 0.004170288671093452), (3127, 0.004167752384450449), (773, 0.004162311275871361), (3028, 0.004157876719695215), (2003, 0.004156794503137019), (1347, 0.004155949239704271), (2268, 0.004155432449833095), (4504, 0.004152725495810066), (1969, 0.004152298900374448), (3562, 0.0041444056479367835), (112, 0.004142330410225357), (585, 0.004139121431491194), (138, 0.004131313497189799), (3053, 0.004129025408050525), (18, 0.00412578084260842), (1632, 0.004125346492917156), (2829, 0.004122304055002396), (2767, 0.004116184523870932), (883, 0.004110131353387305), (2897, 0.004109779230421623), (1877, 0.00410579065847362), (2409, 0.004097960975220597), (1375, 0.0040894549482431), (1132, 0.00408910889519314), (2631, 0.004086037842447445), (3712, 0.004075692988856994), (1728, 0.004075630936622694), (3891, 0.004074597593068368), (3293, 0.004072459667225312), (4124, 0.004071285768586739), (1742, 0.004068308133795156), (408, 0.004067976632519156), (1404, 0.004067171123705327), (388, 0.0040618066529261275), (387, 0.004057927480423565), (1756, 0.004057445368522256), (2023, 0.004051805066295891), (2525, 0.004051584818105679), (2311, 0.004047451840917101), (1914, 0.004043752064347205), (507, 0.004040089258390181), (3057, 0.004036348192075973), (4548, 0.004033343988947858), (279, 0.004027984667058649), (1620, 0.004023244817574483), (2552, 0.004022725550849617), (4634, 0.004014868721220087), (1778, 0.004007664216016032), (3280, 0.004005852557731115), (1430, 0.00400079898013247), (3083, 0.00399976651270664), (2446, 0.003996303301200095), (454, 0.003993273362678802), (549, 0.003992036885559777), (1052, 0.003983320867863237), (96, 0.003982229805956692), (1642, 0.003982183399205265), (744, 0.003979050138570988), (3854, 0.003978885587409931), (805, 0.003978793396110273), (335, 0.00397774672553961), (3645, 0.003976744812993938), (2491, 0.003966997035724388), (2482, 0.003965997981050527), (590, 0.003965616894813741), (4348, 0.003956835740543659), (907, 0.00395678580035358), (4176, 0.003956365357524627), (2666, 0.003955320508468107), (1984, 0.003954624402901298), (416, 0.003942853544278957), (14, 0.003937190297424203), (1794, 0.003937082207512924), (1782, 0.003935272521162803), (1276, 0.0039352561276196395), (4339, 0.00393034275828705), (2954, 0.0039287054249740406), (776, 0.003927087822337867), (1568, 0.003926442545296921), (4689, 0.003926112271895077), (291, 0.003921920795097142), (1360, 0.003915947170492757), (4261, 0.003914367320137327), (337, 0.003905187556525319), (1595, 0.0038937903410263524), (1719, 0.0038831397548893605), (2262, 0.0038763203352995246), (3986, 0.0038713648193610295), (722, 0.0038661266247531764), (2514, 0.0038655996315451408), (885, 0.003859296235798985), (1808, 0.0038587741176474392), (3841, 0.0038585683444328704), (3111, 0.00385097276255325), (1025, 0.0038342477482504606), (1394, 0.00381207560226968), (33, 0.003802465286938965), (166, 0.0037999273196798345), (184, 0.0037888628777996147), (2906, 0.003788027282264118), (97, 0.0037758887152316146), (3411, 0.0037749479655325023), (3894, 0.003773537006891497), (2608, 0.0037685556462156745), (2805, 0.003762494209201943), (1559, 0.0037237901296835385), (2761, 0.0037026260814917978), (3393, 0.0037005317202135884), (1153, 0.003699204395424773), (2, 0.003691894977938995), (2801, 0.00369094078000501), (3376, 0.0036741725864884544), (1120, 0.0036683153237410267), (3200, 0.0036558445762702395), (1178, 0.0036551041398170388), (2855, 0.0036487622673429393), (2204, 0.0036474031881806677), (1910, 0.003634897955991144), (3674, 0.003631996683605449), (2076, 0.003628870438869423), (3481, 0.00362119238527725), (2627, 0.003620935333821902), (3928, 0.0035940790268725875), (3429, 0.003587159859764001), (3430, 0.003581407544141478), (2526, 0.0035204123073065917), (3944, 0.003468343939648435), (1395, 0.003463410144370592), (3538, 0.0034308083847744016), (2377, 0.0034155394780502196), (369, 0.003292942313871097), (562, 0.003264222508046245), (4414, 0.0032608987295734727), (2398, 0.0032485079087968575), (1277, 0.003217560397149436), (293, 0.0030593162173033544), (8, 0.0), (16, 0.0), (20, 0.0), (21, 0.0), (23, 0.0), (24, 0.0), (26, 0.0), (30, 0.0), (31, 0.0), (34, 0.0), (47, 0.0), (50, 0.0), (51, 0.0), (77, 0.0), (81, 0.0), (87, 0.0), (89, 0.0), (98, 0.0), (99, 0.0), (103, 0.0), (114, 0.0), (120, 0.0), (126, 0.0), (127, 0.0), (132, 0.0), (133, 0.0), (134, 0.0), (140, 0.0), (145, 0.0), (146, 0.0), (149, 0.0), (154, 0.0), (157, 0.0), (158, 0.0), (163, 0.0), (167, 0.0), (172, 0.0), (176, 0.0), (178, 0.0), (190, 0.0), (194, 0.0), (198, 0.0), (203, 0.0), (207, 0.0), (224, 0.0), (226, 0.0), (229, 0.0), (235, 0.0), (236, 0.0), (246, 0.0), (254, 0.0), (255, 0.0), (256, 0.0), (262, 0.0), (265, 0.0), (267, 0.0), (268, 0.0), (274, 0.0), (275, 0.0), (276, 0.0), (278, 0.0), (281, 0.0), (285, 0.0), (304, 0.0), (308, 0.0), (311, 0.0), (312, 0.0), (318, 0.0), (326, 0.0), (331, 0.0), (349, 0.0), (351, 0.0), (359, 0.0), (370, 0.0), (373, 0.0), (377, 0.0), (378, 0.0), (383, 0.0), (389, 0.0), (391, 0.0), (393, 0.0), (396, 0.0), (398, 0.0), (399, 0.0), (400, 0.0), (422, 0.0), (423, 0.0), (429, 0.0), (432, 0.0), (436, 0.0), (438, 0.0), (443, 0.0), (444, 0.0), (450, 0.0), (453, 0.0), (455, 0.0), (459, 0.0), (462, 0.0), (471, 0.0), (473, 0.0), (474, 0.0), (476, 0.0), (478, 0.0), (479, 0.0), (487, 0.0), (489, 0.0), (490, 0.0), (499, 0.0), (502, 0.0), (503, 0.0), (505, 0.0), (518, 0.0), (526, 0.0), (531, 0.0), (536, 0.0), (541, 0.0), (543, 0.0), (544, 0.0), (552, 0.0), (557, 0.0), (558, 0.0), (559, 0.0), (571, 0.0), (573, 0.0), (574, 0.0), (576, 0.0), (579, 0.0), (580, 0.0), (581, 0.0), (584, 0.0), (587, 0.0), (589, 0.0), (593, 0.0), (596, 0.0), (598, 0.0), (604, 0.0), (605, 0.0), (606, 0.0), (607, 0.0), (611, 0.0), (623, 0.0), (624, 0.0), (625, 0.0), (626, 0.0), (628, 0.0), (630, 0.0), (633, 0.0), (636, 0.0), (646, 0.0), (647, 0.0), (649, 0.0), (652, 0.0), (667, 0.0), (676, 0.0), (678, 0.0), (693, 0.0), (694, 0.0), (695, 0.0), (698, 0.0), (707, 0.0), (708, 0.0), (711, 0.0), (718, 0.0), (721, 0.0), (730, 0.0), (735, 0.0), (739, 0.0), (741, 0.0), (754, 0.0), (759, 0.0), (760, 0.0), (761, 0.0), (764, 0.0), (771, 0.0), (774, 0.0), (777, 0.0), (783, 0.0), (784, 0.0), (791, 0.0), (796, 0.0), (799, 0.0), (815, 0.0), (816, 0.0), (823, 0.0), (831, 0.0), (837, 0.0), (839, 0.0), (841, 0.0), (860, 0.0), (861, 0.0), (863, 0.0), (873, 0.0), (876, 0.0), (877, 0.0), (879, 0.0), (884, 0.0), (888, 0.0), (889, 0.0), (893, 0.0), (901, 0.0), (910, 0.0), (917, 0.0), (922, 0.0), (923, 0.0), (925, 0.0), (932, 0.0), (933, 0.0), (941, 0.0), (942, 0.0), (943, 0.0), (944, 0.0), (950, 0.0), (955, 0.0), (959, 0.0), (960, 0.0), (964, 0.0), (967, 0.0), (969, 0.0), (972, 0.0), (976, 0.0), (980, 0.0), (989, 0.0), (998, 0.0), (999, 0.0), (1003, 0.0), (1008, 0.0), (1028, 0.0), (1030, 0.0), (1032, 0.0), (1038, 0.0), (1040, 0.0), (1049, 0.0), (1053, 0.0), (1058, 0.0), (1070, 0.0), (1072, 0.0), (1073, 0.0), (1078, 0.0), (1080, 0.0), (1081, 0.0), (1083, 0.0), (1088, 0.0), (1089, 0.0), (1093, 0.0), (1097, 0.0), (1098, 0.0), (1100, 0.0), (1101, 0.0), (1103, 0.0), (1107, 0.0), (1110, 0.0), (1117, 0.0), (1121, 0.0), (1123, 0.0), (1125, 0.0), (1131, 0.0), (1133, 0.0), (1139, 0.0), (1145, 0.0), (1147, 0.0), (1148, 0.0), (1149, 0.0), (1152, 0.0), (1156, 0.0), (1158, 0.0), (1159, 0.0), (1160, 0.0), (1163, 0.0), (1166, 0.0), (1167, 0.0), (1169, 0.0), (1177, 0.0), (1181, 0.0), (1184, 0.0), (1188, 0.0), (1189, 0.0), (1199, 0.0), (1200, 0.0), (1202, 0.0), (1203, 0.0), (1205, 0.0), (1209, 0.0), (1211, 0.0), (1213, 0.0), (1217, 0.0), (1222, 0.0), (1224, 0.0), (1227, 0.0), (1232, 0.0), (1234, 0.0), (1235, 0.0), (1236, 0.0), (1237, 0.0), (1247, 0.0), (1248, 0.0), (1251, 0.0), (1260, 0.0), (1264, 0.0), (1271, 0.0), (1286, 0.0), (1289, 0.0), (1294, 0.0), (1298, 0.0), (1299, 0.0), (1303, 0.0), (1311, 0.0), (1313, 0.0), (1323, 0.0), (1325, 0.0), (1331, 0.0), (1339, 0.0), (1340, 0.0), (1342, 0.0), (1356, 0.0), (1361, 0.0), (1362, 0.0), (1367, 0.0), (1371, 0.0), (1372, 0.0), (1383, 0.0), (1391, 0.0), (1399, 0.0), (1409, 0.0), (1410, 0.0), (1415, 0.0), (1423, 0.0), (1424, 0.0), (1427, 0.0), (1429, 0.0), (1434, 0.0), (1438, 0.0), (1439, 0.0), (1441, 0.0), (1444, 0.0), (1445, 0.0), (1448, 0.0), (1449, 0.0), (1452, 0.0), (1462, 0.0), (1473, 0.0), (1479, 0.0), (1481, 0.0), (1491, 0.0), (1497, 0.0), (1498, 0.0), (1499, 0.0), (1508, 0.0), (1528, 0.0), (1531, 0.0), (1532, 0.0), (1541, 0.0), (1542, 0.0), (1549, 0.0), (1550, 0.0), (1556, 0.0), (1558, 0.0), (1562, 0.0), (1563, 0.0), (1573, 0.0), (1580, 0.0), (1582, 0.0), (1588, 0.0), (1593, 0.0), (1596, 0.0), (1602, 0.0), (1606, 0.0), (1609, 0.0), (1614, 0.0), (1618, 0.0), (1621, 0.0), (1624, 0.0), (1625, 0.0), (1628, 0.0), (1631, 0.0), (1635, 0.0), (1637, 0.0), (1638, 0.0), (1641, 0.0), (1661, 0.0), (1663, 0.0), (1667, 0.0), (1670, 0.0), (1671, 0.0), (1672, 0.0), (1693, 0.0), (1694, 0.0), (1699, 0.0), (1703, 0.0), (1711, 0.0), (1717, 0.0), (1720, 0.0), (1722, 0.0), (1724, 0.0), (1729, 0.0), (1741, 0.0), (1748, 0.0), (1753, 0.0), (1754, 0.0), (1760, 0.0), (1763, 0.0), (1765, 0.0), (1766, 0.0), (1769, 0.0), (1775, 0.0), (1785, 0.0), (1786, 0.0), (1792, 0.0), (1795, 0.0), (1800, 0.0), (1801, 0.0), (1805, 0.0), (1806, 0.0), (1811, 0.0), (1813, 0.0), (1820, 0.0), (1821, 0.0), (1826, 0.0), (1829, 0.0), (1830, 0.0), (1831, 0.0), (1832, 0.0), (1834, 0.0), (1835, 0.0), (1837, 0.0), (1838, 0.0), (1839, 0.0), (1842, 0.0), (1848, 0.0), (1854, 0.0), (1856, 0.0), (1861, 0.0), (1862, 0.0), (1865, 0.0), (1866, 0.0), (1868, 0.0), (1869, 0.0), (1871, 0.0), (1874, 0.0), (1879, 0.0), (1882, 0.0), (1884, 0.0), (1885, 0.0), (1890, 0.0), (1892, 0.0), (1900, 0.0), (1905, 0.0), (1906, 0.0), (1909, 0.0), (1916, 0.0), (1917, 0.0), (1921, 0.0), (1927, 0.0), (1929, 0.0), (1933, 0.0), (1944, 0.0), (1946, 0.0), (1947, 0.0), (1953, 0.0), (1956, 0.0), (1959, 0.0), (1960, 0.0), (1966, 0.0), (1970, 0.0), (1972, 0.0), (1975, 0.0), (1980, 0.0), (1991, 0.0), (1995, 0.0), (2001, 0.0), (2002, 0.0), (2004, 0.0), (2009, 0.0), (2030, 0.0), (2038, 0.0), (2042, 0.0), (2057, 0.0), (2059, 0.0), (2060, 0.0), (2063, 0.0), (2068, 0.0), (2069, 0.0), (2080, 0.0), (2084, 0.0), (2089, 0.0), (2090, 0.0), (2092, 0.0), (2097, 0.0), (2099, 0.0), (2104, 0.0), (2105, 0.0), (2106, 0.0), (2107, 0.0), (2108, 0.0), (2111, 0.0), (2115, 0.0), (2122, 0.0), (2123, 0.0), (2134, 0.0), (2137, 0.0), (2138, 0.0), (2140, 0.0), (2141, 0.0), (2142, 0.0), (2146, 0.0), (2148, 0.0), (2149, 0.0), (2151, 0.0), (2152, 0.0), (2158, 0.0), (2159, 0.0), (2162, 0.0), (2165, 0.0), (2173, 0.0), (2176, 0.0), (2179, 0.0), (2186, 0.0), (2189, 0.0), (2190, 0.0), (2191, 0.0), (2192, 0.0), (2194, 0.0), (2199, 0.0), (2200, 0.0), (2201, 0.0), (2207, 0.0), (2213, 0.0), (2219, 0.0), (2220, 0.0), (2223, 0.0), (2225, 0.0), (2226, 0.0), (2228, 0.0), (2229, 0.0), (2230, 0.0), (2231, 0.0), (2234, 0.0), (2235, 0.0), (2247, 0.0), (2248, 0.0), (2251, 0.0), (2253, 0.0), (2254, 0.0), (2256, 0.0), (2257, 0.0), (2258, 0.0), (2260, 0.0), (2261, 0.0), (2266, 0.0), (2267, 0.0), (2270, 0.0), (2272, 0.0), (2280, 0.0), (2282, 0.0), (2284, 0.0), (2288, 0.0), (2289, 0.0), (2292, 0.0), (2293, 0.0), (2295, 0.0), (2299, 0.0), (2300, 0.0), (2304, 0.0), (2305, 0.0), (2307, 0.0), (2308, 0.0), (2310, 0.0), (2312, 0.0), (2314, 0.0), (2319, 0.0), (2321, 0.0), (2325, 0.0), (2328, 0.0), (2333, 0.0), (2336, 0.0), (2340, 0.0), (2341, 0.0), (2342, 0.0), (2343, 0.0), (2344, 0.0), (2345, 0.0), (2346, 0.0), (2347, 0.0), (2348, 0.0), (2349, 0.0), (2350, 0.0), (2354, 0.0), (2355, 0.0), (2357, 0.0), (2358, 0.0), (2359, 0.0), (2362, 0.0), (2366, 0.0), (2369, 0.0), (2370, 0.0), (2372, 0.0), (2373, 0.0), (2374, 0.0), (2379, 0.0), (2380, 0.0), (2385, 0.0), (2386, 0.0), (2387, 0.0), (2388, 0.0), (2390, 0.0), (2392, 0.0), (2394, 0.0), (2395, 0.0), (2404, 0.0), (2407, 0.0), (2419, 0.0), (2420, 0.0), (2423, 0.0), (2425, 0.0), (2434, 0.0), (2438, 0.0), (2440, 0.0), (2448, 0.0), (2452, 0.0), (2453, 0.0), (2454, 0.0), (2455, 0.0), (2462, 0.0), (2464, 0.0), (2465, 0.0), (2466, 0.0), (2471, 0.0), (2475, 0.0), (2477, 0.0), (2478, 0.0), (2483, 0.0), (2484, 0.0), (2489, 0.0), (2490, 0.0), (2495, 0.0), (2496, 0.0), (2507, 0.0), (2515, 0.0), (2516, 0.0), (2520, 0.0), (2523, 0.0), (2529, 0.0), (2533, 0.0), (2535, 0.0), (2536, 0.0), (2537, 0.0), (2538, 0.0), (2542, 0.0), (2543, 0.0), (2548, 0.0), (2556, 0.0), (2557, 0.0), (2558, 0.0), (2561, 0.0), (2564, 0.0), (2566, 0.0), (2570, 0.0), (2577, 0.0), (2578, 0.0), (2579, 0.0), (2583, 0.0), (2585, 0.0), (2588, 0.0), (2589, 0.0), (2591, 0.0), (2592, 0.0), (2593, 0.0), (2594, 0.0), (2595, 0.0), (2596, 0.0), (2597, 0.0), (2598, 0.0), (2599, 0.0), (2602, 0.0), (2604, 0.0), (2606, 0.0), (2613, 0.0), (2614, 0.0), (2618, 0.0), (2619, 0.0), (2620, 0.0), (2623, 0.0), (2624, 0.0), (2628, 0.0), (2629, 0.0), (2635, 0.0), (2639, 0.0), (2643, 0.0), (2644, 0.0), (2648, 0.0), (2649, 0.0), (2651, 0.0), (2655, 0.0), (2658, 0.0), (2662, 0.0), (2663, 0.0), (2664, 0.0), (2669, 0.0), (2678, 0.0), (2679, 0.0), (2683, 0.0), (2684, 0.0), (2685, 0.0), (2686, 0.0), (2693, 0.0), (2694, 0.0), (2695, 0.0), (2696, 0.0), (2700, 0.0), (2702, 0.0), (2703, 0.0), (2704, 0.0), (2705, 0.0), (2709, 0.0), (2716, 0.0), (2717, 0.0), (2721, 0.0), (2722, 0.0), (2723, 0.0), (2727, 0.0), (2731, 0.0), (2737, 0.0), (2743, 0.0), (2748, 0.0), (2750, 0.0), (2752, 0.0), (2753, 0.0), (2757, 0.0), (2762, 0.0), (2764, 0.0), (2770, 0.0), (2771, 0.0), (2773, 0.0), (2775, 0.0), (2776, 0.0), (2782, 0.0), (2786, 0.0), (2796, 0.0), (2797, 0.0), (2799, 0.0), (2800, 0.0), (2802, 0.0), (2821, 0.0), (2823, 0.0), (2824, 0.0), (2827, 0.0), (2828, 0.0), (2832, 0.0), (2833, 0.0), (2835, 0.0), (2836, 0.0), (2838, 0.0), (2839, 0.0), (2846, 0.0), (2849, 0.0), (2852, 0.0), (2853, 0.0), (2858, 0.0), (2861, 0.0), (2863, 0.0), (2866, 0.0), (2869, 0.0), (2870, 0.0), (2872, 0.0), (2875, 0.0), (2879, 0.0), (2882, 0.0), (2883, 0.0), (2886, 0.0), (2889, 0.0), (2890, 0.0), (2891, 0.0), (2894, 0.0), (2896, 0.0), (2901, 0.0), (2902, 0.0), (2904, 0.0), (2905, 0.0), (2907, 0.0), (2909, 0.0), (2912, 0.0), (2914, 0.0), (2916, 0.0), (2919, 0.0), (2923, 0.0), (2924, 0.0), (2925, 0.0), (2926, 0.0), (2928, 0.0), (2930, 0.0), (2932, 0.0), (2934, 0.0), (2939, 0.0), (2941, 0.0), (2945, 0.0), (2949, 0.0), (2953, 0.0), (2957, 0.0), (2961, 0.0), (2966, 0.0), (2967, 0.0), (2968, 0.0), (2970, 0.0), (2972, 0.0), (2973, 0.0), (2974, 0.0), (2976, 0.0), (2978, 0.0), (2983, 0.0), (2986, 0.0), (2987, 0.0), (2991, 0.0), (2993, 0.0), (2994, 0.0), (2997, 0.0), (2999, 0.0), (3000, 0.0), (3003, 0.0), (3004, 0.0), (3006, 0.0), (3007, 0.0), (3009, 0.0), (3012, 0.0), (3013, 0.0), (3014, 0.0), (3015, 0.0), (3016, 0.0), (3017, 0.0), (3019, 0.0), (3020, 0.0), (3021, 0.0), (3025, 0.0), (3029, 0.0), (3030, 0.0), (3031, 0.0), (3035, 0.0), (3036, 0.0), (3037, 0.0), (3038, 0.0), (3040, 0.0), (3042, 0.0), (3047, 0.0), (3048, 0.0), (3049, 0.0), (3050, 0.0), (3052, 0.0), (3054, 0.0), (3061, 0.0), (3068, 0.0), (3069, 0.0), (3072, 0.0), (3074, 0.0), (3075, 0.0), (3076, 0.0), (3077, 0.0), (3078, 0.0), (3079, 0.0), (3080, 0.0), (3081, 0.0), (3084, 0.0), (3087, 0.0), (3088, 0.0), (3092, 0.0), (3098, 0.0), (3101, 0.0), (3104, 0.0), (3106, 0.0), (3107, 0.0), (3110, 0.0), (3113, 0.0), (3116, 0.0), (3118, 0.0), (3119, 0.0), (3123, 0.0), (3128, 0.0), (3137, 0.0), (3138, 0.0), (3139, 0.0), (3140, 0.0), (3146, 0.0), (3148, 0.0), (3154, 0.0), (3155, 0.0), (3158, 0.0), (3159, 0.0), (3160, 0.0), (3166, 0.0), (3170, 0.0), (3171, 0.0), (3173, 0.0), (3175, 0.0), (3176, 0.0), (3178, 0.0), (3179, 0.0), (3180, 0.0), (3182, 0.0), (3183, 0.0), (3187, 0.0), (3190, 0.0), (3194, 0.0), (3195, 0.0), (3196, 0.0), (3203, 0.0), (3204, 0.0), (3212, 0.0), (3214, 0.0), (3216, 0.0), (3217, 0.0), (3220, 0.0), (3224, 0.0), (3229, 0.0), (3235, 0.0), (3236, 0.0), (3239, 0.0), (3243, 0.0), (3248, 0.0), (3249, 0.0), (3250, 0.0), (3251, 0.0), (3252, 0.0), (3255, 0.0), (3257, 0.0), (3258, 0.0), (3261, 0.0), (3262, 0.0), (3266, 0.0), (3268, 0.0), (3273, 0.0), (3274, 0.0), (3278, 0.0), (3281, 0.0), (3282, 0.0), (3285, 0.0), (3290, 0.0), (3291, 0.0), (3292, 0.0), (3296, 0.0), (3301, 0.0), (3304, 0.0), (3305, 0.0), (3307, 0.0), (3313, 0.0), (3314, 0.0), (3319, 0.0), (3322, 0.0), (3324, 0.0), (3325, 0.0), (3331, 0.0), (3333, 0.0), (3334, 0.0), (3335, 0.0), (3337, 0.0), (3338, 0.0), (3341, 0.0), (3347, 0.0), (3349, 0.0), (3350, 0.0), (3351, 0.0), (3352, 0.0), (3354, 0.0), (3357, 0.0), (3358, 0.0), (3359, 0.0), (3363, 0.0), (3369, 0.0), (3371, 0.0), (3372, 0.0), (3380, 0.0), (3381, 0.0), (3382, 0.0), (3391, 0.0), (3396, 0.0), (3401, 0.0), (3402, 0.0), (3406, 0.0), (3413, 0.0), (3415, 0.0), (3417, 0.0), (3418, 0.0), (3422, 0.0), (3425, 0.0), (3428, 0.0), (3431, 0.0), (3433, 0.0), (3436, 0.0), (3437, 0.0), (3449, 0.0), (3452, 0.0), (3455, 0.0), (3460, 0.0), (3462, 0.0), (3471, 0.0), (3473, 0.0), (3474, 0.0), (3475, 0.0), (3476, 0.0), (3478, 0.0), (3479, 0.0), (3485, 0.0), (3487, 0.0), (3488, 0.0), (3489, 0.0), (3494, 0.0), (3495, 0.0), (3496, 0.0), (3498, 0.0), (3500, 0.0), (3501, 0.0), (3503, 0.0), (3505, 0.0), (3510, 0.0), (3511, 0.0), (3512, 0.0), (3517, 0.0), (3519, 0.0), (3521, 0.0), (3527, 0.0), (3529, 0.0), (3534, 0.0), (3535, 0.0), (3537, 0.0), (3540, 0.0), (3542, 0.0), (3543, 0.0), (3544, 0.0), (3545, 0.0), (3548, 0.0), (3550, 0.0), (3552, 0.0), (3561, 0.0), (3565, 0.0), (3569, 0.0), (3570, 0.0), (3571, 0.0), (3572, 0.0), (3573, 0.0), (3575, 0.0), (3576, 0.0), (3580, 0.0), (3581, 0.0), (3589, 0.0), (3590, 0.0), (3601, 0.0), (3606, 0.0), (3607, 0.0), (3608, 0.0), (3611, 0.0), (3614, 0.0), (3615, 0.0), (3617, 0.0), (3620, 0.0), (3621, 0.0), (3622, 0.0), (3624, 0.0), (3625, 0.0), (3627, 0.0), (3631, 0.0), (3636, 0.0), (3639, 0.0), (3640, 0.0), (3647, 0.0), (3649, 0.0), (3652, 0.0), (3653, 0.0), (3659, 0.0), (3662, 0.0), (3663, 0.0), (3664, 0.0), (3666, 0.0), (3669, 0.0), (3672, 0.0), (3673, 0.0), (3675, 0.0), (3679, 0.0), (3682, 0.0), (3683, 0.0), (3686, 0.0), (3687, 0.0), (3688, 0.0), (3691, 0.0), (3699, 0.0), (3702, 0.0), (3704, 0.0), (3705, 0.0), (3714, 0.0), (3716, 0.0), (3717, 0.0), (3719, 0.0), (3721, 0.0), (3725, 0.0), (3727, 0.0), (3729, 0.0), (3737, 0.0), (3740, 0.0), (3745, 0.0), (3749, 0.0), (3753, 0.0), (3754, 0.0), (3755, 0.0), (3756, 0.0), (3757, 0.0), (3758, 0.0), (3761, 0.0), (3762, 0.0), (3763, 0.0), (3764, 0.0), (3766, 0.0), (3768, 0.0), (3769, 0.0), (3770, 0.0), (3772, 0.0), (3775, 0.0), (3779, 0.0), (3781, 0.0), (3788, 0.0), (3789, 0.0), (3791, 0.0), (3796, 0.0), (3799, 0.0), (3800, 0.0), (3804, 0.0), (3806, 0.0), (3808, 0.0), (3809, 0.0), (3811, 0.0), (3815, 0.0), (3816, 0.0), (3820, 0.0), (3824, 0.0), (3827, 0.0), (3828, 0.0), (3832, 0.0), (3833, 0.0), (3836, 0.0), (3838, 0.0), (3842, 0.0), (3843, 0.0), (3845, 0.0), (3848, 0.0), (3851, 0.0), (3853, 0.0), (3856, 0.0), (3859, 0.0), (3861, 0.0), (3863, 0.0), (3867, 0.0), (3872, 0.0), (3873, 0.0), (3874, 0.0), (3878, 0.0), (3879, 0.0), (3882, 0.0), (3883, 0.0), (3884, 0.0), (3885, 0.0), (3887, 0.0), (3888, 0.0), (3889, 0.0), (3892, 0.0), (3893, 0.0), (3896, 0.0), (3899, 0.0), (3900, 0.0), (3901, 0.0), (3902, 0.0), (3904, 0.0), (3905, 0.0), (3906, 0.0), (3910, 0.0), (3911, 0.0), (3913, 0.0), (3915, 0.0), (3916, 0.0), (3918, 0.0), (3922, 0.0), (3925, 0.0), (3929, 0.0), (3931, 0.0), (3932, 0.0), (3934, 0.0), (3935, 0.0), (3936, 0.0), (3938, 0.0), (3939, 0.0), (3942, 0.0), (3943, 0.0), (3945, 0.0), (3949, 0.0), (3950, 0.0), (3952, 0.0), (3956, 0.0), (3962, 0.0), (3964, 0.0), (3967, 0.0), (3971, 0.0), (3981, 0.0), (3984, 0.0), (3987, 0.0), (3988, 0.0), (3989, 0.0), (3992, 0.0), (3995, 0.0), (3996, 0.0), (3999, 0.0), (4000, 0.0), (4003, 0.0), (4004, 0.0), (4010, 0.0), (4014, 0.0), (4017, 0.0), (4018, 0.0), (4019, 0.0), (4021, 0.0), (4022, 0.0), (4023, 0.0), (4024, 0.0), (4026, 0.0), (4027, 0.0), (4028, 0.0), (4029, 0.0), (4030, 0.0), (4040, 0.0), (4042, 0.0), (4043, 0.0), (4047, 0.0), (4048, 0.0), (4049, 0.0), (4050, 0.0), (4051, 0.0), (4054, 0.0), (4058, 0.0), (4060, 0.0), (4063, 0.0), (4065, 0.0), (4066, 0.0), (4067, 0.0), (4069, 0.0), (4072, 0.0), (4075, 0.0), (4078, 0.0), (4079, 0.0), (4080, 0.0), (4081, 0.0), (4082, 0.0), (4083, 0.0), (4084, 0.0), (4085, 0.0), (4087, 0.0), (4092, 0.0), (4096, 0.0), (4102, 0.0), (4104, 0.0), (4105, 0.0), (4107, 0.0), (4113, 0.0), (4115, 0.0), (4117, 0.0), (4123, 0.0), (4126, 0.0), (4127, 0.0), (4129, 0.0), (4132, 0.0), (4133, 0.0), (4139, 0.0), (4140, 0.0), (4145, 0.0), (4147, 0.0), (4149, 0.0), (4150, 0.0), (4161, 0.0), (4162, 0.0), (4163, 0.0), (4164, 0.0), (4165, 0.0), (4166, 0.0), (4170, 0.0), (4172, 0.0), (4175, 0.0), (4178, 0.0), (4179, 0.0), (4183, 0.0), (4184, 0.0), (4190, 0.0), (4198, 0.0), (4200, 0.0), (4204, 0.0), (4206, 0.0), (4208, 0.0), (4209, 0.0), (4212, 0.0), (4213, 0.0), (4214, 0.0), (4215, 0.0), (4216, 0.0), (4219, 0.0), (4220, 0.0), (4222, 0.0), (4223, 0.0), (4225, 0.0), (4227, 0.0), (4228, 0.0), (4229, 0.0), (4230, 0.0), (4232, 0.0), (4234, 0.0), (4235, 0.0), (4239, 0.0), (4243, 0.0), (4246, 0.0), (4250, 0.0), (4251, 0.0), (4253, 0.0), (4254, 0.0), (4256, 0.0), (4258, 0.0), (4259, 0.0), (4260, 0.0), (4266, 0.0), (4268, 0.0), (4275, 0.0), (4278, 0.0), (4280, 0.0), (4295, 0.0), (4296, 0.0), (4298, 0.0), (4301, 0.0), (4302, 0.0), (4304, 0.0), (4305, 0.0), (4306, 0.0), (4307, 0.0), (4308, 0.0), (4309, 0.0), (4311, 0.0), (4313, 0.0), (4314, 0.0), (4315, 0.0), (4316, 0.0), (4317, 0.0), (4318, 0.0), (4319, 0.0), (4320, 0.0), (4322, 0.0), (4326, 0.0), (4327, 0.0), (4331, 0.0), (4335, 0.0), (4340, 0.0), (4343, 0.0), (4352, 0.0), (4355, 0.0), (4357, 0.0), (4358, 0.0), (4359, 0.0), (4360, 0.0), (4361, 0.0), (4362, 0.0), (4365, 0.0), (4369, 0.0), (4370, 0.0), (4372, 0.0), (4375, 0.0), (4377, 0.0), (4380, 0.0), (4381, 0.0), (4382, 0.0), (4383, 0.0), (4386, 0.0), (4389, 0.0), (4391, 0.0), (4396, 0.0), (4397, 0.0), (4400, 0.0), (4403, 0.0), (4404, 0.0), (4408, 0.0), (4409, 0.0), (4411, 0.0), (4412, 0.0), (4413, 0.0), (4415, 0.0), (4416, 0.0), (4417, 0.0), (4421, 0.0), (4422, 0.0), (4423, 0.0), (4424, 0.0), (4425, 0.0), (4426, 0.0), (4433, 0.0), (4434, 0.0), (4446, 0.0), (4451, 0.0), (4452, 0.0), (4458, 0.0), (4463, 0.0), (4464, 0.0), (4469, 0.0), (4470, 0.0), (4471, 0.0), (4474, 0.0), (4475, 0.0), (4479, 0.0), (4480, 0.0), (4483, 0.0), (4485, 0.0), (4487, 0.0), (4488, 0.0), (4489, 0.0), (4494, 0.0), (4495, 0.0), (4496, 0.0), (4498, 0.0), (4499, 0.0), (4500, 0.0), (4502, 0.0), (4505, 0.0), (4506, 0.0), (4507, 0.0), (4508, 0.0), (4510, 0.0), (4512, 0.0), (4513, 0.0), (4514, 0.0), (4517, 0.0), (4518, 0.0), (4520, 0.0), (4521, 0.0), (4522, 0.0), (4527, 0.0), (4528, 0.0), (4529, 0.0), (4530, 0.0), (4532, 0.0), (4536, 0.0), (4537, 0.0), (4538, 0.0), (4539, 0.0), (4540, 0.0), (4544, 0.0), (4545, 0.0), (4546, 0.0), (4547, 0.0), (4555, 0.0), (4556, 0.0), (4558, 0.0), (4559, 0.0), (4560, 0.0), (4561, 0.0), (4562, 0.0), (4563, 0.0), (4571, 0.0), (4572, 0.0), (4575, 0.0), (4577, 0.0), (4578, 0.0), (4579, 0.0), (4580, 0.0), (4582, 0.0), (4583, 0.0), (4584, 0.0), (4585, 0.0), (4593, 0.0), (4595, 0.0), (4599, 0.0), (4602, 0.0), (4607, 0.0), (4615, 0.0), (4616, 0.0), (4617, 0.0), (4618, 0.0), (4620, 0.0), (4622, 0.0), (4625, 0.0), (4627, 0.0), (4628, 0.0), (4632, 0.0), (4633, 0.0), (4636, 0.0), (4637, 0.0), (4638, 0.0), (4641, 0.0), (4644, 0.0), (4645, 0.0), (4648, 0.0), (4650, 0.0), (4651, 0.0), (4655, 0.0), (4657, 0.0), (4662, 0.0), (4664, 0.0), (4667, 0.0), (4668, 0.0), (4669, 0.0), (4670, 0.0), (4671, 0.0), (4672, 0.0), (4675, 0.0), (4677, 0.0), (4678, 0.0), (4680, 0.0), (4681, 0.0), (4683, 0.0), (4691, 0.0), (4692, 0.0), (4693, 0.0), (4694, 0.0), (4696, 0.0), (4700, 0.0), (4701, 0.0), (4702, 0.0), (4704, 0.0), (4706, 0.0), (4707, 0.0), (4710, 0.0), (4711, 0.0), (4712, 0.0), (4713, 0.0), (4714, 0.0), (4717, 0.0), (4718, 0.0), (4719, 0.0), (4720, 0.0), (4722, 0.0), (4724, 0.0), (4728, 0.0), (4729, 0.0), (4730, 0.0), (4734, 0.0), (4735, 0.0), (4736, 0.0), (4737, 0.0), (4740, 0.0), (4744, 0.0), (4746, 0.0), (4749, 0.0), (4750, 0.0), (4751, 0.0), (4753, 0.0), (4758, 0.0), (4759, 0.0)]\n"
          ]
        }
      ]
    },
    {
      "cell_type": "code",
      "source": [
        "#print the name o similar movie based on the index\n",
        "print('Top 30 Movies Suggested for You:\\n')\n",
        "i=1\n",
        "for movie in Sorted_similar_Movie:\n",
        "  index=movie[0]\n",
        "  title_from_index=df[df.index==index]['Movie_Title'].values[0]\n",
        "  if (i<31):\n",
        "    print(i,'.',title_from_index)\n",
        "    i+=1"
      ],
      "metadata": {
        "colab": {
          "base_uri": "https://localhost:8080/"
        },
        "id": "Jo7_tMxOvHjJ",
        "outputId": "06130d70-1aa1-4bf5-ab68-412826cd8129"
      },
      "execution_count": 48,
      "outputs": [
        {
          "output_type": "stream",
          "name": "stdout",
          "text": [
            "Top 30 Movies Suggested for You:\n",
            "\n",
            "1 . Pirates of the Caribbean: The Curse of the Black Pearl\n",
            "2 . Pirates of the Caribbean: At World's End\n",
            "3 . Pirates of the Caribbean: Dead Man's Chest\n",
            "4 . Anna and the King\n",
            "5 . Pirates of the Caribbean: On Stranger Tides\n",
            "6 . The Lone Ranger\n",
            "7 . Rango\n",
            "8 . Dark Shadows\n",
            "9 . The Lord of the Rings: The Return of the King\n",
            "10 . The Mexican\n",
            "11 . Kingdom of Heaven\n",
            "12 . How to Train Your Dragon\n",
            "13 . The Lord of the Rings: The Fellowship of the Ring\n",
            "14 . Cutthroat Island\n",
            "15 . The Duchess\n",
            "16 . The Lord of the Rings: The Two Towers\n",
            "17 . The Front Page\n",
            "18 . The Road to El Dorado\n",
            "19 . From Hell\n",
            "20 . Return to the Blue Lagoon\n",
            "21 . Elizabethtown\n",
            "22 . Nim's Island\n",
            "23 . Shine\n",
            "24 . The Warrior's Way\n",
            "25 . The Three Musketeers\n",
            "26 . Seeking a Friend for the End of the World\n",
            "27 . The Jacket\n",
            "28 . Cast Away\n",
            "29 . Pride & Prejudice\n",
            "30 . The Imaginarium of Doctor Parnassus\n"
          ]
        }
      ]
    },
    {
      "cell_type": "code",
      "source": [
        "#ff\n",
        "Movie_Name = input(' Enter your favourite movie name : ')\n",
        "\n",
        "list_of_all_titles= df['Movie_Title'].tolist()\n",
        "\n",
        "Find_Close_Match=difflib.get_close_matches(Movie_Name, list_of_all_titles)\n",
        "\n",
        "Close_Match=Find_Close_Match[0]\n",
        "\n",
        "Index_of_Movie = df[df.Movie_Title == Close_Match] ['Movie_ID'].values[0]\n",
        "\n",
        "Recommendation_Score = list(enumerate(similarity_Score[Index_of_Movie]))\n",
        "\n",
        "sorted_similar_movies = sorted(Recommendation_Score, key=lambda x:x[1], reverse = True)\n",
        "\n",
        "print(\"Top 10 Movies suggested for you: \\n\")\n",
        "\n",
        "i=1\n",
        "\n",
        "for movie in sorted_similar_movies:\n",
        "  index = movie[0]\n",
        "  title_from_index = df [df.Movie_ID==index] ['Movie_Title'].values\n",
        "  if (i<11):\n",
        "    print(i, '.',title_from_index)\n",
        "    i+=1\n"
      ],
      "metadata": {
        "colab": {
          "base_uri": "https://localhost:8080/"
        },
        "id": "zXWYrsGfvHfp",
        "outputId": "cd473c7f-ae79-4aa4-eaf9-03eb804cd4b3"
      },
      "execution_count": 55,
      "outputs": [
        {
          "output_type": "stream",
          "name": "stdout",
          "text": [
            " Enter your favourite movie name : Dhoom 2\n",
            "Top 10 Movies suggested for you: \n",
            "\n",
            "1 . ['Doom']\n",
            "2 . ['Blue Jasmine']\n",
            "3 . []\n",
            "4 . ['Ira & Abby']\n",
            "5 . ['Bathory: Countess of Blood']\n",
            "6 . ['Untraceable']\n",
            "7 . ['The Family Man']\n",
            "8 . ['Hansel & Gretel: Witch Hunters']\n",
            "9 . ['Vera Drake']\n",
            "10 . ['Perfume: The Story of a Murderer']\n"
          ]
        }
      ]
    },
    {
      "cell_type": "markdown",
      "source": [],
      "metadata": {
        "id": "HMpf2zn7o8Aw"
      }
    }
  ]
}